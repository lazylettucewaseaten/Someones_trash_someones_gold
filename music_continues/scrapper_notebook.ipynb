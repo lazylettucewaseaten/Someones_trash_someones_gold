{
 "cells": [
  {
   "cell_type": "code",
   "execution_count": 15,
   "metadata": {},
   "outputs": [
    {
     "name": "stdout",
     "output_type": "stream",
     "text": [
      "Title: Nadiyon Sa\n",
      "Artists: Mitraz\n",
      "\n",
      "Title: LOVE CITY\n",
      "Artists: MC INSANE, Rishi Roy, MC Headshot, fyfly\n",
      "\n",
      "Title: Parwah\n",
      "Artists: Agsy, Rishi Roy\n",
      "\n",
      "Title: Barsaat (feat. Rishi Roy & Ankee)\n",
      "Artists: Harjas Harjaayi, Rishi Roy, Ankee\n",
      "\n",
      "Title: DTAL\n",
      "Artists: Rishi Roy\n",
      "\n",
      "Title: Pal Bhar\n",
      "Artists: Harjas Harjaayi, Rishi Roy\n",
      "\n",
      "Title: Anxiety\n",
      "Artists: Rishi Roy, Harjas Harjaayi\n",
      "\n",
      "Title: NISHANI\n",
      "Artists: Rishi Roy, Dabzee\n",
      "\n",
      "Title: KYUN\n",
      "Artists: Karakoram, Hasan Raheem\n",
      "\n",
      "Title: Kaise Banu\n",
      "Artists: Taaruk Raina\n",
      "\n",
      "Title: Fana\n",
      "Artists: Hasan Raheem, JJ47, Abdullah Kasumbi\n",
      "\n",
      "Title: Fursat\n",
      "Artists: Hasan Raheem, Shehryar Khan\n",
      "\n",
      "Title: Departure Lane\n",
      "Artists: Talha Anjum, Umair\n",
      "\n",
      "Title: 4U\n",
      "Artists: Maanu\n",
      "\n",
      "Title: Muskurahat\n",
      "Artists: Mitraz\n",
      "\n",
      "Title: Akhiyaan\n",
      "Artists: Mitraz\n",
      "\n",
      "Title: Shaayar\n",
      "Artists: Bharat Chauhan, Seedhe Maut\n",
      "\n",
      "Title: Long time no see\n",
      "Artists: Taimour Baig, Raffey Anwar, AUR\n",
      "\n",
      "Title: Shillong\n",
      "Artists: Suryansh Bhatt\n",
      "\n"
     ]
    }
   ],
   "source": [
    "from bs4 import BeautifulSoup\n",
    "from selenium import webdriver\n",
    "import requests\n",
    "\n",
    "# driver = webdriver.Chrome()\n",
    "url = \"https://open.spotify.com/playlist/1s7G6BsQa3QuqsMjnmQJzy?si=thqUWGlWTaWRUNFmzYWDQA&pi=sO0bxTEeRoe6B\"\n",
    "response = requests.get(url)\n",
    "\n",
    "soup = BeautifulSoup(response.text, 'html.parser')\n",
    "\n",
    "\n",
    "tracks = soup.find_all('div', {'data-testid': 'track-row'})\n",
    "\n",
    "for track in tracks:\n",
    "    title = track.find('p', {'data-encore-id': 'listRowTitle'}).text.strip()\n",
    "    artists = track.find('p', {'data-encore-id': 'listRowSubtitle'}).text.strip()\n",
    "    print(f\"Title: {title}\")\n",
    "    title.split(\" \")"
   ]
  },
  {
   "cell_type": "code",
   "execution_count": 16,
   "metadata": {},
   "outputs": [],
   "source": [
    "from yt_dlp import YoutubeDL"
   ]
  },
  {
   "cell_type": "code",
   "execution_count": 17,
   "metadata": {},
   "outputs": [
    {
     "name": "stderr",
     "output_type": "stream",
     "text": [
      "[debug] Encodings: locale UTF-8, fs utf-8, pref UTF-8, out UTF-8 (No ANSI), error UTF-8 (No ANSI), screen UTF-8 (No ANSI)\n",
      "[debug] yt-dlp version stable@2025.01.26 from yt-dlp/yt-dlp [3b4531934] (pip) API\n",
      "[debug] params: {'quiet': False, 'verbose': True, 'format': 'bestaudio/best', 'postprocessors': [{'key': 'FFmpegExtractAudio', 'preferredcodec': 'mp3', 'preferredquality': '192'}], 'outtmpl': '%(title)s.%(ext)s', 'cookiefile': 'cookies.txt', 'compat_opts': set(), 'http_headers': {'User-Agent': 'Mozilla/5.0 (Windows NT 10.0; Win64; x64) AppleWebKit/537.36 (KHTML, like Gecko) Chrome/95.0.4638.17 Safari/537.36', 'Accept': 'text/html,application/xhtml+xml,application/xml;q=0.9,*/*;q=0.8', 'Accept-Language': 'en-us,en;q=0.5', 'Sec-Fetch-Mode': 'navigate'}}\n"
     ]
    },
    {
     "name": "stderr",
     "output_type": "stream",
     "text": [
      "[debug] Python 3.10.14 (CPython x86_64 64bit) - Linux-6.8.0-51-generic-x86_64-with-glibc2.35 (OpenSSL 3.3.1 4 Jun 2024, glibc 2.35)\n",
      "[debug] exe versions: ffmpeg 4.4.2 (setts), ffprobe 4.4.2\n",
      "[debug] Optional libraries: Cryptodome-3.21.0, brotli-1.1.0, certifi-2024.07.04, mutagen-1.47.0, requests-2.32.3, sqlite3-3.45.3, urllib3-1.26.20, websockets-14.1\n",
      "[debug] Proxy map: {}\n",
      "[debug] Request Handlers: urllib, requests, websockets\n",
      "[debug] Loaded 1839 extractors\n"
     ]
    },
    {
     "name": "stdout",
     "output_type": "stream",
     "text": [
      "[youtube:search] Extracting URL: ytsearch:Nadiyon Sa Mitraz\n",
      "[download] Downloading playlist: Nadiyon Sa Mitraz\n",
      "[youtube:search] query \"Nadiyon Sa Mitraz\": Downloading web client config\n",
      "[youtube:search] query \"Nadiyon Sa Mitraz\" page 1: Downloading API JSON\n",
      "[youtube:search] Playlist Nadiyon Sa Mitraz: Downloading 1 items of 1\n"
     ]
    },
    {
     "name": "stderr",
     "output_type": "stream",
     "text": [
      "[debug] The information of all playlist entries will be held in memory\n"
     ]
    },
    {
     "name": "stdout",
     "output_type": "stream",
     "text": [
      "[download] Downloading item 1 of 1\n",
      "[youtube] Extracting URL: https://www.youtube.com/watch?v=r6LNuLH4skg\n",
      "[youtube] r6LNuLH4skg: Downloading webpage\n",
      "[youtube] r6LNuLH4skg: Downloading tv client config\n",
      "[youtube] r6LNuLH4skg: Downloading player 37364e28\n",
      "[youtube] r6LNuLH4skg: Downloading tv player API JSON\n",
      "[youtube] r6LNuLH4skg: Downloading ios player API JSON\n"
     ]
    },
    {
     "name": "stderr",
     "output_type": "stream",
     "text": [
      "[debug] Loading youtube-nsig.37364e28 from cache\n",
      "[debug] [youtube] Decrypted nsig w-H14Ry1zLkdeaGI => Jp95xu22A-EzMw\n",
      "[debug] Loading youtube-nsig.37364e28 from cache\n",
      "[debug] [youtube] Decrypted nsig h4NfWg121xsIoh4H => KT4SjAxI23oDqw\n",
      "[debug] [youtube] r6LNuLH4skg: ios client https formats require a GVS PO Token which was not provided. They will be skipped as they may yield HTTP Error 403. You can manually pass a GVS PO Token for this client with --extractor-args \"youtube:po_token=ios.gvs+XXX\". For more information, refer to  https://github.com/yt-dlp/yt-dlp/wiki/PO-Token-Guide . To enable these broken formats anyway, pass --extractor-args \"youtube:formats=missing_pot\"\n"
     ]
    },
    {
     "name": "stdout",
     "output_type": "stream",
     "text": [
      "[youtube] r6LNuLH4skg: Downloading m3u8 information\n"
     ]
    },
    {
     "name": "stderr",
     "output_type": "stream",
     "text": [
      "[debug] Sort order given by extractor: quality, res, fps, hdr:12, source, vcodec, channels, acodec, lang, proto\n",
      "[debug] Formats sorted by: hasvid, ie_pref, quality, res, fps, hdr:12(7), source, vcodec, channels, acodec, lang, proto, size, br, asr, vext, aext, hasaud, id\n"
     ]
    },
    {
     "name": "stdout",
     "output_type": "stream",
     "text": [
      "[info] r6LNuLH4skg: Downloading 1 format(s): 251\n"
     ]
    },
    {
     "name": "stderr",
     "output_type": "stream",
     "text": [
      "[debug] Invoking http downloader on \"https://rr3---sn-o3o-qxaz.googlevideo.com/videoplayback?expire=1738022718&ei=3sqXZ_849LX1_A_M_7nYDA&ip=103.147.138.252&id=o-AKFRimmmZYr4xDeCHiFN5qzCZXxKhyXRV1Yz_a94bC16&itag=251&source=youtube&requiressl=yes&xpc=EgVo2aDSNQ%3D%3D&met=1738001118%2C&mh=rq&mm=31%2C29&mn=sn-o3o-qxaz%2Csn-cvhelnll&ms=au%2Crdu&mv=m&mvi=3&pl=24&rms=au%2Cau&initcwndbps=1685000&bui=AY2Et-P35PJNQ8b0ylpoJo_vZcVwZrZWODwmGhfhkvCzGyRWg-7WBIHGUhMEUXPd7IqmPcHrgnKeaZym&vprv=1&svpuc=1&mime=audio%2Fwebm&ns=lTZwsAVZ4FZZ5MVKb2UfLCIQ&rqh=1&gir=yes&clen=2747625&dur=163.061&lmt=1726400908368591&mt=1738000860&fvip=1&keepalive=yes&lmw=1&fexp=51326932%2C51353498%2C51371294&c=TVHTML5&sefc=1&txp=5532434&n=KT4SjAxI23oDqw&sparams=expire%2Cei%2Cip%2Cid%2Citag%2Csource%2Crequiressl%2Cxpc%2Cbui%2Cvprv%2Csvpuc%2Cmime%2Cns%2Crqh%2Cgir%2Cclen%2Cdur%2Clmt&sig=AJfQdSswRQIgGk2UUW2YSpSGmJyjx3GpuIsNbHrvp6SRoz2kufGsQKACIQDoSqf82DciF0pe9y_44UlwDlKLfRBmysxttxLv3tjUeA%3D%3D&lsparams=met%2Cmh%2Cmm%2Cmn%2Cms%2Cmv%2Cmvi%2Cpl%2Crms%2Cinitcwndbps&lsig=AGluJ3MwRAIgWSpEjSQZy2ZCRxkq920k_AwpgiG941HU7YKYi9g43XICIH0RMZJ45sgELXRn9WmsK6F0akcbHw3Efsh0DAvOmgqy\"\n"
     ]
    },
    {
     "name": "stdout",
     "output_type": "stream",
     "text": [
      "[download] Destination: MITRAZ - Nadiyon sa (Official Video).webm\n",
      "[download] 100% of    2.62MiB in 00:00:01 at 1.74MiB/s   \n"
     ]
    },
    {
     "name": "stderr",
     "output_type": "stream",
     "text": [
      "[debug] ffmpeg command line: ffprobe -show_streams 'file:MITRAZ - Nadiyon sa (Official Video).webm'\n"
     ]
    },
    {
     "name": "stdout",
     "output_type": "stream",
     "text": [
      "[ExtractAudio] Destination: MITRAZ - Nadiyon sa (Official Video).mp3\n"
     ]
    },
    {
     "name": "stderr",
     "output_type": "stream",
     "text": [
      "[debug] ffmpeg command line: ffmpeg -y -loglevel repeat+info -i 'file:MITRAZ - Nadiyon sa (Official Video).webm' -vn -acodec libmp3lame -b:a 192.0k -movflags +faststart 'file:MITRAZ - Nadiyon sa (Official Video).mp3'\n"
     ]
    },
    {
     "name": "stdout",
     "output_type": "stream",
     "text": [
      "Deleting original file MITRAZ - Nadiyon sa (Official Video).webm (pass -k to keep)\n",
      "[download] Finished downloading playlist: Nadiyon Sa Mitraz\n"
     ]
    },
    {
     "name": "stderr",
     "output_type": "stream",
     "text": [
      "[debug] Encodings: locale UTF-8, fs utf-8, pref UTF-8, out UTF-8 (No ANSI), error UTF-8 (No ANSI), screen UTF-8 (No ANSI)\n",
      "[debug] yt-dlp version stable@2025.01.26 from yt-dlp/yt-dlp [3b4531934] (pip) API\n",
      "[debug] params: {'quiet': False, 'verbose': True, 'format': 'bestaudio/best', 'postprocessors': [{'key': 'FFmpegExtractAudio', 'preferredcodec': 'mp3', 'preferredquality': '192'}], 'outtmpl': '%(title)s.%(ext)s', 'cookiefile': 'cookies.txt', 'compat_opts': set(), 'http_headers': {'User-Agent': 'Mozilla/5.0 (Windows NT 10.0; Win64; x64) AppleWebKit/537.36 (KHTML, like Gecko) Chrome/95.0.4638.17 Safari/537.36', 'Accept': 'text/html,application/xhtml+xml,application/xml;q=0.9,*/*;q=0.8', 'Accept-Language': 'en-us,en;q=0.5', 'Sec-Fetch-Mode': 'navigate'}}\n",
      "[debug] Python 3.10.14 (CPython x86_64 64bit) - Linux-6.8.0-51-generic-x86_64-with-glibc2.35 (OpenSSL 3.3.1 4 Jun 2024, glibc 2.35)\n",
      "[debug] exe versions: ffmpeg 4.4.2 (setts), ffprobe 4.4.2\n",
      "[debug] Optional libraries: Cryptodome-3.21.0, brotli-1.1.0, certifi-2024.07.04, mutagen-1.47.0, requests-2.32.3, sqlite3-3.45.3, urllib3-1.26.20, websockets-14.1\n",
      "[debug] Proxy map: {}\n",
      "[debug] Request Handlers: urllib, requests, websockets\n",
      "[debug] Loaded 1839 extractors\n"
     ]
    },
    {
     "name": "stdout",
     "output_type": "stream",
     "text": [
      "First video URL: https://www.youtube.com/watch?v=r6LNuLH4skg\n",
      "[youtube:search] Extracting URL: ytsearch:LOVE CITY MC INSANE, Rishi Roy, MC Headshot, fyfly\n",
      "[download] Downloading playlist: LOVE CITY MC INSANE, Rishi Roy, MC Headshot, fyfly\n",
      "[youtube:search] query \"LOVE CITY MC INSANE, Rishi Roy, MC Headshot, fyfly\": Downloading web client config\n",
      "[youtube:search] query \"LOVE CITY MC INSANE, Rishi Roy, MC Headshot, fyfly\" page 1: Downloading API JSON\n",
      "[youtube:search] Playlist LOVE CITY MC INSANE, Rishi Roy, MC Headshot, fyfly: Downloading 1 items of 1\n"
     ]
    },
    {
     "name": "stderr",
     "output_type": "stream",
     "text": [
      "[debug] The information of all playlist entries will be held in memory\n"
     ]
    },
    {
     "name": "stdout",
     "output_type": "stream",
     "text": [
      "[download] Downloading item 1 of 1\n",
      "[youtube] Extracting URL: https://www.youtube.com/watch?v=flGhoaysW08\n",
      "[youtube] flGhoaysW08: Downloading webpage\n",
      "[youtube] flGhoaysW08: Downloading tv client config\n",
      "[youtube] flGhoaysW08: Downloading player 37364e28\n",
      "[youtube] flGhoaysW08: Downloading tv player API JSON\n",
      "[youtube] flGhoaysW08: Downloading ios player API JSON\n"
     ]
    },
    {
     "name": "stderr",
     "output_type": "stream",
     "text": [
      "[debug] [youtube] Extracting signature function js_37364e28_110\n",
      "[debug] Loading youtube-sigfuncs.js_37364e28_110 from cache\n",
      "[debug] Loading youtube-nsig.37364e28 from cache\n",
      "[debug] [youtube] Decrypted nsig 4Pak-frVsq26ZpBQ => Bi2FcjXzsB2OCw\n",
      "[debug] Loading youtube-nsig.37364e28 from cache\n",
      "[debug] [youtube] Decrypted nsig jjropbTPy_ROfs2X => vojUN3D2yY0Ejg\n",
      "[debug] [youtube] Extracting signature function js_37364e28_106\n",
      "[debug] Loading youtube-sigfuncs.js_37364e28_106 from cache\n",
      "[debug] [youtube] flGhoaysW08: ios client https formats require a GVS PO Token which was not provided. They will be skipped as they may yield HTTP Error 403. You can manually pass a GVS PO Token for this client with --extractor-args \"youtube:po_token=ios.gvs+XXX\". For more information, refer to  https://github.com/yt-dlp/yt-dlp/wiki/PO-Token-Guide . To enable these broken formats anyway, pass --extractor-args \"youtube:formats=missing_pot\"\n"
     ]
    },
    {
     "name": "stdout",
     "output_type": "stream",
     "text": [
      "[youtube] flGhoaysW08: Downloading m3u8 information\n"
     ]
    },
    {
     "name": "stderr",
     "output_type": "stream",
     "text": [
      "[debug] Sort order given by extractor: quality, res, fps, hdr:12, source, vcodec, channels, acodec, lang, proto\n",
      "[debug] Formats sorted by: hasvid, ie_pref, quality, res, fps, hdr:12(7), source, vcodec, channels, acodec, lang, proto, size, br, asr, vext, aext, hasaud, id\n"
     ]
    },
    {
     "name": "stdout",
     "output_type": "stream",
     "text": [
      "[info] flGhoaysW08: Downloading 1 format(s): 251\n"
     ]
    },
    {
     "name": "stderr",
     "output_type": "stream",
     "text": [
      "[debug] Invoking http downloader on \"https://rr3---sn-o3o-qxa6.googlevideo.com/videoplayback?expire=1738022725&ei=5cqXZ-D8GcXo9fwPudDt6Ac&ip=103.147.138.252&id=o-AKcpn83H6YQ5cX1KS8eOOElTINqCARD2PllkTvp_MEXj&itag=251&source=youtube&requiressl=yes&xpc=EgVo2aDSNQ%3D%3D&met=1738001125%2C&mh=0D&mm=31%2C29&mn=sn-o3o-qxa6%2Csn-cvh7knll&ms=au%2Crdu&mv=m&mvi=3&pl=24&rms=au%2Cau&initcwndbps=1933750&bui=AY2Et-PS_oBaJ_531jTvg3IBvVR0IiBAq0YxrgTxewOxYd7uPCQzMpWJ-pSPGsaA_RMPm3NmATvsWS08&vprv=1&svpuc=1&mime=audio%2Fwebm&ns=nW-0261bJhBWQaG4TnzKrjAQ&rqh=1&gir=yes&clen=4324301&dur=231.981&lmt=1726777680453886&mt=1738000628&fvip=3&keepalive=yes&lmw=1&fexp=51326932%2C51353498%2C51371294&c=TVHTML5&sefc=1&txp=4532434&n=vojUN3D2yY0Ejg&sparams=expire%2Cei%2Cip%2Cid%2Citag%2Csource%2Crequiressl%2Cxpc%2Cbui%2Cvprv%2Csvpuc%2Cmime%2Cns%2Crqh%2Cgir%2Cclen%2Cdur%2Clmt&lsparams=met%2Cmh%2Cmm%2Cmn%2Cms%2Cmv%2Cmvi%2Cpl%2Crms%2Cinitcwndbps&lsig=AGluJ3MwRAIgI8vfChBGqqkwXnU_LWugXvttIUdAiwG2N5uD4VxB9EACICTmlybcPm-ApYD0beqgbuBTBnvmW5QUzVfj33rEJn_R&sig=AJfQdSswRQIhAOCt6JEwNKOTrxM22LhAvsjoAOvMzv__wkmSI9EOO2WrAiBHNT9RO2iHjeqygjfAfyD6db_EBD94rkMjFLufMzcN8g%3D%3D\"\n"
     ]
    },
    {
     "name": "stdout",
     "output_type": "stream",
     "text": [
      "[download] Destination: MC Insane  X Rishi Roy X MC Headshot - LOVE CITY ( Official Audio Visualizer ).webm\n",
      "[download] 100% of    4.12MiB in 00:00:00 at 7.08MiB/s   \n"
     ]
    },
    {
     "name": "stderr",
     "output_type": "stream",
     "text": [
      "[debug] ffmpeg command line: ffprobe -show_streams 'file:MC Insane  X Rishi Roy X MC Headshot - LOVE CITY ( Official Audio Visualizer ).webm'\n"
     ]
    },
    {
     "name": "stdout",
     "output_type": "stream",
     "text": [
      "[ExtractAudio] Destination: MC Insane  X Rishi Roy X MC Headshot - LOVE CITY ( Official Audio Visualizer ).mp3\n"
     ]
    },
    {
     "name": "stderr",
     "output_type": "stream",
     "text": [
      "[debug] ffmpeg command line: ffmpeg -y -loglevel repeat+info -i 'file:MC Insane  X Rishi Roy X MC Headshot - LOVE CITY ( Official Audio Visualizer ).webm' -vn -acodec libmp3lame -b:a 192.0k -movflags +faststart 'file:MC Insane  X Rishi Roy X MC Headshot - LOVE CITY ( Official Audio Visualizer ).mp3'\n"
     ]
    },
    {
     "name": "stdout",
     "output_type": "stream",
     "text": [
      "Deleting original file MC Insane  X Rishi Roy X MC Headshot - LOVE CITY ( Official Audio Visualizer ).webm (pass -k to keep)\n",
      "[download] Finished downloading playlist: LOVE CITY MC INSANE, Rishi Roy, MC Headshot, fyfly\n"
     ]
    },
    {
     "name": "stderr",
     "output_type": "stream",
     "text": [
      "[debug] Encodings: locale UTF-8, fs utf-8, pref UTF-8, out UTF-8 (No ANSI), error UTF-8 (No ANSI), screen UTF-8 (No ANSI)\n",
      "[debug] yt-dlp version stable@2025.01.26 from yt-dlp/yt-dlp [3b4531934] (pip) API\n",
      "[debug] params: {'quiet': False, 'verbose': True, 'format': 'bestaudio/best', 'postprocessors': [{'key': 'FFmpegExtractAudio', 'preferredcodec': 'mp3', 'preferredquality': '192'}], 'outtmpl': '%(title)s.%(ext)s', 'cookiefile': 'cookies.txt', 'compat_opts': set(), 'http_headers': {'User-Agent': 'Mozilla/5.0 (Windows NT 10.0; Win64; x64) AppleWebKit/537.36 (KHTML, like Gecko) Chrome/95.0.4638.17 Safari/537.36', 'Accept': 'text/html,application/xhtml+xml,application/xml;q=0.9,*/*;q=0.8', 'Accept-Language': 'en-us,en;q=0.5', 'Sec-Fetch-Mode': 'navigate'}}\n",
      "[debug] Python 3.10.14 (CPython x86_64 64bit) - Linux-6.8.0-51-generic-x86_64-with-glibc2.35 (OpenSSL 3.3.1 4 Jun 2024, glibc 2.35)\n",
      "[debug] exe versions: ffmpeg 4.4.2 (setts), ffprobe 4.4.2\n",
      "[debug] Optional libraries: Cryptodome-3.21.0, brotli-1.1.0, certifi-2024.07.04, mutagen-1.47.0, requests-2.32.3, sqlite3-3.45.3, urllib3-1.26.20, websockets-14.1\n",
      "[debug] Proxy map: {}\n",
      "[debug] Request Handlers: urllib, requests, websockets\n",
      "[debug] Loaded 1839 extractors\n"
     ]
    },
    {
     "name": "stdout",
     "output_type": "stream",
     "text": [
      "First video URL: https://www.youtube.com/watch?v=flGhoaysW08\n",
      "[youtube:search] Extracting URL: ytsearch:Parwah Agsy, Rishi Roy\n",
      "[download] Downloading playlist: Parwah Agsy, Rishi Roy\n",
      "[youtube:search] query \"Parwah Agsy, Rishi Roy\": Downloading web client config\n",
      "[youtube:search] query \"Parwah Agsy, Rishi Roy\" page 1: Downloading API JSON\n",
      "[youtube:search] Playlist Parwah Agsy, Rishi Roy: Downloading 1 items of 1\n"
     ]
    },
    {
     "name": "stderr",
     "output_type": "stream",
     "text": [
      "[debug] The information of all playlist entries will be held in memory\n"
     ]
    },
    {
     "name": "stdout",
     "output_type": "stream",
     "text": [
      "[download] Downloading item 1 of 1\n",
      "[youtube] Extracting URL: https://www.youtube.com/watch?v=HZhTHP64los\n",
      "[youtube] HZhTHP64los: Downloading webpage\n",
      "[youtube] HZhTHP64los: Downloading tv client config\n",
      "[youtube] HZhTHP64los: Downloading player 37364e28\n",
      "[youtube] HZhTHP64los: Downloading tv player API JSON\n",
      "[youtube] HZhTHP64los: Downloading ios player API JSON\n"
     ]
    },
    {
     "name": "stderr",
     "output_type": "stream",
     "text": [
      "[debug] [youtube] Extracting signature function js_37364e28_110\n",
      "[debug] Loading youtube-sigfuncs.js_37364e28_110 from cache\n",
      "[debug] Loading youtube-nsig.37364e28 from cache\n",
      "[debug] [youtube] Decrypted nsig D9XLehy_SDHdi9zr => HICcpF2wCg3R5w\n",
      "[debug] Loading youtube-nsig.37364e28 from cache\n",
      "[debug] [youtube] Decrypted nsig Jy_JOu31kjG-1yL1 => Jaki5iPcuizJcg\n",
      "[debug] [youtube] Extracting signature function js_37364e28_106\n",
      "[debug] Loading youtube-sigfuncs.js_37364e28_106 from cache\n",
      "[debug] [youtube] HZhTHP64los: ios client https formats require a GVS PO Token which was not provided. They will be skipped as they may yield HTTP Error 403. You can manually pass a GVS PO Token for this client with --extractor-args \"youtube:po_token=ios.gvs+XXX\". For more information, refer to  https://github.com/yt-dlp/yt-dlp/wiki/PO-Token-Guide . To enable these broken formats anyway, pass --extractor-args \"youtube:formats=missing_pot\"\n"
     ]
    },
    {
     "name": "stdout",
     "output_type": "stream",
     "text": [
      "[youtube] HZhTHP64los: Downloading m3u8 information\n"
     ]
    },
    {
     "name": "stderr",
     "output_type": "stream",
     "text": [
      "[debug] Sort order given by extractor: quality, res, fps, hdr:12, source, vcodec, channels, acodec, lang, proto\n",
      "[debug] Formats sorted by: hasvid, ie_pref, quality, res, fps, hdr:12(7), source, vcodec, channels, acodec, lang, proto, size, br, asr, vext, aext, hasaud, id\n"
     ]
    },
    {
     "name": "stdout",
     "output_type": "stream",
     "text": [
      "[info] HZhTHP64los: Downloading 1 format(s): 251\n"
     ]
    },
    {
     "name": "stderr",
     "output_type": "stream",
     "text": [
      "[debug] Invoking http downloader on \"https://rr1---sn-o3o-qxaz.googlevideo.com/videoplayback?expire=1738022732&ei=7MqXZ4-kL7_i9fwPuY-hgAc&ip=103.147.138.252&id=o-AEWPzKogEV_jN8Jl9LOyVmKIkMc7oIwnPoWCtHk3uMyG&itag=251&source=youtube&requiressl=yes&xpc=EgVo2aDSNQ%3D%3D&met=1738001132%2C&mh=b4&mm=31%2C29&mn=sn-o3o-qxaz%2Csn-cvh76nll&ms=au%2Crdu&mv=m&mvi=1&pl=24&rms=au%2Cau&initcwndbps=1351250&bui=AY2Et-PxNupSimq9fv8zz7YDONoM56zcsOzsx5JH3dnfg0T3rKgz69DOnIrNB8fLRC9lMGIj2SgsNGHJ&vprv=1&svpuc=1&mime=audio%2Fwebm&ns=nc0OKLOVQ-RCicz1lzQtI8IQ&rqh=1&gir=yes&clen=3126376&dur=177.801&lmt=1714622966088304&mt=1738000628&fvip=4&keepalive=yes&lmw=1&fexp=51326932%2C51353498%2C51371294&c=TVHTML5&sefc=1&txp=4402434&n=Jaki5iPcuizJcg&sparams=expire%2Cei%2Cip%2Cid%2Citag%2Csource%2Crequiressl%2Cxpc%2Cbui%2Cvprv%2Csvpuc%2Cmime%2Cns%2Crqh%2Cgir%2Cclen%2Cdur%2Clmt&lsparams=met%2Cmh%2Cmm%2Cmn%2Cms%2Cmv%2Cmvi%2Cpl%2Crms%2Cinitcwndbps&lsig=AGluJ3MwRgIhANJx-9jNT9rdmqu7UIp6QvW9QihQVyp9zJ2XAzG0XPGLAiEAorUo0_qQXOCtHBqBieOca3DullihP9BMqMN3rwQyMCM%3D&sig=AJfQdSswRgIhAPWE8RsxSXFi61VvEfT6cSowjX4pf8-rSQEOMFewI7JIAiEAo5BOvSvWJrk1q6bqgk-BgHBIMikLtdxhltBWzS-wkuA%3D\"\n"
     ]
    },
    {
     "name": "stdout",
     "output_type": "stream",
     "text": [
      "[download] Destination: Parwah - Agsy, @RishiRoyMusic  (Official Music Video).webm\n",
      "[download] 100% of    2.98MiB in 00:00:00 at 4.64MiB/s   \n"
     ]
    },
    {
     "name": "stderr",
     "output_type": "stream",
     "text": [
      "[debug] ffmpeg command line: ffprobe -show_streams 'file:Parwah - Agsy, @RishiRoyMusic  (Official Music Video).webm'\n"
     ]
    },
    {
     "name": "stdout",
     "output_type": "stream",
     "text": [
      "[ExtractAudio] Destination: Parwah - Agsy, @RishiRoyMusic  (Official Music Video).mp3\n"
     ]
    },
    {
     "name": "stderr",
     "output_type": "stream",
     "text": [
      "[debug] ffmpeg command line: ffmpeg -y -loglevel repeat+info -i 'file:Parwah - Agsy, @RishiRoyMusic  (Official Music Video).webm' -vn -acodec libmp3lame -b:a 192.0k -movflags +faststart 'file:Parwah - Agsy, @RishiRoyMusic  (Official Music Video).mp3'\n"
     ]
    },
    {
     "name": "stdout",
     "output_type": "stream",
     "text": [
      "Deleting original file Parwah - Agsy, @RishiRoyMusic  (Official Music Video).webm (pass -k to keep)\n",
      "[download] Finished downloading playlist: Parwah Agsy, Rishi Roy\n"
     ]
    },
    {
     "name": "stderr",
     "output_type": "stream",
     "text": [
      "[debug] Encodings: locale UTF-8, fs utf-8, pref UTF-8, out UTF-8 (No ANSI), error UTF-8 (No ANSI), screen UTF-8 (No ANSI)\n",
      "[debug] yt-dlp version stable@2025.01.26 from yt-dlp/yt-dlp [3b4531934] (pip) API\n",
      "[debug] params: {'quiet': False, 'verbose': True, 'format': 'bestaudio/best', 'postprocessors': [{'key': 'FFmpegExtractAudio', 'preferredcodec': 'mp3', 'preferredquality': '192'}], 'outtmpl': '%(title)s.%(ext)s', 'cookiefile': 'cookies.txt', 'compat_opts': set(), 'http_headers': {'User-Agent': 'Mozilla/5.0 (Windows NT 10.0; Win64; x64) AppleWebKit/537.36 (KHTML, like Gecko) Chrome/95.0.4638.17 Safari/537.36', 'Accept': 'text/html,application/xhtml+xml,application/xml;q=0.9,*/*;q=0.8', 'Accept-Language': 'en-us,en;q=0.5', 'Sec-Fetch-Mode': 'navigate'}}\n",
      "[debug] Python 3.10.14 (CPython x86_64 64bit) - Linux-6.8.0-51-generic-x86_64-with-glibc2.35 (OpenSSL 3.3.1 4 Jun 2024, glibc 2.35)\n",
      "[debug] exe versions: ffmpeg 4.4.2 (setts), ffprobe 4.4.2\n",
      "[debug] Optional libraries: Cryptodome-3.21.0, brotli-1.1.0, certifi-2024.07.04, mutagen-1.47.0, requests-2.32.3, sqlite3-3.45.3, urllib3-1.26.20, websockets-14.1\n",
      "[debug] Proxy map: {}\n",
      "[debug] Request Handlers: urllib, requests, websockets\n",
      "[debug] Loaded 1839 extractors\n"
     ]
    },
    {
     "name": "stdout",
     "output_type": "stream",
     "text": [
      "First video URL: https://www.youtube.com/watch?v=HZhTHP64los\n",
      "[youtube:search] Extracting URL: ytsearch:Barsaat (feat. Rishi Roy & Ankee) Harjas Harjaayi, Rishi Roy, Ankee\n",
      "[download] Downloading playlist: Barsaat (feat. Rishi Roy & Ankee) Harjas Harjaayi, Rishi Roy, Ankee\n",
      "[youtube:search] query \"Barsaat (feat. Rishi Roy & Ankee) Harjas Harjaayi, Rishi Roy, Ankee\": Downloading web client config\n",
      "[youtube:search] query \"Barsaat (feat. Rishi Roy & Ankee) Harjas Harjaayi, Rishi Roy, Ankee\" page 1: Downloading API JSON\n",
      "[youtube:search] Playlist Barsaat (feat. Rishi Roy & Ankee) Harjas Harjaayi, Rishi Roy, Ankee: Downloading 1 items of 1\n"
     ]
    },
    {
     "name": "stderr",
     "output_type": "stream",
     "text": [
      "[debug] The information of all playlist entries will be held in memory\n"
     ]
    },
    {
     "name": "stdout",
     "output_type": "stream",
     "text": [
      "[download] Downloading item 1 of 1\n",
      "[youtube] Extracting URL: https://www.youtube.com/watch?v=SgoBwj7wAL0\n",
      "[youtube] SgoBwj7wAL0: Downloading webpage\n",
      "[youtube] SgoBwj7wAL0: Downloading tv client config\n",
      "[youtube] SgoBwj7wAL0: Downloading player 37364e28\n",
      "[youtube] SgoBwj7wAL0: Downloading tv player API JSON\n",
      "[youtube] SgoBwj7wAL0: Downloading ios player API JSON\n"
     ]
    },
    {
     "name": "stderr",
     "output_type": "stream",
     "text": [
      "[debug] [youtube] Extracting signature function js_37364e28_110\n",
      "[debug] Loading youtube-sigfuncs.js_37364e28_110 from cache\n",
      "[debug] Loading youtube-nsig.37364e28 from cache\n",
      "[debug] [youtube] Decrypted nsig Nju6SNoP1nvjhL86 => vTpm938V4_fJrg\n",
      "[debug] [youtube] Extracting signature function js_37364e28_106\n",
      "[debug] Loading youtube-sigfuncs.js_37364e28_106 from cache\n",
      "[debug] Loading youtube-nsig.37364e28 from cache\n",
      "[debug] [youtube] Decrypted nsig uyr6Sg9GLTkw3bDG => mBt3FKl675xddQ\n",
      "[debug] [youtube] SgoBwj7wAL0: ios client https formats require a GVS PO Token which was not provided. They will be skipped as they may yield HTTP Error 403. You can manually pass a GVS PO Token for this client with --extractor-args \"youtube:po_token=ios.gvs+XXX\". For more information, refer to  https://github.com/yt-dlp/yt-dlp/wiki/PO-Token-Guide . To enable these broken formats anyway, pass --extractor-args \"youtube:formats=missing_pot\"\n"
     ]
    },
    {
     "name": "stdout",
     "output_type": "stream",
     "text": [
      "[youtube] SgoBwj7wAL0: Downloading m3u8 information\n"
     ]
    },
    {
     "name": "stderr",
     "output_type": "stream",
     "text": [
      "[debug] Sort order given by extractor: quality, res, fps, hdr:12, source, vcodec, channels, acodec, lang, proto\n",
      "[debug] Formats sorted by: hasvid, ie_pref, quality, res, fps, hdr:12(7), source, vcodec, channels, acodec, lang, proto, size, br, asr, vext, aext, hasaud, id\n"
     ]
    },
    {
     "name": "stdout",
     "output_type": "stream",
     "text": [
      "[info] SgoBwj7wAL0: Downloading 1 format(s): 251\n"
     ]
    },
    {
     "name": "stderr",
     "output_type": "stream",
     "text": [
      "[debug] Invoking http downloader on \"https://rr3---sn-o3o-qxa6.googlevideo.com/videoplayback?expire=1738022739&ei=88qXZ8DpEI7VssUPtL2JuQY&ip=103.147.138.252&id=o-AEIUE8fbzqPN5GC0qq1JstY8CexR0qIXzyB2aomsQXxu&itag=251&source=youtube&requiressl=yes&xpc=EgVo2aDSNQ%3D%3D&met=1738001139%2C&mh=1Z&mm=31%2C29&mn=sn-o3o-qxa6%2Csn-cvh7knzz&ms=au%2Crdu&mv=m&mvi=3&pl=24&rms=au%2Cau&initcwndbps=1933750&bui=AY2Et-OWuXd-UgDZyAcyfLH_1NEUlWPo0qIJSK9kKyHMoWQ6jWEnxPXH96GAO7NStSRIu6UQQZ1qJ73f&vprv=1&svpuc=1&mime=audio%2Fwebm&ns=WfB0z7Q5orzeZ_pPpI8-JMkQ&rqh=1&gir=yes&clen=4710256&dur=257.741&lmt=1708106296659172&mt=1738000628&fvip=4&keepalive=yes&lmw=1&fexp=51326932%2C51353498%2C51371294&c=TVHTML5&sefc=1&txp=4532434&n=mBt3FKl675xddQ&sparams=expire%2Cei%2Cip%2Cid%2Citag%2Csource%2Crequiressl%2Cxpc%2Cbui%2Cvprv%2Csvpuc%2Cmime%2Cns%2Crqh%2Cgir%2Cclen%2Cdur%2Clmt&lsparams=met%2Cmh%2Cmm%2Cmn%2Cms%2Cmv%2Cmvi%2Cpl%2Crms%2Cinitcwndbps&lsig=AGluJ3MwRAIgSFb73JhQpgW4C9kOnHhrHpsToNVw9vBwCAr1Gj0hI6cCIHO33c2680_EJJ8abu21r265YGqCcxtd22Li0i6h1cn2&sig=AJfQdSswRQIgTZ9JLbzKBDjHuEuMm7F7Hk0vorC9QRYE9Um2f1xEqJgCIQCvpOv5W25aFKWmjhIWi6hH7e_WqQWtOtC3MU_3x0aDuQ%3D%3D\"\n"
     ]
    },
    {
     "name": "stdout",
     "output_type": "stream",
     "text": [
      "[download] Destination: BARSAAT - Harjas Harjaayi Ft. Rishi Roy & Ankee [Official Music Video] ‘X’ ALBUM © SONY MUSIC INDIA.webm\n",
      "[download] 100% of    4.49MiB in 00:00:00 at 6.02MiB/s   \n"
     ]
    },
    {
     "name": "stderr",
     "output_type": "stream",
     "text": [
      "[debug] ffmpeg command line: ffprobe -show_streams 'file:BARSAAT - Harjas Harjaayi Ft. Rishi Roy & Ankee [Official Music Video] ‘X’ ALBUM © SONY MUSIC INDIA.webm'\n"
     ]
    },
    {
     "name": "stdout",
     "output_type": "stream",
     "text": [
      "[ExtractAudio] Destination: BARSAAT - Harjas Harjaayi Ft. Rishi Roy & Ankee [Official Music Video] ‘X’ ALBUM © SONY MUSIC INDIA.mp3\n"
     ]
    },
    {
     "name": "stderr",
     "output_type": "stream",
     "text": [
      "[debug] ffmpeg command line: ffmpeg -y -loglevel repeat+info -i 'file:BARSAAT - Harjas Harjaayi Ft. Rishi Roy & Ankee [Official Music Video] ‘X’ ALBUM © SONY MUSIC INDIA.webm' -vn -acodec libmp3lame -b:a 192.0k -movflags +faststart 'file:BARSAAT - Harjas Harjaayi Ft. Rishi Roy & Ankee [Official Music Video] ‘X’ ALBUM © SONY MUSIC INDIA.mp3'\n"
     ]
    },
    {
     "name": "stdout",
     "output_type": "stream",
     "text": [
      "Deleting original file BARSAAT - Harjas Harjaayi Ft. Rishi Roy & Ankee [Official Music Video] ‘X’ ALBUM © SONY MUSIC INDIA.webm (pass -k to keep)\n",
      "[download] Finished downloading playlist: Barsaat (feat. Rishi Roy & Ankee) Harjas Harjaayi, Rishi Roy, Ankee\n"
     ]
    },
    {
     "name": "stderr",
     "output_type": "stream",
     "text": [
      "[debug] Encodings: locale UTF-8, fs utf-8, pref UTF-8, out UTF-8 (No ANSI), error UTF-8 (No ANSI), screen UTF-8 (No ANSI)\n",
      "[debug] yt-dlp version stable@2025.01.26 from yt-dlp/yt-dlp [3b4531934] (pip) API\n",
      "[debug] params: {'quiet': False, 'verbose': True, 'format': 'bestaudio/best', 'postprocessors': [{'key': 'FFmpegExtractAudio', 'preferredcodec': 'mp3', 'preferredquality': '192'}], 'outtmpl': '%(title)s.%(ext)s', 'cookiefile': 'cookies.txt', 'compat_opts': set(), 'http_headers': {'User-Agent': 'Mozilla/5.0 (Windows NT 10.0; Win64; x64) AppleWebKit/537.36 (KHTML, like Gecko) Chrome/95.0.4638.17 Safari/537.36', 'Accept': 'text/html,application/xhtml+xml,application/xml;q=0.9,*/*;q=0.8', 'Accept-Language': 'en-us,en;q=0.5', 'Sec-Fetch-Mode': 'navigate'}}\n",
      "[debug] Python 3.10.14 (CPython x86_64 64bit) - Linux-6.8.0-51-generic-x86_64-with-glibc2.35 (OpenSSL 3.3.1 4 Jun 2024, glibc 2.35)\n",
      "[debug] exe versions: ffmpeg 4.4.2 (setts), ffprobe 4.4.2\n",
      "[debug] Optional libraries: Cryptodome-3.21.0, brotli-1.1.0, certifi-2024.07.04, mutagen-1.47.0, requests-2.32.3, sqlite3-3.45.3, urllib3-1.26.20, websockets-14.1\n",
      "[debug] Proxy map: {}\n",
      "[debug] Request Handlers: urllib, requests, websockets\n",
      "[debug] Loaded 1839 extractors\n"
     ]
    },
    {
     "name": "stdout",
     "output_type": "stream",
     "text": [
      "First video URL: https://www.youtube.com/watch?v=SgoBwj7wAL0\n",
      "[youtube:search] Extracting URL: ytsearch:DTAL Rishi Roy\n",
      "[download] Downloading playlist: DTAL Rishi Roy\n",
      "[youtube:search] query \"DTAL Rishi Roy\": Downloading web client config\n",
      "[youtube:search] query \"DTAL Rishi Roy\" page 1: Downloading API JSON\n",
      "[youtube:search] Playlist DTAL Rishi Roy: Downloading 1 items of 1\n"
     ]
    },
    {
     "name": "stderr",
     "output_type": "stream",
     "text": [
      "[debug] The information of all playlist entries will be held in memory\n"
     ]
    },
    {
     "name": "stdout",
     "output_type": "stream",
     "text": [
      "[download] Downloading item 1 of 1\n",
      "[youtube] Extracting URL: https://www.youtube.com/watch?v=eNTeFCGZJoc\n",
      "[youtube] eNTeFCGZJoc: Downloading webpage\n",
      "[youtube] eNTeFCGZJoc: Downloading tv client config\n",
      "[youtube] eNTeFCGZJoc: Downloading player 37364e28\n",
      "[youtube] eNTeFCGZJoc: Downloading tv player API JSON\n",
      "[youtube] eNTeFCGZJoc: Downloading ios player API JSON\n"
     ]
    },
    {
     "name": "stderr",
     "output_type": "stream",
     "text": [
      "[debug] Loading youtube-nsig.37364e28 from cache\n",
      "[debug] [youtube] Decrypted nsig YTxXQVYE41mzL-tt => kWsxPjos-d11oA\n",
      "[debug] Loading youtube-nsig.37364e28 from cache\n",
      "[debug] [youtube] Decrypted nsig XJZ1DXxi_bwsBuCm => -RIwZthq5_cGrg\n",
      "[debug] [youtube] eNTeFCGZJoc: ios client https formats require a GVS PO Token which was not provided. They will be skipped as they may yield HTTP Error 403. You can manually pass a GVS PO Token for this client with --extractor-args \"youtube:po_token=ios.gvs+XXX\". For more information, refer to  https://github.com/yt-dlp/yt-dlp/wiki/PO-Token-Guide . To enable these broken formats anyway, pass --extractor-args \"youtube:formats=missing_pot\"\n"
     ]
    },
    {
     "name": "stdout",
     "output_type": "stream",
     "text": [
      "[youtube] eNTeFCGZJoc: Downloading m3u8 information\n"
     ]
    },
    {
     "name": "stderr",
     "output_type": "stream",
     "text": [
      "[debug] Sort order given by extractor: quality, res, fps, hdr:12, source, vcodec, channels, acodec, lang, proto\n",
      "[debug] Formats sorted by: hasvid, ie_pref, quality, res, fps, hdr:12(7), source, vcodec, channels, acodec, lang, proto, size, br, asr, vext, aext, hasaud, id\n"
     ]
    },
    {
     "name": "stdout",
     "output_type": "stream",
     "text": [
      "[info] eNTeFCGZJoc: Downloading 1 format(s): 251\n"
     ]
    },
    {
     "name": "stderr",
     "output_type": "stream",
     "text": [
      "[debug] Invoking http downloader on \"https://rr2---sn-o3o-qxaz.googlevideo.com/videoplayback?expire=1738022746&ei=-sqXZ6TwO-inssUPuJfBKQ&ip=103.147.138.252&id=o-ADT5dziWHC3k5T8jBmRQb7zgjh-JrsJl6Irt-sRRfZRH&itag=251&source=youtube&requiressl=yes&xpc=EgVo2aDSNQ%3D%3D&met=1738001146%2C&mh=nL&mm=31%2C29&mn=sn-o3o-qxaz%2Csn-cvh7knzs&ms=au%2Crdu&mv=m&mvi=2&pl=24&rms=au%2Cau&initcwndbps=1351250&bui=AY2Et-P2t_aHV1ntIs7fGG5-MDgrgBiSWYOpKv8jLoZwakePG9Lz_esf6Gr1I8TahQJq4ZIECu6vwdrQ&vprv=1&svpuc=1&mime=audio%2Fwebm&ns=07_VMLYQKTPG6xm6oAznVHQQ&rqh=1&gir=yes&clen=2976560&dur=158.441&lmt=1714747032101057&mt=1738000628&fvip=1&keepalive=yes&lmw=1&fexp=51326932%2C51353498%2C51371294&c=TVHTML5&sefc=1&txp=6318224&n=-RIwZthq5_cGrg&sparams=expire%2Cei%2Cip%2Cid%2Citag%2Csource%2Crequiressl%2Cxpc%2Cbui%2Cvprv%2Csvpuc%2Cmime%2Cns%2Crqh%2Cgir%2Cclen%2Cdur%2Clmt&sig=AJfQdSswRAIgK8KHEoVqkbL7PmOVu38_PR4fUsDu2-QyuiF5Uac72QYCIEARzZGZSNhDKAm9cN9SvQm4kcrjmNw6u9uepGFsnExP&lsparams=met%2Cmh%2Cmm%2Cmn%2Cms%2Cmv%2Cmvi%2Cpl%2Crms%2Cinitcwndbps&lsig=AGluJ3MwRQIhAKhSExL4aknMp2rBfbMoIXo_M58LJTKwBXY4eJms7MLmAiAqPfpEiMxVPYrWpHV77gu_whE8Afr2Q7UK57wzek0_tQ%3D%3D\"\n"
     ]
    },
    {
     "name": "stdout",
     "output_type": "stream",
     "text": [
      "[download] Destination: Don't talk about Love (D.T.A.L) - Rishi Roy ｜ Amie.webm\n",
      "[download] 100% of    2.84MiB in 00:00:01 at 2.28MiB/s   \n"
     ]
    },
    {
     "name": "stderr",
     "output_type": "stream",
     "text": [
      "[debug] ffmpeg command line: ffprobe -show_streams 'file:Don'\"'\"'t talk about Love (D.T.A.L) - Rishi Roy ｜ Amie.webm'\n"
     ]
    },
    {
     "name": "stdout",
     "output_type": "stream",
     "text": [
      "[ExtractAudio] Destination: Don't talk about Love (D.T.A.L) - Rishi Roy ｜ Amie.mp3\n"
     ]
    },
    {
     "name": "stderr",
     "output_type": "stream",
     "text": [
      "[debug] ffmpeg command line: ffmpeg -y -loglevel repeat+info -i 'file:Don'\"'\"'t talk about Love (D.T.A.L) - Rishi Roy ｜ Amie.webm' -vn -acodec libmp3lame -b:a 192.0k -movflags +faststart 'file:Don'\"'\"'t talk about Love (D.T.A.L) - Rishi Roy ｜ Amie.mp3'\n"
     ]
    },
    {
     "name": "stdout",
     "output_type": "stream",
     "text": [
      "Deleting original file Don't talk about Love (D.T.A.L) - Rishi Roy ｜ Amie.webm (pass -k to keep)\n",
      "[download] Finished downloading playlist: DTAL Rishi Roy\n"
     ]
    },
    {
     "name": "stderr",
     "output_type": "stream",
     "text": [
      "[debug] Encodings: locale UTF-8, fs utf-8, pref UTF-8, out UTF-8 (No ANSI), error UTF-8 (No ANSI), screen UTF-8 (No ANSI)\n",
      "[debug] yt-dlp version stable@2025.01.26 from yt-dlp/yt-dlp [3b4531934] (pip) API\n",
      "[debug] params: {'quiet': False, 'verbose': True, 'format': 'bestaudio/best', 'postprocessors': [{'key': 'FFmpegExtractAudio', 'preferredcodec': 'mp3', 'preferredquality': '192'}], 'outtmpl': '%(title)s.%(ext)s', 'cookiefile': 'cookies.txt', 'compat_opts': set(), 'http_headers': {'User-Agent': 'Mozilla/5.0 (Windows NT 10.0; Win64; x64) AppleWebKit/537.36 (KHTML, like Gecko) Chrome/95.0.4638.17 Safari/537.36', 'Accept': 'text/html,application/xhtml+xml,application/xml;q=0.9,*/*;q=0.8', 'Accept-Language': 'en-us,en;q=0.5', 'Sec-Fetch-Mode': 'navigate'}}\n",
      "[debug] Python 3.10.14 (CPython x86_64 64bit) - Linux-6.8.0-51-generic-x86_64-with-glibc2.35 (OpenSSL 3.3.1 4 Jun 2024, glibc 2.35)\n",
      "[debug] exe versions: ffmpeg 4.4.2 (setts), ffprobe 4.4.2\n",
      "[debug] Optional libraries: Cryptodome-3.21.0, brotli-1.1.0, certifi-2024.07.04, mutagen-1.47.0, requests-2.32.3, sqlite3-3.45.3, urllib3-1.26.20, websockets-14.1\n",
      "[debug] Proxy map: {}\n",
      "[debug] Request Handlers: urllib, requests, websockets\n",
      "[debug] Loaded 1839 extractors\n"
     ]
    },
    {
     "name": "stdout",
     "output_type": "stream",
     "text": [
      "First video URL: https://www.youtube.com/watch?v=eNTeFCGZJoc\n",
      "[youtube:search] Extracting URL: ytsearch:Pal Bhar Harjas Harjaayi, Rishi Roy\n",
      "[download] Downloading playlist: Pal Bhar Harjas Harjaayi, Rishi Roy\n",
      "[youtube:search] query \"Pal Bhar Harjas Harjaayi, Rishi Roy\": Downloading web client config\n",
      "[youtube:search] query \"Pal Bhar Harjas Harjaayi, Rishi Roy\" page 1: Downloading API JSON\n",
      "[youtube:search] Playlist Pal Bhar Harjas Harjaayi, Rishi Roy: Downloading 1 items of 1\n"
     ]
    },
    {
     "name": "stderr",
     "output_type": "stream",
     "text": [
      "[debug] The information of all playlist entries will be held in memory\n"
     ]
    },
    {
     "name": "stdout",
     "output_type": "stream",
     "text": [
      "[download] Downloading item 1 of 1\n",
      "[youtube] Extracting URL: https://www.youtube.com/watch?v=fbTMNa0Vny8\n",
      "[youtube] fbTMNa0Vny8: Downloading webpage\n",
      "[youtube] fbTMNa0Vny8: Downloading tv client config\n",
      "[youtube] fbTMNa0Vny8: Downloading player 37364e28\n",
      "[youtube] fbTMNa0Vny8: Downloading tv player API JSON\n",
      "[youtube] fbTMNa0Vny8: Downloading ios player API JSON\n"
     ]
    },
    {
     "name": "stderr",
     "output_type": "stream",
     "text": [
      "[debug] [youtube] Extracting signature function js_37364e28_110\n",
      "[debug] Loading youtube-sigfuncs.js_37364e28_110 from cache\n",
      "[debug] Loading youtube-nsig.37364e28 from cache\n",
      "[debug] [youtube] Decrypted nsig tzkYbNuHIKZ9QW2i => nyD2w3-EeZqHLw\n",
      "[debug] Loading youtube-nsig.37364e28 from cache\n",
      "[debug] [youtube] Decrypted nsig 03MutVwmJPoTdSkX => 2z3BBfIp4KXUkQ\n",
      "[debug] [youtube] Extracting signature function js_37364e28_106\n",
      "[debug] Loading youtube-sigfuncs.js_37364e28_106 from cache\n",
      "[debug] [youtube] fbTMNa0Vny8: ios client https formats require a GVS PO Token which was not provided. They will be skipped as they may yield HTTP Error 403. You can manually pass a GVS PO Token for this client with --extractor-args \"youtube:po_token=ios.gvs+XXX\". For more information, refer to  https://github.com/yt-dlp/yt-dlp/wiki/PO-Token-Guide . To enable these broken formats anyway, pass --extractor-args \"youtube:formats=missing_pot\"\n"
     ]
    },
    {
     "name": "stdout",
     "output_type": "stream",
     "text": [
      "[youtube] fbTMNa0Vny8: Downloading m3u8 information\n"
     ]
    },
    {
     "name": "stderr",
     "output_type": "stream",
     "text": [
      "[debug] Sort order given by extractor: quality, res, fps, hdr:12, source, vcodec, channels, acodec, lang, proto\n",
      "[debug] Formats sorted by: hasvid, ie_pref, quality, res, fps, hdr:12(7), source, vcodec, channels, acodec, lang, proto, size, br, asr, vext, aext, hasaud, id\n"
     ]
    },
    {
     "name": "stdout",
     "output_type": "stream",
     "text": [
      "[info] fbTMNa0Vny8: Downloading 1 format(s): 251\n"
     ]
    },
    {
     "name": "stderr",
     "output_type": "stream",
     "text": [
      "[debug] Invoking http downloader on \"https://rr3---sn-o3o-qxa6.googlevideo.com/videoplayback?expire=1738022753&ei=AcuXZ8uJLcCEssUPmb_XqQo&ip=103.147.138.252&id=o-ABwryOtjDr1o5hw0box-PgOU7wcIqzIS6pRSxBU9sgqk&itag=251&source=youtube&requiressl=yes&xpc=EgVo2aDSNQ%3D%3D&met=1738001153%2C&mh=pi&mm=31%2C29&mn=sn-o3o-qxa6%2Csn-cvh76nes&ms=au%2Crdu&mv=m&mvi=3&pl=24&rms=au%2Cau&initcwndbps=1933750&bui=AY2Et-Nqxke0tb2PsHDrAlgwFmH7JHrFjvr4F6381iyf-16ak2KcOBGSyTpo3TygMXBWDV2IYnKQGGMT&vprv=1&svpuc=1&mime=audio%2Fwebm&ns=aPOhRCL0aK0BtkuZznHYGiMQ&rqh=1&gir=yes&clen=3457377&dur=198.961&lmt=1714771924677103&mt=1738000628&fvip=3&keepalive=yes&lmw=1&fexp=51326932%2C51353498%2C51371294&c=TVHTML5&sefc=1&txp=4532434&n=2z3BBfIp4KXUkQ&sparams=expire%2Cei%2Cip%2Cid%2Citag%2Csource%2Crequiressl%2Cxpc%2Cbui%2Cvprv%2Csvpuc%2Cmime%2Cns%2Crqh%2Cgir%2Cclen%2Cdur%2Clmt&lsparams=met%2Cmh%2Cmm%2Cmn%2Cms%2Cmv%2Cmvi%2Cpl%2Crms%2Cinitcwndbps&lsig=AGluJ3MwRQIhALjppkwJOyg5Py6cr-yaQ-wWn2NB7JWz5Ar1LqsRHLhBAiApUCRD5_p3TFnGpjRlvpONafTQd4xFy685vc3lwQQjLA%3D%3D&sig=AJfQdSswRgIhAOAK-mRzagOQ8oMvyOtmaITSHK2D21XlN8Qzr4QP-U2rAiEAmEKn1kZesdU1CqbX8dukG_UrL_a-sBrqevfOt8LRzXE%3D\"\n"
     ]
    },
    {
     "name": "stdout",
     "output_type": "stream",
     "text": [
      "[download] Destination: PAL BHAR - Rishi Roy Ft. Harjas Harjaayi [Official Audio].webm\n",
      "[download] 100% of    3.30MiB in 00:00:00 at 6.67MiB/s   \n"
     ]
    },
    {
     "name": "stderr",
     "output_type": "stream",
     "text": [
      "[debug] ffmpeg command line: ffprobe -show_streams 'file:PAL BHAR - Rishi Roy Ft. Harjas Harjaayi [Official Audio].webm'\n"
     ]
    },
    {
     "name": "stdout",
     "output_type": "stream",
     "text": [
      "[ExtractAudio] Destination: PAL BHAR - Rishi Roy Ft. Harjas Harjaayi [Official Audio].mp3\n"
     ]
    },
    {
     "name": "stderr",
     "output_type": "stream",
     "text": [
      "[debug] ffmpeg command line: ffmpeg -y -loglevel repeat+info -i 'file:PAL BHAR - Rishi Roy Ft. Harjas Harjaayi [Official Audio].webm' -vn -acodec libmp3lame -b:a 192.0k -movflags +faststart 'file:PAL BHAR - Rishi Roy Ft. Harjas Harjaayi [Official Audio].mp3'\n"
     ]
    },
    {
     "name": "stdout",
     "output_type": "stream",
     "text": [
      "Deleting original file PAL BHAR - Rishi Roy Ft. Harjas Harjaayi [Official Audio].webm (pass -k to keep)\n",
      "[download] Finished downloading playlist: Pal Bhar Harjas Harjaayi, Rishi Roy\n"
     ]
    },
    {
     "name": "stderr",
     "output_type": "stream",
     "text": [
      "[debug] Encodings: locale UTF-8, fs utf-8, pref UTF-8, out UTF-8 (No ANSI), error UTF-8 (No ANSI), screen UTF-8 (No ANSI)\n",
      "[debug] yt-dlp version stable@2025.01.26 from yt-dlp/yt-dlp [3b4531934] (pip) API\n",
      "[debug] params: {'quiet': False, 'verbose': True, 'format': 'bestaudio/best', 'postprocessors': [{'key': 'FFmpegExtractAudio', 'preferredcodec': 'mp3', 'preferredquality': '192'}], 'outtmpl': '%(title)s.%(ext)s', 'cookiefile': 'cookies.txt', 'compat_opts': set(), 'http_headers': {'User-Agent': 'Mozilla/5.0 (Windows NT 10.0; Win64; x64) AppleWebKit/537.36 (KHTML, like Gecko) Chrome/95.0.4638.17 Safari/537.36', 'Accept': 'text/html,application/xhtml+xml,application/xml;q=0.9,*/*;q=0.8', 'Accept-Language': 'en-us,en;q=0.5', 'Sec-Fetch-Mode': 'navigate'}}\n",
      "[debug] Python 3.10.14 (CPython x86_64 64bit) - Linux-6.8.0-51-generic-x86_64-with-glibc2.35 (OpenSSL 3.3.1 4 Jun 2024, glibc 2.35)\n",
      "[debug] exe versions: ffmpeg 4.4.2 (setts), ffprobe 4.4.2\n",
      "[debug] Optional libraries: Cryptodome-3.21.0, brotli-1.1.0, certifi-2024.07.04, mutagen-1.47.0, requests-2.32.3, sqlite3-3.45.3, urllib3-1.26.20, websockets-14.1\n",
      "[debug] Proxy map: {}\n",
      "[debug] Request Handlers: urllib, requests, websockets\n",
      "[debug] Loaded 1839 extractors\n"
     ]
    },
    {
     "name": "stdout",
     "output_type": "stream",
     "text": [
      "First video URL: https://www.youtube.com/watch?v=fbTMNa0Vny8\n",
      "[youtube:search] Extracting URL: ytsearch:Anxiety Rishi Roy, Harjas Harjaayi\n",
      "[download] Downloading playlist: Anxiety Rishi Roy, Harjas Harjaayi\n",
      "[youtube:search] query \"Anxiety Rishi Roy, Harjas Harjaayi\": Downloading web client config\n",
      "[youtube:search] query \"Anxiety Rishi Roy, Harjas Harjaayi\" page 1: Downloading API JSON\n",
      "[youtube:search] Playlist Anxiety Rishi Roy, Harjas Harjaayi: Downloading 1 items of 1\n"
     ]
    },
    {
     "name": "stderr",
     "output_type": "stream",
     "text": [
      "[debug] The information of all playlist entries will be held in memory\n"
     ]
    },
    {
     "name": "stdout",
     "output_type": "stream",
     "text": [
      "[download] Downloading item 1 of 1\n",
      "[youtube] Extracting URL: https://www.youtube.com/watch?v=9hbrpLbalf4\n",
      "[youtube] 9hbrpLbalf4: Downloading webpage\n",
      "[youtube] 9hbrpLbalf4: Downloading tv client config\n",
      "[youtube] 9hbrpLbalf4: Downloading player 37364e28\n",
      "[youtube] 9hbrpLbalf4: Downloading tv player API JSON\n",
      "[youtube] 9hbrpLbalf4: Downloading ios player API JSON\n"
     ]
    },
    {
     "name": "stderr",
     "output_type": "stream",
     "text": [
      "[debug] [youtube] Extracting signature function js_37364e28_110\n",
      "[debug] Loading youtube-sigfuncs.js_37364e28_110 from cache\n",
      "[debug] Loading youtube-nsig.37364e28 from cache\n",
      "[debug] [youtube] Decrypted nsig F3fFoUA9Lm3XiBy6 => RBSe8fMupq4gGQ\n",
      "[debug] Loading youtube-nsig.37364e28 from cache\n",
      "[debug] [youtube] Decrypted nsig Mit_XPgMEDnXqujP => suhlpOMOV1xyuw\n",
      "[debug] [youtube] Extracting signature function js_37364e28_106\n",
      "[debug] Loading youtube-sigfuncs.js_37364e28_106 from cache\n",
      "[debug] [youtube] 9hbrpLbalf4: ios client https formats require a GVS PO Token which was not provided. They will be skipped as they may yield HTTP Error 403. You can manually pass a GVS PO Token for this client with --extractor-args \"youtube:po_token=ios.gvs+XXX\". For more information, refer to  https://github.com/yt-dlp/yt-dlp/wiki/PO-Token-Guide . To enable these broken formats anyway, pass --extractor-args \"youtube:formats=missing_pot\"\n"
     ]
    },
    {
     "name": "stdout",
     "output_type": "stream",
     "text": [
      "[youtube] 9hbrpLbalf4: Downloading m3u8 information\n"
     ]
    },
    {
     "name": "stderr",
     "output_type": "stream",
     "text": [
      "[debug] Sort order given by extractor: quality, res, fps, hdr:12, source, vcodec, channels, acodec, lang, proto\n",
      "[debug] Formats sorted by: hasvid, ie_pref, quality, res, fps, hdr:12(7), source, vcodec, channels, acodec, lang, proto, size, br, asr, vext, aext, hasaud, id\n"
     ]
    },
    {
     "name": "stdout",
     "output_type": "stream",
     "text": [
      "[info] 9hbrpLbalf4: Downloading 1 format(s): 251\n"
     ]
    },
    {
     "name": "stderr",
     "output_type": "stream",
     "text": [
      "[debug] Invoking http downloader on \"https://rr3---sn-o3o-qxa6.googlevideo.com/videoplayback?expire=1738022760&ei=CMuXZ8-zN6Tk4t4P-P-14Qg&ip=103.147.138.252&id=o-AOtkB8E997qN-dx1bgGL46AMmYNUyqEkolvCNKoFs1T2&itag=251&source=youtube&requiressl=yes&xpc=EgVo2aDSNQ%3D%3D&met=1738001160%2C&mh=3s&mm=31%2C29&mn=sn-o3o-qxa6%2Csn-cvh7kn66&ms=au%2Crdu&mv=m&mvi=3&pl=24&rms=au%2Cau&initcwndbps=1933750&bui=AY2Et-NgLLzxAjJkLRPPjouZzkTFUrokfcpP1XpVaGqW4N8lP1LIOgzXQ0PlMMhKM117rNtAEDh3BElP&vprv=1&svpuc=1&mime=audio%2Fwebm&ns=SI0Shy1EXxs_zLnWcxriqKMQ&rqh=1&gir=yes&clen=2999071&dur=167.581&lmt=1714523329311182&mt=1738000628&fvip=3&keepalive=yes&lmw=1&fexp=51326932%2C51353498%2C51371294&c=TVHTML5&sefc=1&txp=4402434&n=suhlpOMOV1xyuw&sparams=expire%2Cei%2Cip%2Cid%2Citag%2Csource%2Crequiressl%2Cxpc%2Cbui%2Cvprv%2Csvpuc%2Cmime%2Cns%2Crqh%2Cgir%2Cclen%2Cdur%2Clmt&lsparams=met%2Cmh%2Cmm%2Cmn%2Cms%2Cmv%2Cmvi%2Cpl%2Crms%2Cinitcwndbps&lsig=AGluJ3MwRgIhANoumBJyJ4_Xp1PsHU4WJckl6TTleSXQPonisgy1-OamAiEAkRGvxxLm2dU4j_KzRZKcwIuSCYkt_MXCoSVMV4MKA1Q%3D&sig=AJfQdSswRQIgP0KcFE3evJPmDgoy3L9-5tC6ADGpZ9TLKGgiI2U8ywUCIQCBifyS2wkM3fktAdlej5n0Ttv0j7mcAwMQERkCS4Zivg%3D%3D\"\n"
     ]
    },
    {
     "name": "stdout",
     "output_type": "stream",
     "text": [
      "[download] Destination: Anxiety - Rishi Roy x @HARJASHARJAAYI.webm\n",
      "[download] 100% of    2.86MiB in 00:00:06 at 484.69KiB/s \n"
     ]
    },
    {
     "name": "stderr",
     "output_type": "stream",
     "text": [
      "[debug] ffmpeg command line: ffprobe -show_streams 'file:Anxiety - Rishi Roy x @HARJASHARJAAYI.webm'\n"
     ]
    },
    {
     "name": "stdout",
     "output_type": "stream",
     "text": [
      "[ExtractAudio] Destination: Anxiety - Rishi Roy x @HARJASHARJAAYI.mp3\n"
     ]
    },
    {
     "name": "stderr",
     "output_type": "stream",
     "text": [
      "[debug] ffmpeg command line: ffmpeg -y -loglevel repeat+info -i 'file:Anxiety - Rishi Roy x @HARJASHARJAAYI.webm' -vn -acodec libmp3lame -b:a 192.0k -movflags +faststart 'file:Anxiety - Rishi Roy x @HARJASHARJAAYI.mp3'\n"
     ]
    },
    {
     "name": "stdout",
     "output_type": "stream",
     "text": [
      "Deleting original file Anxiety - Rishi Roy x @HARJASHARJAAYI.webm (pass -k to keep)\n",
      "[download] Finished downloading playlist: Anxiety Rishi Roy, Harjas Harjaayi\n"
     ]
    },
    {
     "name": "stderr",
     "output_type": "stream",
     "text": [
      "[debug] Encodings: locale UTF-8, fs utf-8, pref UTF-8, out UTF-8 (No ANSI), error UTF-8 (No ANSI), screen UTF-8 (No ANSI)\n",
      "[debug] yt-dlp version stable@2025.01.26 from yt-dlp/yt-dlp [3b4531934] (pip) API\n",
      "[debug] params: {'quiet': False, 'verbose': True, 'format': 'bestaudio/best', 'postprocessors': [{'key': 'FFmpegExtractAudio', 'preferredcodec': 'mp3', 'preferredquality': '192'}], 'outtmpl': '%(title)s.%(ext)s', 'cookiefile': 'cookies.txt', 'compat_opts': set(), 'http_headers': {'User-Agent': 'Mozilla/5.0 (Windows NT 10.0; Win64; x64) AppleWebKit/537.36 (KHTML, like Gecko) Chrome/95.0.4638.17 Safari/537.36', 'Accept': 'text/html,application/xhtml+xml,application/xml;q=0.9,*/*;q=0.8', 'Accept-Language': 'en-us,en;q=0.5', 'Sec-Fetch-Mode': 'navigate'}}\n",
      "[debug] Python 3.10.14 (CPython x86_64 64bit) - Linux-6.8.0-51-generic-x86_64-with-glibc2.35 (OpenSSL 3.3.1 4 Jun 2024, glibc 2.35)\n",
      "[debug] exe versions: ffmpeg 4.4.2 (setts), ffprobe 4.4.2\n",
      "[debug] Optional libraries: Cryptodome-3.21.0, brotli-1.1.0, certifi-2024.07.04, mutagen-1.47.0, requests-2.32.3, sqlite3-3.45.3, urllib3-1.26.20, websockets-14.1\n",
      "[debug] Proxy map: {}\n",
      "[debug] Request Handlers: urllib, requests, websockets\n",
      "[debug] Loaded 1839 extractors\n"
     ]
    },
    {
     "name": "stdout",
     "output_type": "stream",
     "text": [
      "First video URL: https://www.youtube.com/watch?v=9hbrpLbalf4\n",
      "[youtube:search] Extracting URL: ytsearch:NISHANI Rishi Roy, Dabzee\n",
      "[download] Downloading playlist: NISHANI Rishi Roy, Dabzee\n",
      "[youtube:search] query \"NISHANI Rishi Roy, Dabzee\": Downloading web client config\n",
      "[youtube:search] query \"NISHANI Rishi Roy, Dabzee\" page 1: Downloading API JSON\n",
      "[youtube:search] Playlist NISHANI Rishi Roy, Dabzee: Downloading 1 items of 1\n"
     ]
    },
    {
     "name": "stderr",
     "output_type": "stream",
     "text": [
      "[debug] The information of all playlist entries will be held in memory\n"
     ]
    },
    {
     "name": "stdout",
     "output_type": "stream",
     "text": [
      "[download] Downloading item 1 of 1\n",
      "[youtube] Extracting URL: https://www.youtube.com/watch?v=HuCmZ1VoEQ8\n",
      "[youtube] HuCmZ1VoEQ8: Downloading webpage\n",
      "[youtube] HuCmZ1VoEQ8: Downloading tv client config\n",
      "[youtube] HuCmZ1VoEQ8: Downloading player 37364e28\n",
      "[youtube] HuCmZ1VoEQ8: Downloading tv player API JSON\n",
      "[youtube] HuCmZ1VoEQ8: Downloading ios player API JSON\n"
     ]
    },
    {
     "name": "stderr",
     "output_type": "stream",
     "text": [
      "[debug] [youtube] Extracting signature function js_37364e28_110\n",
      "[debug] Loading youtube-sigfuncs.js_37364e28_110 from cache\n",
      "[debug] Loading youtube-nsig.37364e28 from cache\n",
      "[debug] [youtube] Decrypted nsig TRQZDbDr3cG-ClOe => 7VBs-1PKXJ4FLQ\n",
      "[debug] Loading youtube-nsig.37364e28 from cache\n",
      "[debug] [youtube] Decrypted nsig i2u43wxmTaSsnvKy => 2JrTYOhndsn7Fg\n",
      "[debug] [youtube] Extracting signature function js_37364e28_106\n",
      "[debug] Loading youtube-sigfuncs.js_37364e28_106 from cache\n",
      "[debug] [youtube] HuCmZ1VoEQ8: ios client https formats require a GVS PO Token which was not provided. They will be skipped as they may yield HTTP Error 403. You can manually pass a GVS PO Token for this client with --extractor-args \"youtube:po_token=ios.gvs+XXX\". For more information, refer to  https://github.com/yt-dlp/yt-dlp/wiki/PO-Token-Guide . To enable these broken formats anyway, pass --extractor-args \"youtube:formats=missing_pot\"\n"
     ]
    },
    {
     "name": "stdout",
     "output_type": "stream",
     "text": [
      "[youtube] HuCmZ1VoEQ8: Downloading m3u8 information\n"
     ]
    },
    {
     "name": "stderr",
     "output_type": "stream",
     "text": [
      "[debug] Sort order given by extractor: quality, res, fps, hdr:12, source, vcodec, channels, acodec, lang, proto\n",
      "[debug] Formats sorted by: hasvid, ie_pref, quality, res, fps, hdr:12(7), source, vcodec, channels, acodec, lang, proto, size, br, asr, vext, aext, hasaud, id\n"
     ]
    },
    {
     "name": "stdout",
     "output_type": "stream",
     "text": [
      "[info] HuCmZ1VoEQ8: Downloading 1 format(s): 251\n"
     ]
    },
    {
     "name": "stderr",
     "output_type": "stream",
     "text": [
      "[debug] Invoking http downloader on \"https://rr3---sn-o3o-qxaz.googlevideo.com/videoplayback?expire=1738022773&ei=FcuXZ9zoGK-pssUPwfrNoQo&ip=103.147.138.252&id=o-AJn2ZqjdTby5eJTvogHhBBRFW6bFTXVYGJR9sPEXHZAW&itag=251&source=youtube&requiressl=yes&xpc=EgVo2aDSNQ%3D%3D&met=1738001173%2C&mh=G-&mm=31%2C29&mn=sn-o3o-qxaz%2Csn-cvh76nlk&ms=au%2Crdu&mv=m&mvi=3&pl=24&rms=au%2Cau&gcr=in&initcwndbps=1351250&bui=AY2Et-P7bAROhno90JUGh0ltRADX-loYa64wOmmsM-zzv9_7F0M0KAacGSbjEWqvpi_0cUulAIQHVgCl&vprv=1&svpuc=1&mime=audio%2Fwebm&ns=tXQ5EZuhbs-yok_f5Ql2rXMQ&rqh=1&gir=yes&clen=2972500&dur=168.061&lmt=1718186369993780&mt=1738000628&fvip=3&keepalive=yes&lmw=1&fexp=51326932%2C51353498%2C51371294&c=TVHTML5&sefc=1&txp=2318224&n=2JrTYOhndsn7Fg&sparams=expire%2Cei%2Cip%2Cid%2Citag%2Csource%2Crequiressl%2Cxpc%2Cgcr%2Cbui%2Cvprv%2Csvpuc%2Cmime%2Cns%2Crqh%2Cgir%2Cclen%2Cdur%2Clmt&lsparams=met%2Cmh%2Cmm%2Cmn%2Cms%2Cmv%2Cmvi%2Cpl%2Crms%2Cinitcwndbps&lsig=AGluJ3MwRQIhANpvLu328DY2IwBWFVfCKyRoZNZTIQxchxbHWv1Y_SxfAiAiedYhRT0j5-XDYujo5hA8Meenmh49ce54WtED7tosgQ%3D%3D&sig=AJfQdSswRQIhAM9z0t9-V0TprzBfbID-ln77F8QbVBy31gxQjOJrJtICAiBgLTLy5k7pmsJkf-2DhmqyrlGqbwBnCHOSShJTyMAPnw%3D%3D\"\n"
     ]
    },
    {
     "name": "stdout",
     "output_type": "stream",
     "text": [
      "[download] Destination: NISHANI.webm\n",
      "[download] 100% of    2.83MiB in 00:00:00 at 5.16MiB/s   \n"
     ]
    },
    {
     "name": "stderr",
     "output_type": "stream",
     "text": [
      "[debug] ffmpeg command line: ffprobe -show_streams file:NISHANI.webm\n"
     ]
    },
    {
     "name": "stdout",
     "output_type": "stream",
     "text": [
      "[ExtractAudio] Destination: NISHANI.mp3\n"
     ]
    },
    {
     "name": "stderr",
     "output_type": "stream",
     "text": [
      "[debug] ffmpeg command line: ffmpeg -y -loglevel repeat+info -i file:NISHANI.webm -vn -acodec libmp3lame -b:a 192.0k -movflags +faststart file:NISHANI.mp3\n"
     ]
    },
    {
     "name": "stdout",
     "output_type": "stream",
     "text": [
      "Deleting original file NISHANI.webm (pass -k to keep)\n",
      "[download] Finished downloading playlist: NISHANI Rishi Roy, Dabzee\n"
     ]
    },
    {
     "name": "stderr",
     "output_type": "stream",
     "text": [
      "[debug] Encodings: locale UTF-8, fs utf-8, pref UTF-8, out UTF-8 (No ANSI), error UTF-8 (No ANSI), screen UTF-8 (No ANSI)\n",
      "[debug] yt-dlp version stable@2025.01.26 from yt-dlp/yt-dlp [3b4531934] (pip) API\n",
      "[debug] params: {'quiet': False, 'verbose': True, 'format': 'bestaudio/best', 'postprocessors': [{'key': 'FFmpegExtractAudio', 'preferredcodec': 'mp3', 'preferredquality': '192'}], 'outtmpl': '%(title)s.%(ext)s', 'cookiefile': 'cookies.txt', 'compat_opts': set(), 'http_headers': {'User-Agent': 'Mozilla/5.0 (Windows NT 10.0; Win64; x64) AppleWebKit/537.36 (KHTML, like Gecko) Chrome/95.0.4638.17 Safari/537.36', 'Accept': 'text/html,application/xhtml+xml,application/xml;q=0.9,*/*;q=0.8', 'Accept-Language': 'en-us,en;q=0.5', 'Sec-Fetch-Mode': 'navigate'}}\n",
      "[debug] Python 3.10.14 (CPython x86_64 64bit) - Linux-6.8.0-51-generic-x86_64-with-glibc2.35 (OpenSSL 3.3.1 4 Jun 2024, glibc 2.35)\n",
      "[debug] exe versions: ffmpeg 4.4.2 (setts), ffprobe 4.4.2\n",
      "[debug] Optional libraries: Cryptodome-3.21.0, brotli-1.1.0, certifi-2024.07.04, mutagen-1.47.0, requests-2.32.3, sqlite3-3.45.3, urllib3-1.26.20, websockets-14.1\n",
      "[debug] Proxy map: {}\n",
      "[debug] Request Handlers: urllib, requests, websockets\n",
      "[debug] Loaded 1839 extractors\n"
     ]
    },
    {
     "name": "stdout",
     "output_type": "stream",
     "text": [
      "First video URL: https://www.youtube.com/watch?v=HuCmZ1VoEQ8\n",
      "[youtube:search] Extracting URL: ytsearch:KYUN Karakoram, Hasan Raheem\n",
      "[download] Downloading playlist: KYUN Karakoram, Hasan Raheem\n",
      "[youtube:search] query \"KYUN Karakoram, Hasan Raheem\": Downloading web client config\n",
      "[youtube:search] query \"KYUN Karakoram, Hasan Raheem\" page 1: Downloading API JSON\n",
      "[youtube:search] Playlist KYUN Karakoram, Hasan Raheem: Downloading 1 items of 1\n"
     ]
    },
    {
     "name": "stderr",
     "output_type": "stream",
     "text": [
      "[debug] The information of all playlist entries will be held in memory\n"
     ]
    },
    {
     "name": "stdout",
     "output_type": "stream",
     "text": [
      "[download] Downloading item 1 of 1\n",
      "[youtube] Extracting URL: https://www.youtube.com/watch?v=C0lfsfo-abI\n",
      "[youtube] C0lfsfo-abI: Downloading webpage\n",
      "[youtube] C0lfsfo-abI: Downloading tv client config\n",
      "[youtube] C0lfsfo-abI: Downloading player 37364e28\n",
      "[youtube] C0lfsfo-abI: Downloading tv player API JSON\n",
      "[youtube] C0lfsfo-abI: Downloading ios player API JSON\n"
     ]
    },
    {
     "name": "stderr",
     "output_type": "stream",
     "text": [
      "[debug] [youtube] Extracting signature function js_37364e28_106\n",
      "[debug] Loading youtube-sigfuncs.js_37364e28_106 from cache\n",
      "[debug] Loading youtube-nsig.37364e28 from cache\n",
      "[debug] [youtube] Decrypted nsig 3vG8_MJfZlIEQ3pn => XPvE7ft4ALlU8g\n",
      "[debug] [youtube] Extracting signature function js_37364e28_110\n",
      "[debug] Loading youtube-sigfuncs.js_37364e28_110 from cache\n",
      "[debug] Loading youtube-nsig.37364e28 from cache\n",
      "[debug] [youtube] Decrypted nsig E4F0sARdIADw0H7j => VyddmAlFgMu6nw\n",
      "[debug] [youtube] C0lfsfo-abI: ios client https formats require a GVS PO Token which was not provided. They will be skipped as they may yield HTTP Error 403. You can manually pass a GVS PO Token for this client with --extractor-args \"youtube:po_token=ios.gvs+XXX\". For more information, refer to  https://github.com/yt-dlp/yt-dlp/wiki/PO-Token-Guide . To enable these broken formats anyway, pass --extractor-args \"youtube:formats=missing_pot\"\n"
     ]
    },
    {
     "name": "stdout",
     "output_type": "stream",
     "text": [
      "[youtube] C0lfsfo-abI: Downloading m3u8 information\n"
     ]
    },
    {
     "name": "stderr",
     "output_type": "stream",
     "text": [
      "[debug] Sort order given by extractor: quality, res, fps, hdr:12, source, vcodec, channels, acodec, lang, proto\n",
      "[debug] Formats sorted by: hasvid, ie_pref, quality, res, fps, hdr:12(7), source, vcodec, channels, acodec, lang, proto, size, br, asr, vext, aext, hasaud, id\n"
     ]
    },
    {
     "name": "stdout",
     "output_type": "stream",
     "text": [
      "[info] C0lfsfo-abI: Downloading 1 format(s): 251\n"
     ]
    },
    {
     "name": "stderr",
     "output_type": "stream",
     "text": [
      "[debug] Invoking http downloader on \"https://rr3---sn-o3o-qxa6.googlevideo.com/videoplayback?expire=1738022779&ei=G8uXZ6bZJs6z4t4P68X4iA8&ip=103.147.138.252&id=o-ADwDNSpC9tSVr4QKTuySG5SCyqL3ZsOioc1QV2QR4JRw&itag=251&source=youtube&requiressl=yes&xpc=EgVo2aDSNQ%3D%3D&met=1738001179%2C&mh=Jf&mm=31%2C29&mn=sn-o3o-qxa6%2Csn-cvh76ney&ms=au%2Crdu&mv=m&mvi=3&pl=24&rms=au%2Cau&initcwndbps=1933750&bui=AY2Et-Pc7tan-GgTS9j1pKvrSWbDKbUbkSmLDBTrrzIPq6j2CRRTQWPcAPIg7Dlk-nOkkrULe8deIm7x&vprv=1&svpuc=1&mime=audio%2Fwebm&ns=VKSUXBAl2s3zcWFBDPGmK4wQ&rqh=1&gir=yes&clen=4045435&dur=254.581&lmt=1737934708936802&mt=1738000628&fvip=3&keepalive=yes&lmw=1&fexp=51326932%2C51353498%2C51371294&c=TVHTML5&sefc=1&txp=4432534&n=VyddmAlFgMu6nw&sparams=expire%2Cei%2Cip%2Cid%2Citag%2Csource%2Crequiressl%2Cxpc%2Cbui%2Cvprv%2Csvpuc%2Cmime%2Cns%2Crqh%2Cgir%2Cclen%2Cdur%2Clmt&lsparams=met%2Cmh%2Cmm%2Cmn%2Cms%2Cmv%2Cmvi%2Cpl%2Crms%2Cinitcwndbps&lsig=AGluJ3MwRQIhAJ1sI5QimGeU9JimNEx-0vlQTeFU5DzPFfUO6ft9BLsuAiA9RFOLy9NPHn49EFsaPYKjxp9Nuorf5dJC0j8Z01TcMA%3D%3D&sig=AJfQdSswRAIgc8IfJLVnqlBFM_Js-yO7qLIr8-Yo7gmlfCGoI7xRELACIG8QGT6SKH1Wns4ZzhEkqbQYH2VJsR8j-sfwwUCgObRs\"\n"
     ]
    },
    {
     "name": "stdout",
     "output_type": "stream",
     "text": [
      "[download] Destination: Kyun ｜ Karakoram x Hasan Raheem.webm\n",
      "[download] 100% of    3.86MiB in 00:00:00 at 6.49MiB/s   \n"
     ]
    },
    {
     "name": "stderr",
     "output_type": "stream",
     "text": [
      "[debug] ffmpeg command line: ffprobe -show_streams 'file:Kyun ｜ Karakoram x Hasan Raheem.webm'\n"
     ]
    },
    {
     "name": "stdout",
     "output_type": "stream",
     "text": [
      "[ExtractAudio] Destination: Kyun ｜ Karakoram x Hasan Raheem.mp3\n"
     ]
    },
    {
     "name": "stderr",
     "output_type": "stream",
     "text": [
      "[debug] ffmpeg command line: ffmpeg -y -loglevel repeat+info -i 'file:Kyun ｜ Karakoram x Hasan Raheem.webm' -vn -acodec libmp3lame -b:a 192.0k -movflags +faststart 'file:Kyun ｜ Karakoram x Hasan Raheem.mp3'\n"
     ]
    },
    {
     "name": "stdout",
     "output_type": "stream",
     "text": [
      "Deleting original file Kyun ｜ Karakoram x Hasan Raheem.webm (pass -k to keep)\n",
      "[download] Finished downloading playlist: KYUN Karakoram, Hasan Raheem\n"
     ]
    },
    {
     "name": "stderr",
     "output_type": "stream",
     "text": [
      "[debug] Encodings: locale UTF-8, fs utf-8, pref UTF-8, out UTF-8 (No ANSI), error UTF-8 (No ANSI), screen UTF-8 (No ANSI)\n",
      "[debug] yt-dlp version stable@2025.01.26 from yt-dlp/yt-dlp [3b4531934] (pip) API\n",
      "[debug] params: {'quiet': False, 'verbose': True, 'format': 'bestaudio/best', 'postprocessors': [{'key': 'FFmpegExtractAudio', 'preferredcodec': 'mp3', 'preferredquality': '192'}], 'outtmpl': '%(title)s.%(ext)s', 'cookiefile': 'cookies.txt', 'compat_opts': set(), 'http_headers': {'User-Agent': 'Mozilla/5.0 (Windows NT 10.0; Win64; x64) AppleWebKit/537.36 (KHTML, like Gecko) Chrome/95.0.4638.17 Safari/537.36', 'Accept': 'text/html,application/xhtml+xml,application/xml;q=0.9,*/*;q=0.8', 'Accept-Language': 'en-us,en;q=0.5', 'Sec-Fetch-Mode': 'navigate'}}\n",
      "[debug] Python 3.10.14 (CPython x86_64 64bit) - Linux-6.8.0-51-generic-x86_64-with-glibc2.35 (OpenSSL 3.3.1 4 Jun 2024, glibc 2.35)\n",
      "[debug] exe versions: ffmpeg 4.4.2 (setts), ffprobe 4.4.2\n",
      "[debug] Optional libraries: Cryptodome-3.21.0, brotli-1.1.0, certifi-2024.07.04, mutagen-1.47.0, requests-2.32.3, sqlite3-3.45.3, urllib3-1.26.20, websockets-14.1\n",
      "[debug] Proxy map: {}\n",
      "[debug] Request Handlers: urllib, requests, websockets\n",
      "[debug] Loaded 1839 extractors\n"
     ]
    },
    {
     "name": "stdout",
     "output_type": "stream",
     "text": [
      "First video URL: https://www.youtube.com/watch?v=C0lfsfo-abI\n",
      "[youtube:search] Extracting URL: ytsearch:Kaise Banu Taaruk Raina\n",
      "[download] Downloading playlist: Kaise Banu Taaruk Raina\n",
      "[youtube:search] query \"Kaise Banu Taaruk Raina\": Downloading web client config\n",
      "[youtube:search] query \"Kaise Banu Taaruk Raina\" page 1: Downloading API JSON\n",
      "[youtube:search] Playlist Kaise Banu Taaruk Raina: Downloading 1 items of 1\n"
     ]
    },
    {
     "name": "stderr",
     "output_type": "stream",
     "text": [
      "[debug] The information of all playlist entries will be held in memory\n"
     ]
    },
    {
     "name": "stdout",
     "output_type": "stream",
     "text": [
      "[download] Downloading item 1 of 1\n",
      "[youtube] Extracting URL: https://www.youtube.com/watch?v=9ZU38yLA014\n",
      "[youtube] 9ZU38yLA014: Downloading webpage\n",
      "[youtube] 9ZU38yLA014: Downloading tv client config\n",
      "[youtube] 9ZU38yLA014: Downloading player 37364e28\n",
      "[youtube] 9ZU38yLA014: Downloading tv player API JSON\n",
      "[youtube] 9ZU38yLA014: Downloading ios player API JSON\n"
     ]
    },
    {
     "name": "stderr",
     "output_type": "stream",
     "text": [
      "[debug] [youtube] Extracting signature function js_37364e28_106\n",
      "[debug] Loading youtube-sigfuncs.js_37364e28_106 from cache\n",
      "[debug] Loading youtube-nsig.37364e28 from cache\n",
      "[debug] [youtube] Decrypted nsig X7L3jRuzus9peCm9 => fk4weTeDQwL5lg\n",
      "[debug] [youtube] Extracting signature function js_37364e28_110\n",
      "[debug] Loading youtube-sigfuncs.js_37364e28_110 from cache\n",
      "[debug] Loading youtube-nsig.37364e28 from cache\n",
      "[debug] [youtube] Decrypted nsig zIHQwta5mfiRdpdk => NcR81cGBZWEvlw\n",
      "[debug] [youtube] 9ZU38yLA014: ios client https formats require a GVS PO Token which was not provided. They will be skipped as they may yield HTTP Error 403. You can manually pass a GVS PO Token for this client with --extractor-args \"youtube:po_token=ios.gvs+XXX\". For more information, refer to  https://github.com/yt-dlp/yt-dlp/wiki/PO-Token-Guide . To enable these broken formats anyway, pass --extractor-args \"youtube:formats=missing_pot\"\n"
     ]
    },
    {
     "name": "stdout",
     "output_type": "stream",
     "text": [
      "[youtube] 9ZU38yLA014: Downloading m3u8 information\n"
     ]
    },
    {
     "name": "stderr",
     "output_type": "stream",
     "text": [
      "[debug] Sort order given by extractor: quality, res, fps, hdr:12, source, vcodec, channels, acodec, lang, proto\n",
      "[debug] Formats sorted by: hasvid, ie_pref, quality, res, fps, hdr:12(7), source, vcodec, channels, acodec, lang, proto, size, br, asr, vext, aext, hasaud, id\n"
     ]
    },
    {
     "name": "stdout",
     "output_type": "stream",
     "text": [
      "[info] 9ZU38yLA014: Downloading 1 format(s): 251\n"
     ]
    },
    {
     "name": "stderr",
     "output_type": "stream",
     "text": [
      "[debug] Invoking http downloader on \"https://rr1---sn-o3o-qxaz.googlevideo.com/videoplayback?expire=1738022788&ei=JMuXZ5O5IpTh9fwPq4SMkQc&ip=103.147.138.252&id=o-AENnf4F7SvPAeaF4Mqlybnidz8bp7OgT4dq_0m0NoHhJ&itag=251&source=youtube&requiressl=yes&xpc=EgVo2aDSNQ%3D%3D&met=1738001188%2C&mh=sS&mm=31%2C29&mn=sn-o3o-qxaz%2Csn-cvh76nl7&ms=au%2Crdu&mv=m&mvi=1&pl=24&rms=au%2Cau&initcwndbps=1685000&bui=AY2Et-Mdsl2bH5IUZVj9o2HWqmYPkuLBsmRnLuIB3Bk8nSdxlgwOtWzrMXvcLV5ZVRlPzzMLXap0Ch8r&vprv=1&svpuc=1&mime=audio%2Fwebm&ns=zVUuDZyoidsu4SrUd0fX2Z8Q&rqh=1&gir=yes&clen=2926206&dur=177.341&lmt=1726250400403887&mt=1738000860&fvip=4&keepalive=yes&lmw=1&fexp=51326932%2C51353498%2C51371294&c=TVHTML5&sefc=1&txp=4532434&n=NcR81cGBZWEvlw&sparams=expire%2Cei%2Cip%2Cid%2Citag%2Csource%2Crequiressl%2Cxpc%2Cbui%2Cvprv%2Csvpuc%2Cmime%2Cns%2Crqh%2Cgir%2Cclen%2Cdur%2Clmt&lsparams=met%2Cmh%2Cmm%2Cmn%2Cms%2Cmv%2Cmvi%2Cpl%2Crms%2Cinitcwndbps&lsig=AGluJ3MwRAIgQTjSHNzr-hBilSjv99UV-9yUMJSkWMNPXDG-dezJc3sCIA1Vqf5WSEK8GMzgoq1JxiiLGbowhOt6cGuu_8qGQf9E&sig=AJfQdSswRQIhAPL_GAiIJbOMka-9ytuiCiaPmFrWrJB3HE5-Qeg0C3dyAiA89jiAxOLtYQCWEMETNuEkzCbbd-5j2qpsuL0Nd1RtQQ%3D%3D\"\n"
     ]
    },
    {
     "name": "stdout",
     "output_type": "stream",
     "text": [
      "[download] Destination: Kaise Banu ｜ Taaruk Raina ｜ New Love Song ｜ Ahsaas Channa ｜ Starving Artist Films.webm\n",
      "[download] 100% of    2.79MiB in 00:00:02 at 1.28MiB/s   \n"
     ]
    },
    {
     "name": "stderr",
     "output_type": "stream",
     "text": [
      "[debug] ffmpeg command line: ffprobe -show_streams 'file:Kaise Banu ｜ Taaruk Raina ｜ New Love Song ｜ Ahsaas Channa ｜ Starving Artist Films.webm'\n"
     ]
    },
    {
     "name": "stdout",
     "output_type": "stream",
     "text": [
      "[ExtractAudio] Destination: Kaise Banu ｜ Taaruk Raina ｜ New Love Song ｜ Ahsaas Channa ｜ Starving Artist Films.mp3\n"
     ]
    },
    {
     "name": "stderr",
     "output_type": "stream",
     "text": [
      "[debug] ffmpeg command line: ffmpeg -y -loglevel repeat+info -i 'file:Kaise Banu ｜ Taaruk Raina ｜ New Love Song ｜ Ahsaas Channa ｜ Starving Artist Films.webm' -vn -acodec libmp3lame -b:a 192.0k -movflags +faststart 'file:Kaise Banu ｜ Taaruk Raina ｜ New Love Song ｜ Ahsaas Channa ｜ Starving Artist Films.mp3'\n"
     ]
    },
    {
     "name": "stdout",
     "output_type": "stream",
     "text": [
      "Deleting original file Kaise Banu ｜ Taaruk Raina ｜ New Love Song ｜ Ahsaas Channa ｜ Starving Artist Films.webm (pass -k to keep)\n",
      "[download] Finished downloading playlist: Kaise Banu Taaruk Raina\n"
     ]
    },
    {
     "name": "stderr",
     "output_type": "stream",
     "text": [
      "[debug] Encodings: locale UTF-8, fs utf-8, pref UTF-8, out UTF-8 (No ANSI), error UTF-8 (No ANSI), screen UTF-8 (No ANSI)\n",
      "[debug] yt-dlp version stable@2025.01.26 from yt-dlp/yt-dlp [3b4531934] (pip) API\n",
      "[debug] params: {'quiet': False, 'verbose': True, 'format': 'bestaudio/best', 'postprocessors': [{'key': 'FFmpegExtractAudio', 'preferredcodec': 'mp3', 'preferredquality': '192'}], 'outtmpl': '%(title)s.%(ext)s', 'cookiefile': 'cookies.txt', 'compat_opts': set(), 'http_headers': {'User-Agent': 'Mozilla/5.0 (Windows NT 10.0; Win64; x64) AppleWebKit/537.36 (KHTML, like Gecko) Chrome/95.0.4638.17 Safari/537.36', 'Accept': 'text/html,application/xhtml+xml,application/xml;q=0.9,*/*;q=0.8', 'Accept-Language': 'en-us,en;q=0.5', 'Sec-Fetch-Mode': 'navigate'}}\n",
      "[debug] Python 3.10.14 (CPython x86_64 64bit) - Linux-6.8.0-51-generic-x86_64-with-glibc2.35 (OpenSSL 3.3.1 4 Jun 2024, glibc 2.35)\n",
      "[debug] exe versions: ffmpeg 4.4.2 (setts), ffprobe 4.4.2\n",
      "[debug] Optional libraries: Cryptodome-3.21.0, brotli-1.1.0, certifi-2024.07.04, mutagen-1.47.0, requests-2.32.3, sqlite3-3.45.3, urllib3-1.26.20, websockets-14.1\n",
      "[debug] Proxy map: {}\n",
      "[debug] Request Handlers: urllib, requests, websockets\n",
      "[debug] Loaded 1839 extractors\n"
     ]
    },
    {
     "name": "stdout",
     "output_type": "stream",
     "text": [
      "First video URL: https://www.youtube.com/watch?v=9ZU38yLA014\n",
      "[youtube:search] Extracting URL: ytsearch:Fana Hasan Raheem, JJ47, Abdullah Kasumbi\n",
      "[download] Downloading playlist: Fana Hasan Raheem, JJ47, Abdullah Kasumbi\n",
      "[youtube:search] query \"Fana Hasan Raheem, JJ47, Abdullah Kasumbi\": Downloading web client config\n",
      "[youtube:search] query \"Fana Hasan Raheem, JJ47, Abdullah Kasumbi\" page 1: Downloading API JSON\n",
      "[youtube:search] Playlist Fana Hasan Raheem, JJ47, Abdullah Kasumbi: Downloading 1 items of 1\n"
     ]
    },
    {
     "name": "stderr",
     "output_type": "stream",
     "text": [
      "[debug] The information of all playlist entries will be held in memory\n"
     ]
    },
    {
     "name": "stdout",
     "output_type": "stream",
     "text": [
      "[download] Downloading item 1 of 1\n",
      "[youtube] Extracting URL: https://www.youtube.com/watch?v=OHtk-eshvUY\n",
      "[youtube] OHtk-eshvUY: Downloading webpage\n",
      "[youtube] OHtk-eshvUY: Downloading tv client config\n",
      "[youtube] OHtk-eshvUY: Downloading player 37364e28\n",
      "[youtube] OHtk-eshvUY: Downloading tv player API JSON\n",
      "[youtube] OHtk-eshvUY: Downloading ios player API JSON\n"
     ]
    },
    {
     "name": "stderr",
     "output_type": "stream",
     "text": [
      "[debug] Loading youtube-nsig.37364e28 from cache\n",
      "[debug] [youtube] Decrypted nsig NNAwj189arqPyBU4 => R0-mdhEoLLw6Hw\n",
      "[debug] Loading youtube-nsig.37364e28 from cache\n",
      "[debug] [youtube] Decrypted nsig nC1cLoZRSSWEhDNB => xIuYE6thuww7sw\n",
      "[debug] [youtube] OHtk-eshvUY: ios client https formats require a GVS PO Token which was not provided. They will be skipped as they may yield HTTP Error 403. You can manually pass a GVS PO Token for this client with --extractor-args \"youtube:po_token=ios.gvs+XXX\". For more information, refer to  https://github.com/yt-dlp/yt-dlp/wiki/PO-Token-Guide . To enable these broken formats anyway, pass --extractor-args \"youtube:formats=missing_pot\"\n"
     ]
    },
    {
     "name": "stdout",
     "output_type": "stream",
     "text": [
      "[youtube] OHtk-eshvUY: Downloading m3u8 information\n"
     ]
    },
    {
     "name": "stderr",
     "output_type": "stream",
     "text": [
      "[debug] Sort order given by extractor: quality, res, fps, hdr:12, source, vcodec, channels, acodec, lang, proto\n",
      "[debug] Formats sorted by: hasvid, ie_pref, quality, res, fps, hdr:12(7), source, vcodec, channels, acodec, lang, proto, size, br, asr, vext, aext, hasaud, id\n"
     ]
    },
    {
     "name": "stdout",
     "output_type": "stream",
     "text": [
      "[info] OHtk-eshvUY: Downloading 1 format(s): 251\n"
     ]
    },
    {
     "name": "stderr",
     "output_type": "stream",
     "text": [
      "[debug] Invoking http downloader on \"https://rr3---sn-o3o-qxa6.googlevideo.com/videoplayback?expire=1738022797&ei=LcuXZ-uhM43c9fwPmYnduQc&ip=103.147.138.252&id=o-APYpHAHMdz5Wnq1oYaJGxyBTE_-RMiIQPUgoBsd6bQyQ&itag=251&source=youtube&requiressl=yes&xpc=EgVo2aDSNQ%3D%3D&met=1738001197%2C&mh=_i&mm=31%2C29&mn=sn-o3o-qxa6%2Csn-cvh7kn6d&ms=au%2Crdu&mv=m&mvi=3&pl=24&rms=au%2Cau&initcwndbps=1996250&bui=AY2Et-PCaJNILMJCgzKOY4AxTUC9KS8Ta59SVwtKJlhIrjyk5Vcc7-h-lDzZm5N3sa6vX89jYuB0-YyC&vprv=1&svpuc=1&mime=audio%2Fwebm&ns=VQOxm6qJj9SIQiFfN9DLmJEQ&rqh=1&gir=yes&clen=3205022&dur=183.161&lmt=1737014624871784&mt=1738000860&fvip=1&keepalive=yes&lmw=1&fexp=51326932%2C51353498%2C51371294&c=TVHTML5&sefc=1&txp=4432534&n=xIuYE6thuww7sw&sparams=expire%2Cei%2Cip%2Cid%2Citag%2Csource%2Crequiressl%2Cxpc%2Cbui%2Cvprv%2Csvpuc%2Cmime%2Cns%2Crqh%2Cgir%2Cclen%2Cdur%2Clmt&sig=AJfQdSswRAIgN57HZgJXm_vNRTDdTqqzfeWPdF0Hin7qwG920U-yO5YCIBqoGCQ8tn-acx5_38LF8qq9SaJg0YtEhHzRvQxktaLX&lsparams=met%2Cmh%2Cmm%2Cmn%2Cms%2Cmv%2Cmvi%2Cpl%2Crms%2Cinitcwndbps&lsig=AGluJ3MwRQIhALHEUgZ2SbUeQeYWvkqte-GJvW-M9cs8n9sBjiH1Y0J9AiALLVq3G1UOj9DnSQLd3V_u9wFizLzm9MBQhyyTfEZVZA%3D%3D\"\n"
     ]
    },
    {
     "name": "stdout",
     "output_type": "stream",
     "text": [
      "[download] Destination: Hasan Raheem - Fana ft Jj47 ｜ Prod by Abdullah Kasumbi.webm\n",
      "[download] 100% of    3.06MiB in 00:00:01 at 2.81MiB/s   \n"
     ]
    },
    {
     "name": "stderr",
     "output_type": "stream",
     "text": [
      "[debug] ffmpeg command line: ffprobe -show_streams 'file:Hasan Raheem - Fana ft Jj47 ｜ Prod by Abdullah Kasumbi.webm'\n"
     ]
    },
    {
     "name": "stdout",
     "output_type": "stream",
     "text": [
      "[ExtractAudio] Destination: Hasan Raheem - Fana ft Jj47 ｜ Prod by Abdullah Kasumbi.mp3\n"
     ]
    },
    {
     "name": "stderr",
     "output_type": "stream",
     "text": [
      "[debug] ffmpeg command line: ffmpeg -y -loglevel repeat+info -i 'file:Hasan Raheem - Fana ft Jj47 ｜ Prod by Abdullah Kasumbi.webm' -vn -acodec libmp3lame -b:a 192.0k -movflags +faststart 'file:Hasan Raheem - Fana ft Jj47 ｜ Prod by Abdullah Kasumbi.mp3'\n"
     ]
    },
    {
     "name": "stdout",
     "output_type": "stream",
     "text": [
      "Deleting original file Hasan Raheem - Fana ft Jj47 ｜ Prod by Abdullah Kasumbi.webm (pass -k to keep)\n",
      "[download] Finished downloading playlist: Fana Hasan Raheem, JJ47, Abdullah Kasumbi\n"
     ]
    },
    {
     "name": "stderr",
     "output_type": "stream",
     "text": [
      "[debug] Encodings: locale UTF-8, fs utf-8, pref UTF-8, out UTF-8 (No ANSI), error UTF-8 (No ANSI), screen UTF-8 (No ANSI)\n",
      "[debug] yt-dlp version stable@2025.01.26 from yt-dlp/yt-dlp [3b4531934] (pip) API\n",
      "[debug] params: {'quiet': False, 'verbose': True, 'format': 'bestaudio/best', 'postprocessors': [{'key': 'FFmpegExtractAudio', 'preferredcodec': 'mp3', 'preferredquality': '192'}], 'outtmpl': '%(title)s.%(ext)s', 'cookiefile': 'cookies.txt', 'compat_opts': set(), 'http_headers': {'User-Agent': 'Mozilla/5.0 (Windows NT 10.0; Win64; x64) AppleWebKit/537.36 (KHTML, like Gecko) Chrome/95.0.4638.17 Safari/537.36', 'Accept': 'text/html,application/xhtml+xml,application/xml;q=0.9,*/*;q=0.8', 'Accept-Language': 'en-us,en;q=0.5', 'Sec-Fetch-Mode': 'navigate'}}\n",
      "[debug] Python 3.10.14 (CPython x86_64 64bit) - Linux-6.8.0-51-generic-x86_64-with-glibc2.35 (OpenSSL 3.3.1 4 Jun 2024, glibc 2.35)\n",
      "[debug] exe versions: ffmpeg 4.4.2 (setts), ffprobe 4.4.2\n",
      "[debug] Optional libraries: Cryptodome-3.21.0, brotli-1.1.0, certifi-2024.07.04, mutagen-1.47.0, requests-2.32.3, sqlite3-3.45.3, urllib3-1.26.20, websockets-14.1\n",
      "[debug] Proxy map: {}\n",
      "[debug] Request Handlers: urllib, requests, websockets\n",
      "[debug] Loaded 1839 extractors\n"
     ]
    },
    {
     "name": "stdout",
     "output_type": "stream",
     "text": [
      "First video URL: https://www.youtube.com/watch?v=OHtk-eshvUY\n",
      "[youtube:search] Extracting URL: ytsearch:Fursat Hasan Raheem, Shehryar Khan\n",
      "[download] Downloading playlist: Fursat Hasan Raheem, Shehryar Khan\n",
      "[youtube:search] query \"Fursat Hasan Raheem, Shehryar Khan\": Downloading web client config\n",
      "[youtube:search] query \"Fursat Hasan Raheem, Shehryar Khan\" page 1: Downloading API JSON\n",
      "[youtube:search] Playlist Fursat Hasan Raheem, Shehryar Khan: Downloading 1 items of 1\n"
     ]
    },
    {
     "name": "stderr",
     "output_type": "stream",
     "text": [
      "[debug] The information of all playlist entries will be held in memory\n"
     ]
    },
    {
     "name": "stdout",
     "output_type": "stream",
     "text": [
      "[download] Downloading item 1 of 1\n",
      "[youtube] Extracting URL: https://www.youtube.com/watch?v=DvKh2AnvzDc\n",
      "[youtube] DvKh2AnvzDc: Downloading webpage\n",
      "[youtube] DvKh2AnvzDc: Downloading tv client config\n",
      "[youtube] DvKh2AnvzDc: Downloading player 37364e28\n",
      "[youtube] DvKh2AnvzDc: Downloading tv player API JSON\n",
      "[youtube] DvKh2AnvzDc: Downloading ios player API JSON\n"
     ]
    },
    {
     "name": "stderr",
     "output_type": "stream",
     "text": [
      "[debug] Loading youtube-nsig.37364e28 from cache\n",
      "[debug] [youtube] Decrypted nsig 4Y7OtcQISBQrsBgm => oIgFnogahL66zA\n",
      "[debug] Loading youtube-nsig.37364e28 from cache\n",
      "[debug] [youtube] Decrypted nsig L9LtZf8Qvp1v7QEY => wlakblkw6f8OXQ\n",
      "[debug] [youtube] DvKh2AnvzDc: ios client https formats require a GVS PO Token which was not provided. They will be skipped as they may yield HTTP Error 403. You can manually pass a GVS PO Token for this client with --extractor-args \"youtube:po_token=ios.gvs+XXX\". For more information, refer to  https://github.com/yt-dlp/yt-dlp/wiki/PO-Token-Guide . To enable these broken formats anyway, pass --extractor-args \"youtube:formats=missing_pot\"\n"
     ]
    },
    {
     "name": "stdout",
     "output_type": "stream",
     "text": [
      "[youtube] DvKh2AnvzDc: Downloading m3u8 information\n"
     ]
    },
    {
     "name": "stderr",
     "output_type": "stream",
     "text": [
      "[debug] Sort order given by extractor: quality, res, fps, hdr:12, source, vcodec, channels, acodec, lang, proto\n",
      "[debug] Formats sorted by: hasvid, ie_pref, quality, res, fps, hdr:12(7), source, vcodec, channels, acodec, lang, proto, size, br, asr, vext, aext, hasaud, id\n"
     ]
    },
    {
     "name": "stdout",
     "output_type": "stream",
     "text": [
      "[info] DvKh2AnvzDc: Downloading 1 format(s): 251\n"
     ]
    },
    {
     "name": "stderr",
     "output_type": "stream",
     "text": [
      "[debug] Invoking http downloader on \"https://rr2---sn-o3o-qxa6.googlevideo.com/videoplayback?expire=1738022807&ei=N8uXZ6T-NLjEssUPpPeXuQo&ip=103.147.138.252&id=o-AJmD_-_La3AxZAxFtyuoWZJukFBYl7nD_v7tRXWKPWGL&itag=251&source=youtube&requiressl=yes&xpc=EgVo2aDSNQ%3D%3D&met=1738001207%2C&mh=2U&mm=31%2C29&mn=sn-o3o-qxa6%2Csn-cvh7knll&ms=au%2Crdu&mv=m&mvi=2&pl=24&rms=au%2Cau&initcwndbps=1996250&bui=AY2Et-NPDUcnpSCFm3G8uHnPCvSoYqEsTnByUbkekvLewCTWwN0NGc4OsJHV9OSUofqdrzFBhyz7NeGh&vprv=1&svpuc=1&mime=audio%2Fwebm&ns=CuFwg8AMcchJtnxemypU4ggQ&rqh=1&gir=yes&clen=3263180&dur=189.121&lmt=1714545146020748&mt=1738000860&fvip=2&keepalive=yes&lmw=1&fexp=51326932%2C51353498%2C51371294&c=TVHTML5&sefc=1&txp=6308224&n=wlakblkw6f8OXQ&sparams=expire%2Cei%2Cip%2Cid%2Citag%2Csource%2Crequiressl%2Cxpc%2Cbui%2Cvprv%2Csvpuc%2Cmime%2Cns%2Crqh%2Cgir%2Cclen%2Cdur%2Clmt&sig=AJfQdSswRgIhALmU-rGuSjwyC4N-I8E8i1sS0Q3Ik1R5wbbqMS4jeJ67AiEA5oXeRI_Ir7e7jsu6rk2o7Jr5bn-cDeXXM-WQsdtdtGg%3D&lsparams=met%2Cmh%2Cmm%2Cmn%2Cms%2Cmv%2Cmvi%2Cpl%2Crms%2Cinitcwndbps&lsig=AGluJ3MwRQIgYMAvTyiy-Vimj5rfXAS3oLRyXvYEZgOnG9Q3NBWDo0YCIQDhsrQNugVRfC3BgPIYyYuH8fTVoLAN1bfiL9VZbdCung%3D%3D\"\n"
     ]
    },
    {
     "name": "stdout",
     "output_type": "stream",
     "text": [
      "[download] Destination: Hasan Raheem - Fursat (Audio).webm\n",
      "[download] 100% of    3.11MiB in 00:00:01 at 2.01MiB/s   \n"
     ]
    },
    {
     "name": "stderr",
     "output_type": "stream",
     "text": [
      "[debug] ffmpeg command line: ffprobe -show_streams 'file:Hasan Raheem - Fursat (Audio).webm'\n"
     ]
    },
    {
     "name": "stdout",
     "output_type": "stream",
     "text": [
      "[ExtractAudio] Destination: Hasan Raheem - Fursat (Audio).mp3\n"
     ]
    },
    {
     "name": "stderr",
     "output_type": "stream",
     "text": [
      "[debug] ffmpeg command line: ffmpeg -y -loglevel repeat+info -i 'file:Hasan Raheem - Fursat (Audio).webm' -vn -acodec libmp3lame -b:a 192.0k -movflags +faststart 'file:Hasan Raheem - Fursat (Audio).mp3'\n"
     ]
    },
    {
     "name": "stdout",
     "output_type": "stream",
     "text": [
      "Deleting original file Hasan Raheem - Fursat (Audio).webm (pass -k to keep)\n",
      "[download] Finished downloading playlist: Fursat Hasan Raheem, Shehryar Khan\n"
     ]
    },
    {
     "name": "stderr",
     "output_type": "stream",
     "text": [
      "[debug] Encodings: locale UTF-8, fs utf-8, pref UTF-8, out UTF-8 (No ANSI), error UTF-8 (No ANSI), screen UTF-8 (No ANSI)\n",
      "[debug] yt-dlp version stable@2025.01.26 from yt-dlp/yt-dlp [3b4531934] (pip) API\n",
      "[debug] params: {'quiet': False, 'verbose': True, 'format': 'bestaudio/best', 'postprocessors': [{'key': 'FFmpegExtractAudio', 'preferredcodec': 'mp3', 'preferredquality': '192'}], 'outtmpl': '%(title)s.%(ext)s', 'cookiefile': 'cookies.txt', 'compat_opts': set(), 'http_headers': {'User-Agent': 'Mozilla/5.0 (Windows NT 10.0; Win64; x64) AppleWebKit/537.36 (KHTML, like Gecko) Chrome/95.0.4638.17 Safari/537.36', 'Accept': 'text/html,application/xhtml+xml,application/xml;q=0.9,*/*;q=0.8', 'Accept-Language': 'en-us,en;q=0.5', 'Sec-Fetch-Mode': 'navigate'}}\n",
      "[debug] Python 3.10.14 (CPython x86_64 64bit) - Linux-6.8.0-51-generic-x86_64-with-glibc2.35 (OpenSSL 3.3.1 4 Jun 2024, glibc 2.35)\n",
      "[debug] exe versions: ffmpeg 4.4.2 (setts), ffprobe 4.4.2\n",
      "[debug] Optional libraries: Cryptodome-3.21.0, brotli-1.1.0, certifi-2024.07.04, mutagen-1.47.0, requests-2.32.3, sqlite3-3.45.3, urllib3-1.26.20, websockets-14.1\n",
      "[debug] Proxy map: {}\n",
      "[debug] Request Handlers: urllib, requests, websockets\n",
      "[debug] Loaded 1839 extractors\n"
     ]
    },
    {
     "name": "stdout",
     "output_type": "stream",
     "text": [
      "First video URL: https://www.youtube.com/watch?v=DvKh2AnvzDc\n",
      "[youtube:search] Extracting URL: ytsearch:Departure Lane Talha Anjum, Umair\n",
      "[download] Downloading playlist: Departure Lane Talha Anjum, Umair\n",
      "[youtube:search] query \"Departure Lane Talha Anjum, Umair\": Downloading web client config\n",
      "[youtube:search] query \"Departure Lane Talha Anjum, Umair\" page 1: Downloading API JSON\n",
      "[youtube:search] Playlist Departure Lane Talha Anjum, Umair: Downloading 1 items of 1\n"
     ]
    },
    {
     "name": "stderr",
     "output_type": "stream",
     "text": [
      "[debug] The information of all playlist entries will be held in memory\n"
     ]
    },
    {
     "name": "stdout",
     "output_type": "stream",
     "text": [
      "[download] Downloading item 1 of 1\n",
      "[youtube] Extracting URL: https://www.youtube.com/watch?v=pJPnooVS7Ls\n",
      "[youtube] pJPnooVS7Ls: Downloading webpage\n",
      "[youtube] pJPnooVS7Ls: Downloading tv client config\n",
      "[youtube] pJPnooVS7Ls: Downloading player 37364e28\n",
      "[youtube] pJPnooVS7Ls: Downloading tv player API JSON\n",
      "[youtube] pJPnooVS7Ls: Downloading ios player API JSON\n"
     ]
    },
    {
     "name": "stderr",
     "output_type": "stream",
     "text": [
      "[debug] [youtube] Extracting signature function js_37364e28_110\n",
      "[debug] Loading youtube-sigfuncs.js_37364e28_110 from cache\n",
      "[debug] Loading youtube-nsig.37364e28 from cache\n",
      "[debug] [youtube] Decrypted nsig XvIEpqLUNBrGlTDU => ADSwnfvCx812Wg\n",
      "[debug] Loading youtube-nsig.37364e28 from cache\n",
      "[debug] [youtube] Decrypted nsig lWJvJmh9sWLYqNs6 => Ri5WIqNfjUd1sw\n",
      "[debug] [youtube] Extracting signature function js_37364e28_106\n",
      "[debug] Loading youtube-sigfuncs.js_37364e28_106 from cache\n",
      "[debug] [youtube] pJPnooVS7Ls: ios client https formats require a GVS PO Token which was not provided. They will be skipped as they may yield HTTP Error 403. You can manually pass a GVS PO Token for this client with --extractor-args \"youtube:po_token=ios.gvs+XXX\". For more information, refer to  https://github.com/yt-dlp/yt-dlp/wiki/PO-Token-Guide . To enable these broken formats anyway, pass --extractor-args \"youtube:formats=missing_pot\"\n"
     ]
    },
    {
     "name": "stdout",
     "output_type": "stream",
     "text": [
      "[youtube] pJPnooVS7Ls: Downloading m3u8 information\n"
     ]
    },
    {
     "name": "stderr",
     "output_type": "stream",
     "text": [
      "[debug] Sort order given by extractor: quality, res, fps, hdr:12, source, vcodec, channels, acodec, lang, proto\n",
      "[debug] Formats sorted by: hasvid, ie_pref, quality, res, fps, hdr:12(7), source, vcodec, channels, acodec, lang, proto, size, br, asr, vext, aext, hasaud, id\n"
     ]
    },
    {
     "name": "stdout",
     "output_type": "stream",
     "text": [
      "[info] pJPnooVS7Ls: Downloading 1 format(s): 251\n"
     ]
    },
    {
     "name": "stderr",
     "output_type": "stream",
     "text": [
      "[debug] Invoking http downloader on \"https://rr2---sn-o3o-qxaz.googlevideo.com/videoplayback?expire=1738022816&ei=QMuXZ_GdMO7c3LUPvPz50As&ip=103.147.138.252&id=o-AKjWAgEPNNivz9LPdUx0G8XtoIF0K7BiDTf2SHg7_BMJ&itag=251&source=youtube&requiressl=yes&xpc=EgVo2aDSNQ%3D%3D&met=1738001216%2C&mh=Di&mm=31%2C29&mn=sn-o3o-qxaz%2Csn-cvh76nl6&ms=au%2Crdu&mv=m&mvi=2&pl=24&rms=au%2Cau&initcwndbps=1685000&bui=AY2Et-OrePfQUQplLvuk-2KN6_MA_jVuZDoKEmZ1MYJ94UlOhn7DUrqpyGkSdPDMCd4Kfz_2aZT9QWT3&vprv=1&svpuc=1&mime=audio%2Fwebm&ns=k5JIxfNTMhUz7fPSzS-d-68Q&rqh=1&gir=yes&clen=2953617&dur=185.381&lmt=1736427483819859&mt=1738000860&fvip=5&keepalive=yes&lmw=1&fexp=51326932%2C51353498%2C51371294&c=TVHTML5&sefc=1&txp=4532534&n=Ri5WIqNfjUd1sw&sparams=expire%2Cei%2Cip%2Cid%2Citag%2Csource%2Crequiressl%2Cxpc%2Cbui%2Cvprv%2Csvpuc%2Cmime%2Cns%2Crqh%2Cgir%2Cclen%2Cdur%2Clmt&lsparams=met%2Cmh%2Cmm%2Cmn%2Cms%2Cmv%2Cmvi%2Cpl%2Crms%2Cinitcwndbps&lsig=AGluJ3MwRAIgJuPQC25giDoGONSiieV4m8WVUgQa_TEh2BTeNhdxIysCIE5J9WIBXBfNwKnFuz3gHqMJghaiVfJC0G-yOX6SdtNl&sig=AJfQdSswRQIgct8qcHp2BiqS0TLLTbAvlXFUSw0W6VfLs5s1YzO-zRICIQD6Vo1edEBGzmH5FtNzMXl2gwPRIhM_28vhC99NYaLcNg%3D%3D\"\n"
     ]
    },
    {
     "name": "stdout",
     "output_type": "stream",
     "text": [
      "[download] Destination: Talha Anjum - Departure Lane ｜ Prod. by Umair (Official Music Video).webm\n",
      "[download] 100% of    2.82MiB in 00:00:01 at 1.98MiB/s   \n"
     ]
    },
    {
     "name": "stderr",
     "output_type": "stream",
     "text": [
      "[debug] ffmpeg command line: ffprobe -show_streams 'file:Talha Anjum - Departure Lane ｜ Prod. by Umair (Official Music Video).webm'\n"
     ]
    },
    {
     "name": "stdout",
     "output_type": "stream",
     "text": [
      "[ExtractAudio] Destination: Talha Anjum - Departure Lane ｜ Prod. by Umair (Official Music Video).mp3\n"
     ]
    },
    {
     "name": "stderr",
     "output_type": "stream",
     "text": [
      "[debug] ffmpeg command line: ffmpeg -y -loglevel repeat+info -i 'file:Talha Anjum - Departure Lane ｜ Prod. by Umair (Official Music Video).webm' -vn -acodec libmp3lame -b:a 192.0k -movflags +faststart 'file:Talha Anjum - Departure Lane ｜ Prod. by Umair (Official Music Video).mp3'\n"
     ]
    },
    {
     "name": "stdout",
     "output_type": "stream",
     "text": [
      "Deleting original file Talha Anjum - Departure Lane ｜ Prod. by Umair (Official Music Video).webm (pass -k to keep)\n",
      "[download] Finished downloading playlist: Departure Lane Talha Anjum, Umair\n"
     ]
    },
    {
     "name": "stderr",
     "output_type": "stream",
     "text": [
      "[debug] Encodings: locale UTF-8, fs utf-8, pref UTF-8, out UTF-8 (No ANSI), error UTF-8 (No ANSI), screen UTF-8 (No ANSI)\n",
      "[debug] yt-dlp version stable@2025.01.26 from yt-dlp/yt-dlp [3b4531934] (pip) API\n",
      "[debug] params: {'quiet': False, 'verbose': True, 'format': 'bestaudio/best', 'postprocessors': [{'key': 'FFmpegExtractAudio', 'preferredcodec': 'mp3', 'preferredquality': '192'}], 'outtmpl': '%(title)s.%(ext)s', 'cookiefile': 'cookies.txt', 'compat_opts': set(), 'http_headers': {'User-Agent': 'Mozilla/5.0 (Windows NT 10.0; Win64; x64) AppleWebKit/537.36 (KHTML, like Gecko) Chrome/95.0.4638.17 Safari/537.36', 'Accept': 'text/html,application/xhtml+xml,application/xml;q=0.9,*/*;q=0.8', 'Accept-Language': 'en-us,en;q=0.5', 'Sec-Fetch-Mode': 'navigate'}}\n",
      "[debug] Python 3.10.14 (CPython x86_64 64bit) - Linux-6.8.0-51-generic-x86_64-with-glibc2.35 (OpenSSL 3.3.1 4 Jun 2024, glibc 2.35)\n",
      "[debug] exe versions: ffmpeg 4.4.2 (setts), ffprobe 4.4.2\n",
      "[debug] Optional libraries: Cryptodome-3.21.0, brotli-1.1.0, certifi-2024.07.04, mutagen-1.47.0, requests-2.32.3, sqlite3-3.45.3, urllib3-1.26.20, websockets-14.1\n",
      "[debug] Proxy map: {}\n",
      "[debug] Request Handlers: urllib, requests, websockets\n",
      "[debug] Loaded 1839 extractors\n"
     ]
    },
    {
     "name": "stdout",
     "output_type": "stream",
     "text": [
      "First video URL: https://www.youtube.com/watch?v=pJPnooVS7Ls\n",
      "[youtube:search] Extracting URL: ytsearch:4U Maanu\n",
      "[download] Downloading playlist: 4U Maanu\n",
      "[youtube:search] query \"4U Maanu\": Downloading web client config\n",
      "[youtube:search] query \"4U Maanu\" page 1: Downloading API JSON\n",
      "[youtube:search] Playlist 4U Maanu: Downloading 1 items of 1\n"
     ]
    },
    {
     "name": "stderr",
     "output_type": "stream",
     "text": [
      "[debug] The information of all playlist entries will be held in memory\n"
     ]
    },
    {
     "name": "stdout",
     "output_type": "stream",
     "text": [
      "[download] Downloading item 1 of 1\n",
      "[youtube] Extracting URL: https://www.youtube.com/watch?v=UO_QEkZtMAw\n",
      "[youtube] UO_QEkZtMAw: Downloading webpage\n",
      "[youtube] UO_QEkZtMAw: Downloading tv client config\n",
      "[youtube] UO_QEkZtMAw: Downloading player 37364e28\n",
      "[youtube] UO_QEkZtMAw: Downloading tv player API JSON\n",
      "[youtube] UO_QEkZtMAw: Downloading ios player API JSON\n"
     ]
    },
    {
     "name": "stderr",
     "output_type": "stream",
     "text": [
      "[debug] Loading youtube-nsig.37364e28 from cache\n",
      "[debug] [youtube] Decrypted nsig nww6ybz6UuKaBkA1 => OKLYgY_cvKoifA\n",
      "[debug] Loading youtube-nsig.37364e28 from cache\n",
      "[debug] [youtube] Decrypted nsig I0nf1XFqXiRkcBkk => 6Nnh4w9SbhuZGw\n",
      "[debug] [youtube] UO_QEkZtMAw: ios client https formats require a GVS PO Token which was not provided. They will be skipped as they may yield HTTP Error 403. You can manually pass a GVS PO Token for this client with --extractor-args \"youtube:po_token=ios.gvs+XXX\". For more information, refer to  https://github.com/yt-dlp/yt-dlp/wiki/PO-Token-Guide . To enable these broken formats anyway, pass --extractor-args \"youtube:formats=missing_pot\"\n"
     ]
    },
    {
     "name": "stdout",
     "output_type": "stream",
     "text": [
      "[youtube] UO_QEkZtMAw: Downloading m3u8 information\n"
     ]
    },
    {
     "name": "stderr",
     "output_type": "stream",
     "text": [
      "[debug] Sort order given by extractor: quality, res, fps, hdr:12, source, vcodec, channels, acodec, lang, proto\n",
      "[debug] Formats sorted by: hasvid, ie_pref, quality, res, fps, hdr:12(7), source, vcodec, channels, acodec, lang, proto, size, br, asr, vext, aext, hasaud, id\n"
     ]
    },
    {
     "name": "stdout",
     "output_type": "stream",
     "text": [
      "[info] UO_QEkZtMAw: Downloading 1 format(s): 251\n"
     ]
    },
    {
     "name": "stderr",
     "output_type": "stream",
     "text": [
      "[debug] Invoking http downloader on \"https://rr1---sn-o3o-qxaz.googlevideo.com/videoplayback?expire=1738022827&ei=S8uXZ5zCJNba9fwPiJSvYQ&ip=103.147.138.252&id=o-AMTL69AeczcQfmjT49eRIqypjfopvCvC8VMPXlFtT4Sk&itag=251&source=youtube&requiressl=yes&xpc=EgVo2aDSNQ%3D%3D&met=1738001227%2C&mh=KN&mm=31%2C29&mn=sn-o3o-qxaz%2Csn-cvh7kn6d&ms=au%2Crdu&mv=m&mvi=1&pl=24&rms=au%2Cau&initcwndbps=1685000&bui=AY2Et-Pr5NNQJixLYrj9TxZKjOPczWjCH2Yr83BVUh1s4-AU6cMFXo1GRxCfB0eVuIp80RaW2oxCTQxw&vprv=1&svpuc=1&mime=audio%2Fwebm&ns=f6rG2kIW4_qTBfmztzzuOqgQ&rqh=1&gir=yes&clen=3038564&dur=218.681&lmt=1733582106959580&mt=1738000860&fvip=3&keepalive=yes&lmw=1&fexp=51326932%2C51353498%2C51371294&c=TVHTML5&sefc=1&txp=5532434&n=6Nnh4w9SbhuZGw&sparams=expire%2Cei%2Cip%2Cid%2Citag%2Csource%2Crequiressl%2Cxpc%2Cbui%2Cvprv%2Csvpuc%2Cmime%2Cns%2Crqh%2Cgir%2Cclen%2Cdur%2Clmt&sig=AJfQdSswRAIgU_nkJUnNQqm3Mjn35yNmepqHOi9YpK2r4ALk_TSymFwCIC3WbrantGjLbtyQ9NQ0BGHqctM9d9TEYtb84WZnitxx&lsparams=met%2Cmh%2Cmm%2Cmn%2Cms%2Cmv%2Cmvi%2Cpl%2Crms%2Cinitcwndbps&lsig=AGluJ3MwRgIhAPSBq9eqV9q46uN_wBywm220SH8u5rKTSurG_NeTDCNXAiEAsJ9sodmK7xy7G0B3Mtym5Ih_2wEqCg_mr7oCHwETgRU%3D\"\n"
     ]
    },
    {
     "name": "stdout",
     "output_type": "stream",
     "text": [
      "[download] Destination: Maanu - 4U (Official Music Video).webm\n",
      "[download] 100% of    2.90MiB in 00:00:02 at 1.06MiB/s   \n"
     ]
    },
    {
     "name": "stderr",
     "output_type": "stream",
     "text": [
      "[debug] ffmpeg command line: ffprobe -show_streams 'file:Maanu - 4U (Official Music Video).webm'\n"
     ]
    },
    {
     "name": "stdout",
     "output_type": "stream",
     "text": [
      "[ExtractAudio] Destination: Maanu - 4U (Official Music Video).mp3\n"
     ]
    },
    {
     "name": "stderr",
     "output_type": "stream",
     "text": [
      "[debug] ffmpeg command line: ffmpeg -y -loglevel repeat+info -i 'file:Maanu - 4U (Official Music Video).webm' -vn -acodec libmp3lame -b:a 192.0k -movflags +faststart 'file:Maanu - 4U (Official Music Video).mp3'\n"
     ]
    },
    {
     "name": "stdout",
     "output_type": "stream",
     "text": [
      "Deleting original file Maanu - 4U (Official Music Video).webm (pass -k to keep)\n",
      "[download] Finished downloading playlist: 4U Maanu\n"
     ]
    },
    {
     "name": "stderr",
     "output_type": "stream",
     "text": [
      "[debug] Encodings: locale UTF-8, fs utf-8, pref UTF-8, out UTF-8 (No ANSI), error UTF-8 (No ANSI), screen UTF-8 (No ANSI)\n",
      "[debug] yt-dlp version stable@2025.01.26 from yt-dlp/yt-dlp [3b4531934] (pip) API\n",
      "[debug] params: {'quiet': False, 'verbose': True, 'format': 'bestaudio/best', 'postprocessors': [{'key': 'FFmpegExtractAudio', 'preferredcodec': 'mp3', 'preferredquality': '192'}], 'outtmpl': '%(title)s.%(ext)s', 'cookiefile': 'cookies.txt', 'compat_opts': set(), 'http_headers': {'User-Agent': 'Mozilla/5.0 (Windows NT 10.0; Win64; x64) AppleWebKit/537.36 (KHTML, like Gecko) Chrome/95.0.4638.17 Safari/537.36', 'Accept': 'text/html,application/xhtml+xml,application/xml;q=0.9,*/*;q=0.8', 'Accept-Language': 'en-us,en;q=0.5', 'Sec-Fetch-Mode': 'navigate'}}\n",
      "[debug] Python 3.10.14 (CPython x86_64 64bit) - Linux-6.8.0-51-generic-x86_64-with-glibc2.35 (OpenSSL 3.3.1 4 Jun 2024, glibc 2.35)\n",
      "[debug] exe versions: ffmpeg 4.4.2 (setts), ffprobe 4.4.2\n",
      "[debug] Optional libraries: Cryptodome-3.21.0, brotli-1.1.0, certifi-2024.07.04, mutagen-1.47.0, requests-2.32.3, sqlite3-3.45.3, urllib3-1.26.20, websockets-14.1\n",
      "[debug] Proxy map: {}\n",
      "[debug] Request Handlers: urllib, requests, websockets\n",
      "[debug] Loaded 1839 extractors\n"
     ]
    },
    {
     "name": "stdout",
     "output_type": "stream",
     "text": [
      "First video URL: https://www.youtube.com/watch?v=UO_QEkZtMAw\n",
      "[youtube:search] Extracting URL: ytsearch:Muskurahat Mitraz\n",
      "[download] Downloading playlist: Muskurahat Mitraz\n",
      "[youtube:search] query \"Muskurahat Mitraz\": Downloading web client config\n",
      "[youtube:search] query \"Muskurahat Mitraz\" page 1: Downloading API JSON\n",
      "[youtube:search] Playlist Muskurahat Mitraz: Downloading 1 items of 1\n"
     ]
    },
    {
     "name": "stderr",
     "output_type": "stream",
     "text": [
      "[debug] The information of all playlist entries will be held in memory\n"
     ]
    },
    {
     "name": "stdout",
     "output_type": "stream",
     "text": [
      "[download] Downloading item 1 of 1\n",
      "[youtube] Extracting URL: https://www.youtube.com/watch?v=A6eHr0spgqs\n",
      "[youtube] A6eHr0spgqs: Downloading webpage\n",
      "[youtube] A6eHr0spgqs: Downloading tv client config\n",
      "[youtube] A6eHr0spgqs: Downloading player 37364e28\n",
      "[youtube] A6eHr0spgqs: Downloading tv player API JSON\n",
      "[youtube] A6eHr0spgqs: Downloading ios player API JSON\n"
     ]
    },
    {
     "name": "stderr",
     "output_type": "stream",
     "text": [
      "[debug] Loading youtube-nsig.37364e28 from cache\n",
      "[debug] [youtube] Decrypted nsig Bo-L2FhdguCc7CPi => V6wag81a75FOvg\n",
      "[debug] Loading youtube-nsig.37364e28 from cache\n",
      "[debug] [youtube] Decrypted nsig odxcckvRjff6HvIP => x9EZ1FXFU03bnA\n",
      "[debug] [youtube] A6eHr0spgqs: ios client https formats require a GVS PO Token which was not provided. They will be skipped as they may yield HTTP Error 403. You can manually pass a GVS PO Token for this client with --extractor-args \"youtube:po_token=ios.gvs+XXX\". For more information, refer to  https://github.com/yt-dlp/yt-dlp/wiki/PO-Token-Guide . To enable these broken formats anyway, pass --extractor-args \"youtube:formats=missing_pot\"\n"
     ]
    },
    {
     "name": "stdout",
     "output_type": "stream",
     "text": [
      "[youtube] A6eHr0spgqs: Downloading m3u8 information\n"
     ]
    },
    {
     "name": "stderr",
     "output_type": "stream",
     "text": [
      "[debug] Sort order given by extractor: quality, res, fps, hdr:12, source, vcodec, channels, acodec, lang, proto\n",
      "[debug] Formats sorted by: hasvid, ie_pref, quality, res, fps, hdr:12(7), source, vcodec, channels, acodec, lang, proto, size, br, asr, vext, aext, hasaud, id\n"
     ]
    },
    {
     "name": "stdout",
     "output_type": "stream",
     "text": [
      "[info] A6eHr0spgqs: Downloading 1 format(s): 251\n"
     ]
    },
    {
     "name": "stderr",
     "output_type": "stream",
     "text": [
      "[debug] Invoking http downloader on \"https://rr1---sn-o3o-qxa6.googlevideo.com/videoplayback?expire=1738022836&ei=VMuXZ4zdNsfHssUP7K7BsAo&ip=103.147.138.252&id=o-AJEe2uL-HPV5XoY4IeUMFcoGgNCgVTTp6pytTKF1jLwM&itag=251&source=youtube&requiressl=yes&xpc=EgVo2aDSNQ%3D%3D&met=1738001236%2C&mh=Vn&mm=31%2C29&mn=sn-o3o-qxa6%2Csn-cvh7knzs&ms=au%2Crdu&mv=m&mvi=1&pl=24&rms=au%2Cau&initcwndbps=1996250&bui=AY2Et-NZ_BZ2jcbq6avhB7YbjnUEs9ZfyeOC1fqSaQ0QbDgvsl4wyJ2EaLcjYsTTUZgV2-vrAMItTNLy&vprv=1&svpuc=1&mime=audio%2Fwebm&ns=GK74gXTtETxkmIPHHsnTD_wQ&rqh=1&gir=yes&clen=4358271&dur=252.261&lmt=1731364713648019&mt=1738000860&fvip=4&keepalive=yes&lmw=1&fexp=51326932%2C51353498%2C51371294&c=TVHTML5&sefc=1&txp=4532434&n=x9EZ1FXFU03bnA&sparams=expire%2Cei%2Cip%2Cid%2Citag%2Csource%2Crequiressl%2Cxpc%2Cbui%2Cvprv%2Csvpuc%2Cmime%2Cns%2Crqh%2Cgir%2Cclen%2Cdur%2Clmt&sig=AJfQdSswRgIhAJTOPlJIFLy0oZwhxwJN8hkg8vlTgMH1QDsTUgSx5u1UAiEA-EYtrHKBrI8Ndl6qUKGa1tH972rQlO2j6Xp4u-dKevs%3D&lsparams=met%2Cmh%2Cmm%2Cmn%2Cms%2Cmv%2Cmvi%2Cpl%2Crms%2Cinitcwndbps&lsig=AGluJ3MwRAIgPGykkPlBn5XUzTKtIwhL3gNdMad6pRte5iXFjtqHLwICIF_BgfMz3vAITd4Px9tz9EF-LZ3OIXyK6hRjM4UteAXF\"\n"
     ]
    },
    {
     "name": "stdout",
     "output_type": "stream",
     "text": [
      "[download] Destination: MITRAZ - Muskurahat (Official Audio).webm\n",
      "[download] 100% of    4.16MiB in 00:00:01 at 3.18MiB/s   \n"
     ]
    },
    {
     "name": "stderr",
     "output_type": "stream",
     "text": [
      "[debug] ffmpeg command line: ffprobe -show_streams 'file:MITRAZ - Muskurahat (Official Audio).webm'\n"
     ]
    },
    {
     "name": "stdout",
     "output_type": "stream",
     "text": [
      "[ExtractAudio] Destination: MITRAZ - Muskurahat (Official Audio).mp3\n"
     ]
    },
    {
     "name": "stderr",
     "output_type": "stream",
     "text": [
      "[debug] ffmpeg command line: ffmpeg -y -loglevel repeat+info -i 'file:MITRAZ - Muskurahat (Official Audio).webm' -vn -acodec libmp3lame -b:a 192.0k -movflags +faststart 'file:MITRAZ - Muskurahat (Official Audio).mp3'\n"
     ]
    },
    {
     "name": "stdout",
     "output_type": "stream",
     "text": [
      "Deleting original file MITRAZ - Muskurahat (Official Audio).webm (pass -k to keep)\n",
      "[download] Finished downloading playlist: Muskurahat Mitraz\n"
     ]
    },
    {
     "name": "stderr",
     "output_type": "stream",
     "text": [
      "[debug] Encodings: locale UTF-8, fs utf-8, pref UTF-8, out UTF-8 (No ANSI), error UTF-8 (No ANSI), screen UTF-8 (No ANSI)\n",
      "[debug] yt-dlp version stable@2025.01.26 from yt-dlp/yt-dlp [3b4531934] (pip) API\n",
      "[debug] params: {'quiet': False, 'verbose': True, 'format': 'bestaudio/best', 'postprocessors': [{'key': 'FFmpegExtractAudio', 'preferredcodec': 'mp3', 'preferredquality': '192'}], 'outtmpl': '%(title)s.%(ext)s', 'cookiefile': 'cookies.txt', 'compat_opts': set(), 'http_headers': {'User-Agent': 'Mozilla/5.0 (Windows NT 10.0; Win64; x64) AppleWebKit/537.36 (KHTML, like Gecko) Chrome/95.0.4638.17 Safari/537.36', 'Accept': 'text/html,application/xhtml+xml,application/xml;q=0.9,*/*;q=0.8', 'Accept-Language': 'en-us,en;q=0.5', 'Sec-Fetch-Mode': 'navigate'}}\n",
      "[debug] Python 3.10.14 (CPython x86_64 64bit) - Linux-6.8.0-51-generic-x86_64-with-glibc2.35 (OpenSSL 3.3.1 4 Jun 2024, glibc 2.35)\n",
      "[debug] exe versions: ffmpeg 4.4.2 (setts), ffprobe 4.4.2\n",
      "[debug] Optional libraries: Cryptodome-3.21.0, brotli-1.1.0, certifi-2024.07.04, mutagen-1.47.0, requests-2.32.3, sqlite3-3.45.3, urllib3-1.26.20, websockets-14.1\n",
      "[debug] Proxy map: {}\n",
      "[debug] Request Handlers: urllib, requests, websockets\n",
      "[debug] Loaded 1839 extractors\n"
     ]
    },
    {
     "name": "stdout",
     "output_type": "stream",
     "text": [
      "First video URL: https://www.youtube.com/watch?v=A6eHr0spgqs\n",
      "[youtube:search] Extracting URL: ytsearch:Akhiyaan Mitraz\n",
      "[download] Downloading playlist: Akhiyaan Mitraz\n",
      "[youtube:search] query \"Akhiyaan Mitraz\": Downloading web client config\n",
      "[youtube:search] query \"Akhiyaan Mitraz\" page 1: Downloading API JSON\n",
      "[youtube:search] Playlist Akhiyaan Mitraz: Downloading 1 items of 1\n"
     ]
    },
    {
     "name": "stderr",
     "output_type": "stream",
     "text": [
      "[debug] The information of all playlist entries will be held in memory\n"
     ]
    },
    {
     "name": "stdout",
     "output_type": "stream",
     "text": [
      "[download] Downloading item 1 of 1\n",
      "[youtube] Extracting URL: https://www.youtube.com/watch?v=xEALTVLxrDw\n",
      "[youtube] xEALTVLxrDw: Downloading webpage\n",
      "[youtube] xEALTVLxrDw: Downloading tv client config\n",
      "[youtube] xEALTVLxrDw: Downloading player 37364e28\n",
      "[youtube] xEALTVLxrDw: Downloading tv player API JSON\n",
      "[youtube] xEALTVLxrDw: Downloading ios player API JSON\n"
     ]
    },
    {
     "name": "stderr",
     "output_type": "stream",
     "text": [
      "[debug] Loading youtube-nsig.37364e28 from cache\n",
      "[debug] [youtube] Decrypted nsig oZyKKOXaFN4iE7nJ => SvyZz978fIfbRQ\n",
      "[debug] Loading youtube-nsig.37364e28 from cache\n",
      "[debug] [youtube] Decrypted nsig XyjFgsNDmlIofB8j => jcaw7-dHM0t9YA\n",
      "[debug] [youtube] xEALTVLxrDw: ios client https formats require a GVS PO Token which was not provided. They will be skipped as they may yield HTTP Error 403. You can manually pass a GVS PO Token for this client with --extractor-args \"youtube:po_token=ios.gvs+XXX\". For more information, refer to  https://github.com/yt-dlp/yt-dlp/wiki/PO-Token-Guide . To enable these broken formats anyway, pass --extractor-args \"youtube:formats=missing_pot\"\n"
     ]
    },
    {
     "name": "stdout",
     "output_type": "stream",
     "text": [
      "[youtube] xEALTVLxrDw: Downloading m3u8 information\n"
     ]
    },
    {
     "name": "stderr",
     "output_type": "stream",
     "text": [
      "[debug] Sort order given by extractor: quality, res, fps, hdr:12, source, vcodec, channels, acodec, lang, proto\n",
      "[debug] Formats sorted by: hasvid, ie_pref, quality, res, fps, hdr:12(7), source, vcodec, channels, acodec, lang, proto, size, br, asr, vext, aext, hasaud, id\n"
     ]
    },
    {
     "name": "stdout",
     "output_type": "stream",
     "text": [
      "[info] xEALTVLxrDw: Downloading 1 format(s): 251\n"
     ]
    },
    {
     "name": "stderr",
     "output_type": "stream",
     "text": [
      "[debug] Invoking http downloader on \"https://rr2---sn-o3o-qxaz.googlevideo.com/videoplayback?expire=1738022846&ei=XsuXZ_CmOL7P9fwPyPi_kQc&ip=103.147.138.252&id=o-AKOFEZEXS1DIbcVbBHJlqjKxWqBLcMPGDgXJkBsFtraM&itag=251&source=youtube&requiressl=yes&xpc=EgVo2aDSNQ%3D%3D&met=1738001246%2C&mh=JU&mm=31%2C29&mn=sn-o3o-qxaz%2Csn-cvh7knsz&ms=au%2Crdu&mv=m&mvi=2&pl=24&rms=au%2Cau&initcwndbps=1685000&bui=AY2Et-On_3YfgLcAftNuLepUrPnVzxGGbEAwLa30zWCXDXQDoXLEvNFX6NBUkQoslXSd9B0GVjhBO3j1&vprv=1&svpuc=1&mime=audio%2Fwebm&ns=K_ZoF6OnqBKTkzilOO4XpGQQ&rqh=1&gir=yes&clen=3452441&dur=190.101&lmt=1726268714671198&mt=1738000860&fvip=5&keepalive=yes&lmw=1&fexp=51326932%2C51353498%2C51371294&c=TVHTML5&sefc=1&txp=5532434&n=jcaw7-dHM0t9YA&sparams=expire%2Cei%2Cip%2Cid%2Citag%2Csource%2Crequiressl%2Cxpc%2Cbui%2Cvprv%2Csvpuc%2Cmime%2Cns%2Crqh%2Cgir%2Cclen%2Cdur%2Clmt&sig=AJfQdSswRgIhAPxdwTbCgWR5dtKTIGJbR5TQPKE3_gAbhtwEzHNzhuudAiEA-QGEzawwIYCIzFo8IUqWX_mY4D8FFEgRmS2BKA4slyM%3D&lsparams=met%2Cmh%2Cmm%2Cmn%2Cms%2Cmv%2Cmvi%2Cpl%2Crms%2Cinitcwndbps&lsig=AGluJ3MwRQIgLie1IBZrKZpVNYl-c5ESki3V41snTGN174WM9Qp7xIQCIQDQ9oDaU7UcwroCdZ4BxM7yEurNpV8lVPYsjTJ0649xzg%3D%3D\"\n"
     ]
    },
    {
     "name": "stdout",
     "output_type": "stream",
     "text": [
      "[download] Destination: MITRAZ - Akhiyaan (Official Music Video).webm\n",
      "[download] 100% of    3.29MiB in 00:00:03 at 993.55KiB/s \n"
     ]
    },
    {
     "name": "stderr",
     "output_type": "stream",
     "text": [
      "[debug] ffmpeg command line: ffprobe -show_streams 'file:MITRAZ - Akhiyaan (Official Music Video).webm'\n"
     ]
    },
    {
     "name": "stdout",
     "output_type": "stream",
     "text": [
      "[ExtractAudio] Destination: MITRAZ - Akhiyaan (Official Music Video).mp3\n"
     ]
    },
    {
     "name": "stderr",
     "output_type": "stream",
     "text": [
      "[debug] ffmpeg command line: ffmpeg -y -loglevel repeat+info -i 'file:MITRAZ - Akhiyaan (Official Music Video).webm' -vn -acodec libmp3lame -b:a 192.0k -movflags +faststart 'file:MITRAZ - Akhiyaan (Official Music Video).mp3'\n"
     ]
    },
    {
     "name": "stdout",
     "output_type": "stream",
     "text": [
      "Deleting original file MITRAZ - Akhiyaan (Official Music Video).webm (pass -k to keep)\n",
      "[download] Finished downloading playlist: Akhiyaan Mitraz\n"
     ]
    },
    {
     "name": "stderr",
     "output_type": "stream",
     "text": [
      "[debug] Encodings: locale UTF-8, fs utf-8, pref UTF-8, out UTF-8 (No ANSI), error UTF-8 (No ANSI), screen UTF-8 (No ANSI)\n",
      "[debug] yt-dlp version stable@2025.01.26 from yt-dlp/yt-dlp [3b4531934] (pip) API\n",
      "[debug] params: {'quiet': False, 'verbose': True, 'format': 'bestaudio/best', 'postprocessors': [{'key': 'FFmpegExtractAudio', 'preferredcodec': 'mp3', 'preferredquality': '192'}], 'outtmpl': '%(title)s.%(ext)s', 'cookiefile': 'cookies.txt', 'compat_opts': set(), 'http_headers': {'User-Agent': 'Mozilla/5.0 (Windows NT 10.0; Win64; x64) AppleWebKit/537.36 (KHTML, like Gecko) Chrome/95.0.4638.17 Safari/537.36', 'Accept': 'text/html,application/xhtml+xml,application/xml;q=0.9,*/*;q=0.8', 'Accept-Language': 'en-us,en;q=0.5', 'Sec-Fetch-Mode': 'navigate'}}\n",
      "[debug] Python 3.10.14 (CPython x86_64 64bit) - Linux-6.8.0-51-generic-x86_64-with-glibc2.35 (OpenSSL 3.3.1 4 Jun 2024, glibc 2.35)\n",
      "[debug] exe versions: ffmpeg 4.4.2 (setts), ffprobe 4.4.2\n",
      "[debug] Optional libraries: Cryptodome-3.21.0, brotli-1.1.0, certifi-2024.07.04, mutagen-1.47.0, requests-2.32.3, sqlite3-3.45.3, urllib3-1.26.20, websockets-14.1\n",
      "[debug] Proxy map: {}\n",
      "[debug] Request Handlers: urllib, requests, websockets\n",
      "[debug] Loaded 1839 extractors\n"
     ]
    },
    {
     "name": "stdout",
     "output_type": "stream",
     "text": [
      "First video URL: https://www.youtube.com/watch?v=xEALTVLxrDw\n",
      "[youtube:search] Extracting URL: ytsearch:Shaayar Bharat Chauhan, Seedhe Maut\n",
      "[download] Downloading playlist: Shaayar Bharat Chauhan, Seedhe Maut\n",
      "[youtube:search] query \"Shaayar Bharat Chauhan, Seedhe Maut\": Downloading web client config\n",
      "[youtube:search] query \"Shaayar Bharat Chauhan, Seedhe Maut\" page 1: Downloading API JSON\n",
      "[youtube:search] Playlist Shaayar Bharat Chauhan, Seedhe Maut: Downloading 1 items of 1\n"
     ]
    },
    {
     "name": "stderr",
     "output_type": "stream",
     "text": [
      "[debug] The information of all playlist entries will be held in memory\n"
     ]
    },
    {
     "name": "stdout",
     "output_type": "stream",
     "text": [
      "[download] Downloading item 1 of 1\n",
      "[youtube] Extracting URL: https://www.youtube.com/watch?v=rhPDRGjw7XU\n",
      "[youtube] rhPDRGjw7XU: Downloading webpage\n",
      "[youtube] rhPDRGjw7XU: Downloading tv client config\n",
      "[youtube] rhPDRGjw7XU: Downloading player 37364e28\n",
      "[youtube] rhPDRGjw7XU: Downloading tv player API JSON\n",
      "[youtube] rhPDRGjw7XU: Downloading ios player API JSON\n"
     ]
    },
    {
     "name": "stderr",
     "output_type": "stream",
     "text": [
      "[debug] [youtube] Extracting signature function js_37364e28_106\n",
      "[debug] Loading youtube-sigfuncs.js_37364e28_106 from cache\n",
      "[debug] Loading youtube-nsig.37364e28 from cache\n",
      "[debug] [youtube] Decrypted nsig d-r1mLxPcnGU4mq3 => v2SO9aJrJY_dZQ\n",
      "[debug] [youtube] Extracting signature function js_37364e28_110\n",
      "[debug] Loading youtube-sigfuncs.js_37364e28_110 from cache\n",
      "[debug] Loading youtube-nsig.37364e28 from cache\n",
      "[debug] [youtube] Decrypted nsig YxDFTKtp0OnolB-f => 5SYxAhdbayPjdg\n",
      "[debug] [youtube] rhPDRGjw7XU: ios client https formats require a GVS PO Token which was not provided. They will be skipped as they may yield HTTP Error 403. You can manually pass a GVS PO Token for this client with --extractor-args \"youtube:po_token=ios.gvs+XXX\". For more information, refer to  https://github.com/yt-dlp/yt-dlp/wiki/PO-Token-Guide . To enable these broken formats anyway, pass --extractor-args \"youtube:formats=missing_pot\"\n"
     ]
    },
    {
     "name": "stdout",
     "output_type": "stream",
     "text": [
      "[youtube] rhPDRGjw7XU: Downloading m3u8 information\n"
     ]
    },
    {
     "name": "stderr",
     "output_type": "stream",
     "text": [
      "[debug] Sort order given by extractor: quality, res, fps, hdr:12, source, vcodec, channels, acodec, lang, proto\n",
      "[debug] Formats sorted by: hasvid, ie_pref, quality, res, fps, hdr:12(7), source, vcodec, channels, acodec, lang, proto, size, br, asr, vext, aext, hasaud, id\n"
     ]
    },
    {
     "name": "stdout",
     "output_type": "stream",
     "text": [
      "[info] rhPDRGjw7XU: Downloading 1 format(s): 251\n"
     ]
    },
    {
     "name": "stderr",
     "output_type": "stream",
     "text": [
      "[debug] Invoking http downloader on \"https://rr2---sn-o3o-qxa6.googlevideo.com/videoplayback?expire=1738022857&ei=acuXZ97WCszWssUPpInVwQo&ip=103.147.138.252&id=o-AEVI2nh0eulAY1jQ9tZ1YzC2PW879-L7IMKQWc2vj8lU&itag=251&source=youtube&requiressl=yes&xpc=EgVo2aDSNQ%3D%3D&met=1738001257%2C&mh=rj&mm=31%2C29&mn=sn-o3o-qxa6%2Csn-cvh7knzr&ms=au%2Crdu&mv=m&mvi=2&pl=24&rms=au%2Cau&initcwndbps=1996250&bui=AY2Et-MuyeNrhOypYtD2hiwgo_d8-GICW9RDkLr5w38Jzarq4cUP4uPFL-F2AkDb1Wo0SFncp_qynIWn&vprv=1&svpuc=1&mime=audio%2Fwebm&ns=n9j61PZ6JPzNXBYmKYIMecgQ&rqh=1&gir=yes&clen=4517221&dur=274.101&lmt=1726253155380741&mt=1738000860&fvip=5&keepalive=yes&lmw=1&fexp=51326932%2C51353498%2C51371294&c=TVHTML5&sefc=1&txp=4532434&n=5SYxAhdbayPjdg&sparams=expire%2Cei%2Cip%2Cid%2Citag%2Csource%2Crequiressl%2Cxpc%2Cbui%2Cvprv%2Csvpuc%2Cmime%2Cns%2Crqh%2Cgir%2Cclen%2Cdur%2Clmt&lsparams=met%2Cmh%2Cmm%2Cmn%2Cms%2Cmv%2Cmvi%2Cpl%2Crms%2Cinitcwndbps&lsig=AGluJ3MwRAIgMyEjCoeuKQKGvKP1TR51NVnrtW__lsFcEfWkFpSjU-oCIGkvNrHzG4EXV-cIGa_L5ao7-ig_2ZSyX1EmsySmWr7w&sig=AJfQdSswRAIgce8lKCSlBR7OPs2lPTIibva1XG29Z4LDzZ-UX9w7kIwCIE7jW9gLG57wjkNj6kqQ0sZEOnlSjru0effluRFAwZqT\"\n"
     ]
    },
    {
     "name": "stdout",
     "output_type": "stream",
     "text": [
      "[download] Destination: Bharat Chauhan - Shaayar (Official Audio) ft. Seedhe Maut.webm\n",
      "[download] 100% of    4.31MiB in 00:00:01 at 2.82MiB/s   \n"
     ]
    },
    {
     "name": "stderr",
     "output_type": "stream",
     "text": [
      "[debug] ffmpeg command line: ffprobe -show_streams 'file:Bharat Chauhan - Shaayar (Official Audio) ft. Seedhe Maut.webm'\n"
     ]
    },
    {
     "name": "stdout",
     "output_type": "stream",
     "text": [
      "[ExtractAudio] Destination: Bharat Chauhan - Shaayar (Official Audio) ft. Seedhe Maut.mp3\n"
     ]
    },
    {
     "name": "stderr",
     "output_type": "stream",
     "text": [
      "[debug] ffmpeg command line: ffmpeg -y -loglevel repeat+info -i 'file:Bharat Chauhan - Shaayar (Official Audio) ft. Seedhe Maut.webm' -vn -acodec libmp3lame -b:a 192.0k -movflags +faststart 'file:Bharat Chauhan - Shaayar (Official Audio) ft. Seedhe Maut.mp3'\n"
     ]
    },
    {
     "name": "stdout",
     "output_type": "stream",
     "text": [
      "Deleting original file Bharat Chauhan - Shaayar (Official Audio) ft. Seedhe Maut.webm (pass -k to keep)\n",
      "[download] Finished downloading playlist: Shaayar Bharat Chauhan, Seedhe Maut\n"
     ]
    },
    {
     "name": "stderr",
     "output_type": "stream",
     "text": [
      "[debug] Encodings: locale UTF-8, fs utf-8, pref UTF-8, out UTF-8 (No ANSI), error UTF-8 (No ANSI), screen UTF-8 (No ANSI)\n",
      "[debug] yt-dlp version stable@2025.01.26 from yt-dlp/yt-dlp [3b4531934] (pip) API\n",
      "[debug] params: {'quiet': False, 'verbose': True, 'format': 'bestaudio/best', 'postprocessors': [{'key': 'FFmpegExtractAudio', 'preferredcodec': 'mp3', 'preferredquality': '192'}], 'outtmpl': '%(title)s.%(ext)s', 'cookiefile': 'cookies.txt', 'compat_opts': set(), 'http_headers': {'User-Agent': 'Mozilla/5.0 (Windows NT 10.0; Win64; x64) AppleWebKit/537.36 (KHTML, like Gecko) Chrome/95.0.4638.17 Safari/537.36', 'Accept': 'text/html,application/xhtml+xml,application/xml;q=0.9,*/*;q=0.8', 'Accept-Language': 'en-us,en;q=0.5', 'Sec-Fetch-Mode': 'navigate'}}\n",
      "[debug] Python 3.10.14 (CPython x86_64 64bit) - Linux-6.8.0-51-generic-x86_64-with-glibc2.35 (OpenSSL 3.3.1 4 Jun 2024, glibc 2.35)\n",
      "[debug] exe versions: ffmpeg 4.4.2 (setts), ffprobe 4.4.2\n",
      "[debug] Optional libraries: Cryptodome-3.21.0, brotli-1.1.0, certifi-2024.07.04, mutagen-1.47.0, requests-2.32.3, sqlite3-3.45.3, urllib3-1.26.20, websockets-14.1\n",
      "[debug] Proxy map: {}\n",
      "[debug] Request Handlers: urllib, requests, websockets\n",
      "[debug] Loaded 1839 extractors\n"
     ]
    },
    {
     "name": "stdout",
     "output_type": "stream",
     "text": [
      "First video URL: https://www.youtube.com/watch?v=rhPDRGjw7XU\n",
      "[youtube:search] Extracting URL: ytsearch:Long time no see Taimour Baig, Raffey Anwar, AUR\n",
      "[download] Downloading playlist: Long time no see Taimour Baig, Raffey Anwar, AUR\n",
      "[youtube:search] query \"Long time no see Taimour Baig, Raffey Anwar, AUR\": Downloading web client config\n",
      "[youtube:search] query \"Long time no see Taimour Baig, Raffey Anwar, AUR\" page 1: Downloading API JSON\n",
      "[youtube:search] Playlist Long time no see Taimour Baig, Raffey Anwar, AUR: Downloading 1 items of 1\n"
     ]
    },
    {
     "name": "stderr",
     "output_type": "stream",
     "text": [
      "[debug] The information of all playlist entries will be held in memory\n"
     ]
    },
    {
     "name": "stdout",
     "output_type": "stream",
     "text": [
      "[download] Downloading item 1 of 1\n",
      "[youtube] Extracting URL: https://www.youtube.com/watch?v=02VlO-J4AqY\n",
      "[youtube] 02VlO-J4AqY: Downloading webpage\n",
      "[youtube] 02VlO-J4AqY: Downloading tv client config\n",
      "[youtube] 02VlO-J4AqY: Downloading player 37364e28\n",
      "[youtube] 02VlO-J4AqY: Downloading tv player API JSON\n",
      "[youtube] 02VlO-J4AqY: Downloading ios player API JSON\n"
     ]
    },
    {
     "name": "stderr",
     "output_type": "stream",
     "text": [
      "[debug] [youtube] Extracting signature function js_37364e28_110\n",
      "[debug] Loading youtube-sigfuncs.js_37364e28_110 from cache\n",
      "[debug] Loading youtube-nsig.37364e28 from cache\n",
      "[debug] [youtube] Decrypted nsig DsXA-8ZaZ9bAcgLi => SPfcXUp-f5N3YA\n",
      "[debug] Loading youtube-nsig.37364e28 from cache\n",
      "[debug] [youtube] Decrypted nsig _ofOezb2a7fSJDPv => K0aAVUH1gxOl_w\n",
      "[debug] [youtube] Extracting signature function js_37364e28_106\n",
      "[debug] Loading youtube-sigfuncs.js_37364e28_106 from cache\n",
      "[debug] [youtube] 02VlO-J4AqY: ios client https formats require a GVS PO Token which was not provided. They will be skipped as they may yield HTTP Error 403. You can manually pass a GVS PO Token for this client with --extractor-args \"youtube:po_token=ios.gvs+XXX\". For more information, refer to  https://github.com/yt-dlp/yt-dlp/wiki/PO-Token-Guide . To enable these broken formats anyway, pass --extractor-args \"youtube:formats=missing_pot\"\n"
     ]
    },
    {
     "name": "stdout",
     "output_type": "stream",
     "text": [
      "[youtube] 02VlO-J4AqY: Downloading m3u8 information\n"
     ]
    },
    {
     "name": "stderr",
     "output_type": "stream",
     "text": [
      "[debug] Sort order given by extractor: quality, res, fps, hdr:12, source, vcodec, channels, acodec, lang, proto\n",
      "[debug] Formats sorted by: hasvid, ie_pref, quality, res, fps, hdr:12(7), source, vcodec, channels, acodec, lang, proto, size, br, asr, vext, aext, hasaud, id\n"
     ]
    },
    {
     "name": "stdout",
     "output_type": "stream",
     "text": [
      "[info] 02VlO-J4AqY: Downloading 1 format(s): 251\n"
     ]
    },
    {
     "name": "stderr",
     "output_type": "stream",
     "text": [
      "[debug] Invoking http downloader on \"https://rr3---sn-o3o-qxaz.googlevideo.com/videoplayback?expire=1738022867&ei=c8uXZ_bSNJOYssUPxaCksQo&ip=103.147.138.252&id=o-AI_ZKi9Sa7quJZ45sLg-M97FRDCgPSf-i5LwETLWjjHB&itag=251&source=youtube&requiressl=yes&xpc=EgVo2aDSNQ%3D%3D&met=1738001267%2C&mh=0u&mm=31%2C29&mn=sn-o3o-qxaz%2Csn-cvh76nll&ms=au%2Crdu&mv=m&mvi=3&pl=24&rms=au%2Cau&gcr=in&initcwndbps=1685000&bui=AY2Et-O4yNBMOyyhzPme1OsBwnRhdg03InJyFSWRO7puqhtvuuiklsJfjM3rSl8eXL3u-92m1Mh1XPKL&vprv=1&svpuc=1&mime=audio%2Fwebm&ns=upmaKKvO9zvMOFPR0oTWDWkQ&rqh=1&gir=yes&clen=4195776&dur=218.621&lmt=1715027028047942&mt=1738000860&fvip=5&keepalive=yes&lmw=1&fexp=51326932%2C51353498%2C51371294&c=TVHTML5&sefc=1&txp=2318224&n=K0aAVUH1gxOl_w&sparams=expire%2Cei%2Cip%2Cid%2Citag%2Csource%2Crequiressl%2Cxpc%2Cgcr%2Cbui%2Cvprv%2Csvpuc%2Cmime%2Cns%2Crqh%2Cgir%2Cclen%2Cdur%2Clmt&lsparams=met%2Cmh%2Cmm%2Cmn%2Cms%2Cmv%2Cmvi%2Cpl%2Crms%2Cinitcwndbps&lsig=AGluJ3MwRgIhALU4sLzp3SeaXcavIuU_trog5wYve9xwY7VUWlrP6poxAiEAhKbyceSthEbZLXD5_DgkEOzlkWSjUWP78ZvbnYYoSxs%3D&sig=AJfQdSswRQIhAMVbagWD0BC2D0oHkeZe7p0OlsRelTl2yJLeFtdzIZ72AiBE_S-39TKWdgxS5ATZwKD6bDukZ3qCE7CBQGt56qgBIg%3D%3D\"\n"
     ]
    },
    {
     "name": "stdout",
     "output_type": "stream",
     "text": [
      "[download] Destination: Long time no see.webm\n",
      "[download] 100% of    4.00MiB in 00:00:01 at 3.28MiB/s   \n"
     ]
    },
    {
     "name": "stderr",
     "output_type": "stream",
     "text": [
      "[debug] ffmpeg command line: ffprobe -show_streams 'file:Long time no see.webm'\n"
     ]
    },
    {
     "name": "stdout",
     "output_type": "stream",
     "text": [
      "[ExtractAudio] Destination: Long time no see.mp3\n"
     ]
    },
    {
     "name": "stderr",
     "output_type": "stream",
     "text": [
      "[debug] ffmpeg command line: ffmpeg -y -loglevel repeat+info -i 'file:Long time no see.webm' -vn -acodec libmp3lame -b:a 192.0k -movflags +faststart 'file:Long time no see.mp3'\n"
     ]
    },
    {
     "name": "stdout",
     "output_type": "stream",
     "text": [
      "Deleting original file Long time no see.webm (pass -k to keep)\n",
      "[download] Finished downloading playlist: Long time no see Taimour Baig, Raffey Anwar, AUR\n"
     ]
    },
    {
     "name": "stderr",
     "output_type": "stream",
     "text": [
      "[debug] Encodings: locale UTF-8, fs utf-8, pref UTF-8, out UTF-8 (No ANSI), error UTF-8 (No ANSI), screen UTF-8 (No ANSI)\n",
      "[debug] yt-dlp version stable@2025.01.26 from yt-dlp/yt-dlp [3b4531934] (pip) API\n",
      "[debug] params: {'quiet': False, 'verbose': True, 'format': 'bestaudio/best', 'postprocessors': [{'key': 'FFmpegExtractAudio', 'preferredcodec': 'mp3', 'preferredquality': '192'}], 'outtmpl': '%(title)s.%(ext)s', 'cookiefile': 'cookies.txt', 'compat_opts': set(), 'http_headers': {'User-Agent': 'Mozilla/5.0 (Windows NT 10.0; Win64; x64) AppleWebKit/537.36 (KHTML, like Gecko) Chrome/95.0.4638.17 Safari/537.36', 'Accept': 'text/html,application/xhtml+xml,application/xml;q=0.9,*/*;q=0.8', 'Accept-Language': 'en-us,en;q=0.5', 'Sec-Fetch-Mode': 'navigate'}}\n",
      "[debug] Python 3.10.14 (CPython x86_64 64bit) - Linux-6.8.0-51-generic-x86_64-with-glibc2.35 (OpenSSL 3.3.1 4 Jun 2024, glibc 2.35)\n",
      "[debug] exe versions: ffmpeg 4.4.2 (setts), ffprobe 4.4.2\n",
      "[debug] Optional libraries: Cryptodome-3.21.0, brotli-1.1.0, certifi-2024.07.04, mutagen-1.47.0, requests-2.32.3, sqlite3-3.45.3, urllib3-1.26.20, websockets-14.1\n",
      "[debug] Proxy map: {}\n",
      "[debug] Request Handlers: urllib, requests, websockets\n",
      "[debug] Loaded 1839 extractors\n"
     ]
    },
    {
     "name": "stdout",
     "output_type": "stream",
     "text": [
      "First video URL: https://www.youtube.com/watch?v=02VlO-J4AqY\n",
      "[youtube:search] Extracting URL: ytsearch:Shillong Suryansh Bhatt\n",
      "[download] Downloading playlist: Shillong Suryansh Bhatt\n",
      "[youtube:search] query \"Shillong Suryansh Bhatt\": Downloading web client config\n",
      "[youtube:search] query \"Shillong Suryansh Bhatt\" page 1: Downloading API JSON\n",
      "[youtube:search] Playlist Shillong Suryansh Bhatt: Downloading 1 items of 1\n"
     ]
    },
    {
     "name": "stderr",
     "output_type": "stream",
     "text": [
      "[debug] The information of all playlist entries will be held in memory\n"
     ]
    },
    {
     "name": "stdout",
     "output_type": "stream",
     "text": [
      "[download] Downloading item 1 of 1\n",
      "[youtube] Extracting URL: https://www.youtube.com/watch?v=KazNgRn3uZg\n",
      "[youtube] KazNgRn3uZg: Downloading webpage\n",
      "[youtube] KazNgRn3uZg: Downloading tv client config\n",
      "[youtube] KazNgRn3uZg: Downloading player 37364e28\n",
      "[youtube] KazNgRn3uZg: Downloading tv player API JSON\n",
      "[youtube] KazNgRn3uZg: Downloading ios player API JSON\n"
     ]
    },
    {
     "name": "stderr",
     "output_type": "stream",
     "text": [
      "[debug] Loading youtube-nsig.37364e28 from cache\n",
      "[debug] [youtube] Decrypted nsig n-W6CJLB3r8mzDMT => hVuYdqbznFdpNA\n",
      "[debug] Loading youtube-nsig.37364e28 from cache\n",
      "[debug] [youtube] Decrypted nsig LeIIQV5iqAVs8aeI => -gekmqhOkKsuBQ\n",
      "[debug] [youtube] KazNgRn3uZg: ios client https formats require a GVS PO Token which was not provided. They will be skipped as they may yield HTTP Error 403. You can manually pass a GVS PO Token for this client with --extractor-args \"youtube:po_token=ios.gvs+XXX\". For more information, refer to  https://github.com/yt-dlp/yt-dlp/wiki/PO-Token-Guide . To enable these broken formats anyway, pass --extractor-args \"youtube:formats=missing_pot\"\n"
     ]
    },
    {
     "name": "stdout",
     "output_type": "stream",
     "text": [
      "[youtube] KazNgRn3uZg: Downloading m3u8 information\n"
     ]
    },
    {
     "name": "stderr",
     "output_type": "stream",
     "text": [
      "[debug] Sort order given by extractor: quality, res, fps, hdr:12, source, vcodec, channels, acodec, lang, proto\n",
      "[debug] Formats sorted by: hasvid, ie_pref, quality, res, fps, hdr:12(7), source, vcodec, channels, acodec, lang, proto, size, br, asr, vext, aext, hasaud, id\n"
     ]
    },
    {
     "name": "stdout",
     "output_type": "stream",
     "text": [
      "[info] KazNgRn3uZg: Downloading 1 format(s): 251\n"
     ]
    },
    {
     "name": "stderr",
     "output_type": "stream",
     "text": [
      "[debug] Invoking http downloader on \"https://rr2---sn-o3o-qxaz.googlevideo.com/videoplayback?expire=1738022877&ei=fcuXZ_zkBv-R9fwP1LaISQ&ip=103.147.138.252&id=o-ACMHHUxMUvqsK1u2G7o97Cf2vXC7t7kJvyBuYLJ8owTm&itag=251&source=youtube&requiressl=yes&xpc=EgVo2aDSNQ%3D%3D&met=1738001277%2C&mh=xN&mm=31%2C29&mn=sn-o3o-qxaz%2Csn-cvh76ned&ms=au%2Crdu&mv=m&mvi=2&pl=24&rms=au%2Cau&initcwndbps=1685000&bui=AY2Et-MBYXGOtyrM_F-FfN-5TGCv3pa-QwgnJ029SSAnEVFHVr8_7hL4879xikbk9GXFSDmT-iW58Y7u&vprv=1&svpuc=1&mime=audio%2Fwebm&ns=1yQaftay3JJsyzVPV3BFqS8Q&rqh=1&gir=yes&clen=3216169&dur=177.001&lmt=1711268473905915&mt=1738000860&fvip=1&keepalive=yes&lmw=1&fexp=51326932%2C51353498%2C51371294&c=TVHTML5&sefc=1&txp=5308224&n=-gekmqhOkKsuBQ&sparams=expire%2Cei%2Cip%2Cid%2Citag%2Csource%2Crequiressl%2Cxpc%2Cbui%2Cvprv%2Csvpuc%2Cmime%2Cns%2Crqh%2Cgir%2Cclen%2Cdur%2Clmt&sig=AJfQdSswRgIhAMq2gTTcT57GXEbKLg4mgnf5SuaAB--a_82BhV-6yDYoAiEA8d5U-dLlE-v6i41ZpC3ZDPb3S7BGsBydPFf0y9W2I6E%3D&lsparams=met%2Cmh%2Cmm%2Cmn%2Cms%2Cmv%2Cmvi%2Cpl%2Crms%2Cinitcwndbps&lsig=AGluJ3MwRgIhAOS_kSEx9R_Owy6Jf6i5JereCC7pB22RXOQAdMkYPGwwAiEAkzlaFHXmcPQ61wtu_OMyv70thdpLm_QzzjLR4qK1kZM%3D\"\n"
     ]
    },
    {
     "name": "stdout",
     "output_type": "stream",
     "text": [
      "[download] Destination: Shillong - Suryansh Bhatt.webm\n",
      "[download] 100% of    3.07MiB in 00:00:01 at 1.99MiB/s   \n"
     ]
    },
    {
     "name": "stderr",
     "output_type": "stream",
     "text": [
      "[debug] ffmpeg command line: ffprobe -show_streams 'file:Shillong - Suryansh Bhatt.webm'\n"
     ]
    },
    {
     "name": "stdout",
     "output_type": "stream",
     "text": [
      "[ExtractAudio] Destination: Shillong - Suryansh Bhatt.mp3\n"
     ]
    },
    {
     "name": "stderr",
     "output_type": "stream",
     "text": [
      "[debug] ffmpeg command line: ffmpeg -y -loglevel repeat+info -i 'file:Shillong - Suryansh Bhatt.webm' -vn -acodec libmp3lame -b:a 192.0k -movflags +faststart 'file:Shillong - Suryansh Bhatt.mp3'\n"
     ]
    },
    {
     "name": "stdout",
     "output_type": "stream",
     "text": [
      "Deleting original file Shillong - Suryansh Bhatt.webm (pass -k to keep)\n",
      "[download] Finished downloading playlist: Shillong Suryansh Bhatt\n",
      "First video URL: https://www.youtube.com/watch?v=KazNgRn3uZg\n"
     ]
    }
   ],
   "source": [
    "for track in tracks:\n",
    "    title = track.find('p', {'data-encore-id': 'listRowTitle'}).text.strip()\n",
    "    artists = track.find('p', {'data-encore-id': 'listRowSubtitle'}).text.strip()\n",
    "    finalsearch = title + \" \" + artists\n",
    "    search_url = f\"ytsearch:{finalsearch}\"\n",
    "\n",
    "    options = {\n",
    "    \"quiet\": False,\n",
    "    \"verbose\":True,\n",
    "    \"format\": \"bestaudio/best\",\n",
    "    \"postprocessors\": [{\n",
    "        \"key\": \"FFmpegExtractAudio\",\n",
    "        \"preferredcodec\": \"mp3\",\n",
    "        \"preferredquality\": \"192\",\n",
    "    }],\n",
    "    \"outtmpl\": \"%(title)s.%(ext)s\",\n",
    "    \"cookiefile\": \"cookies.txt\",  # Path to your cookies file\n",
    "    }\n",
    "\n",
    "    # print(search_url)\n",
    "    with YoutubeDL(options) as ydl:\n",
    "        result = ydl.extract_info(search_url, download=True)  # Download the MP3\n",
    "        if \"entries\" in result and result[\"entries\"]:\n",
    "            first_video = result[\"entries\"][0]\n",
    "            video_url = first_video[\"webpage_url\"]\n",
    "            print(f\"First video URL: {video_url}\")\n",
    "        else:\n",
    "            print(\"No videos found.\")\n"
   ]
  },
  {
   "cell_type": "code",
   "execution_count": null,
   "metadata": {},
   "outputs": [
    {
     "name": "stdout",
     "output_type": "stream",
     "text": [
      "Requirement already satisfied: spotify-dl in /home/ashish/anaconda3/envs/torch/lib/python3.10/site-packages (8.9.0)\n",
      "Requirement already satisfied: sentry-sdk~=1.16 in /home/ashish/anaconda3/envs/torch/lib/python3.10/site-packages (from spotify-dl) (1.45.1)\n",
      "Requirement already satisfied: yt-dlp>=2023.3.4 in /home/ashish/anaconda3/envs/torch/lib/python3.10/site-packages (from spotify-dl) (2025.1.26)\n",
      "Requirement already satisfied: spotipy~=2.21 in /home/ashish/anaconda3/envs/torch/lib/python3.10/site-packages (from spotify-dl) (2.25.0)\n",
      "Requirement already satisfied: mutagen~=1.45 in /home/ashish/anaconda3/envs/torch/lib/python3.10/site-packages (from spotify-dl) (1.47.0)\n",
      "Requirement already satisfied: rich~=12.0 in /home/ashish/anaconda3/envs/torch/lib/python3.10/site-packages (from spotify-dl) (12.6.0)\n",
      "Requirement already satisfied: urllib3~=1.26 in /home/ashish/anaconda3/envs/torch/lib/python3.10/site-packages (from spotify-dl) (1.26.20)\n",
      "Requirement already satisfied: commonmark<0.10.0,>=0.9.0 in /home/ashish/anaconda3/envs/torch/lib/python3.10/site-packages (from rich~=12.0->spotify-dl) (0.9.1)\n",
      "Requirement already satisfied: pygments<3.0.0,>=2.6.0 in /home/ashish/anaconda3/envs/torch/lib/python3.10/site-packages (from rich~=12.0->spotify-dl) (2.18.0)\n",
      "Requirement already satisfied: certifi in /home/ashish/anaconda3/envs/torch/lib/python3.10/site-packages (from sentry-sdk~=1.16->spotify-dl) (2024.7.4)\n",
      "Requirement already satisfied: redis>=3.5.3 in /home/ashish/anaconda3/envs/torch/lib/python3.10/site-packages (from spotipy~=2.21->spotify-dl) (5.2.1)\n",
      "Requirement already satisfied: requests>=2.25.0 in /home/ashish/anaconda3/envs/torch/lib/python3.10/site-packages (from spotipy~=2.21->spotify-dl) (2.32.3)\n",
      "Requirement already satisfied: async-timeout>=4.0.3 in /home/ashish/anaconda3/envs/torch/lib/python3.10/site-packages (from redis>=3.5.3->spotipy~=2.21->spotify-dl) (4.0.3)\n",
      "Requirement already satisfied: charset-normalizer<4,>=2 in /home/ashish/anaconda3/envs/torch/lib/python3.10/site-packages (from requests>=2.25.0->spotipy~=2.21->spotify-dl) (3.3.2)\n",
      "Requirement already satisfied: idna<4,>=2.5 in /home/ashish/anaconda3/envs/torch/lib/python3.10/site-packages (from requests>=2.25.0->spotipy~=2.21->spotify-dl) (3.8)\n",
      "Note: you may need to restart the kernel to use updated packages.\n"
     ]
    }
   ],
   "source": []
  },
  {
   "cell_type": "code",
   "execution_count": 12,
   "metadata": {},
   "outputs": [
    {
     "ename": "FileNotFoundError",
     "evalue": "[Errno 2] No such file or directory: '/spotify-dl'",
     "output_type": "error",
     "traceback": [
      "\u001b[0;31m---------------------------------------------------------------------------\u001b[0m",
      "\u001b[0;31mFileNotFoundError\u001b[0m                         Traceback (most recent call last)",
      "Cell \u001b[0;32mIn[12], line 16\u001b[0m\n\u001b[1;32m     14\u001b[0m \u001b[38;5;66;03m# Run the command\u001b[39;00m\n\u001b[1;32m     15\u001b[0m \u001b[38;5;28;01mtry\u001b[39;00m:\n\u001b[0;32m---> 16\u001b[0m     \u001b[43msubprocess\u001b[49m\u001b[38;5;241;43m.\u001b[39;49m\u001b[43mrun\u001b[49m\u001b[43m(\u001b[49m\u001b[43mcommand\u001b[49m\u001b[43m,\u001b[49m\u001b[43m \u001b[49m\u001b[43mcheck\u001b[49m\u001b[38;5;241;43m=\u001b[39;49m\u001b[38;5;28;43;01mTrue\u001b[39;49;00m\u001b[43m)\u001b[49m\n\u001b[1;32m     17\u001b[0m     \u001b[38;5;28mprint\u001b[39m(\u001b[38;5;124m\"\u001b[39m\u001b[38;5;124mDownload successful!\u001b[39m\u001b[38;5;124m\"\u001b[39m)\n\u001b[1;32m     18\u001b[0m \u001b[38;5;28;01mexcept\u001b[39;00m subprocess\u001b[38;5;241m.\u001b[39mCalledProcessError \u001b[38;5;28;01mas\u001b[39;00m e:\n",
      "File \u001b[0;32m~/anaconda3/envs/torch/lib/python3.10/subprocess.py:503\u001b[0m, in \u001b[0;36mrun\u001b[0;34m(input, capture_output, timeout, check, *popenargs, **kwargs)\u001b[0m\n\u001b[1;32m    500\u001b[0m     kwargs[\u001b[38;5;124m'\u001b[39m\u001b[38;5;124mstdout\u001b[39m\u001b[38;5;124m'\u001b[39m] \u001b[38;5;241m=\u001b[39m PIPE\n\u001b[1;32m    501\u001b[0m     kwargs[\u001b[38;5;124m'\u001b[39m\u001b[38;5;124mstderr\u001b[39m\u001b[38;5;124m'\u001b[39m] \u001b[38;5;241m=\u001b[39m PIPE\n\u001b[0;32m--> 503\u001b[0m \u001b[38;5;28;01mwith\u001b[39;00m \u001b[43mPopen\u001b[49m\u001b[43m(\u001b[49m\u001b[38;5;241;43m*\u001b[39;49m\u001b[43mpopenargs\u001b[49m\u001b[43m,\u001b[49m\u001b[43m \u001b[49m\u001b[38;5;241;43m*\u001b[39;49m\u001b[38;5;241;43m*\u001b[39;49m\u001b[43mkwargs\u001b[49m\u001b[43m)\u001b[49m \u001b[38;5;28;01mas\u001b[39;00m process:\n\u001b[1;32m    504\u001b[0m     \u001b[38;5;28;01mtry\u001b[39;00m:\n\u001b[1;32m    505\u001b[0m         stdout, stderr \u001b[38;5;241m=\u001b[39m process\u001b[38;5;241m.\u001b[39mcommunicate(\u001b[38;5;28minput\u001b[39m, timeout\u001b[38;5;241m=\u001b[39mtimeout)\n",
      "File \u001b[0;32m~/anaconda3/envs/torch/lib/python3.10/subprocess.py:971\u001b[0m, in \u001b[0;36mPopen.__init__\u001b[0;34m(self, args, bufsize, executable, stdin, stdout, stderr, preexec_fn, close_fds, shell, cwd, env, universal_newlines, startupinfo, creationflags, restore_signals, start_new_session, pass_fds, user, group, extra_groups, encoding, errors, text, umask, pipesize)\u001b[0m\n\u001b[1;32m    967\u001b[0m         \u001b[38;5;28;01mif\u001b[39;00m \u001b[38;5;28mself\u001b[39m\u001b[38;5;241m.\u001b[39mtext_mode:\n\u001b[1;32m    968\u001b[0m             \u001b[38;5;28mself\u001b[39m\u001b[38;5;241m.\u001b[39mstderr \u001b[38;5;241m=\u001b[39m io\u001b[38;5;241m.\u001b[39mTextIOWrapper(\u001b[38;5;28mself\u001b[39m\u001b[38;5;241m.\u001b[39mstderr,\n\u001b[1;32m    969\u001b[0m                     encoding\u001b[38;5;241m=\u001b[39mencoding, errors\u001b[38;5;241m=\u001b[39merrors)\n\u001b[0;32m--> 971\u001b[0m     \u001b[38;5;28;43mself\u001b[39;49m\u001b[38;5;241;43m.\u001b[39;49m\u001b[43m_execute_child\u001b[49m\u001b[43m(\u001b[49m\u001b[43margs\u001b[49m\u001b[43m,\u001b[49m\u001b[43m \u001b[49m\u001b[43mexecutable\u001b[49m\u001b[43m,\u001b[49m\u001b[43m \u001b[49m\u001b[43mpreexec_fn\u001b[49m\u001b[43m,\u001b[49m\u001b[43m \u001b[49m\u001b[43mclose_fds\u001b[49m\u001b[43m,\u001b[49m\n\u001b[1;32m    972\u001b[0m \u001b[43m                        \u001b[49m\u001b[43mpass_fds\u001b[49m\u001b[43m,\u001b[49m\u001b[43m \u001b[49m\u001b[43mcwd\u001b[49m\u001b[43m,\u001b[49m\u001b[43m \u001b[49m\u001b[43menv\u001b[49m\u001b[43m,\u001b[49m\n\u001b[1;32m    973\u001b[0m \u001b[43m                        \u001b[49m\u001b[43mstartupinfo\u001b[49m\u001b[43m,\u001b[49m\u001b[43m \u001b[49m\u001b[43mcreationflags\u001b[49m\u001b[43m,\u001b[49m\u001b[43m \u001b[49m\u001b[43mshell\u001b[49m\u001b[43m,\u001b[49m\n\u001b[1;32m    974\u001b[0m \u001b[43m                        \u001b[49m\u001b[43mp2cread\u001b[49m\u001b[43m,\u001b[49m\u001b[43m \u001b[49m\u001b[43mp2cwrite\u001b[49m\u001b[43m,\u001b[49m\n\u001b[1;32m    975\u001b[0m \u001b[43m                        \u001b[49m\u001b[43mc2pread\u001b[49m\u001b[43m,\u001b[49m\u001b[43m \u001b[49m\u001b[43mc2pwrite\u001b[49m\u001b[43m,\u001b[49m\n\u001b[1;32m    976\u001b[0m \u001b[43m                        \u001b[49m\u001b[43merrread\u001b[49m\u001b[43m,\u001b[49m\u001b[43m \u001b[49m\u001b[43merrwrite\u001b[49m\u001b[43m,\u001b[49m\n\u001b[1;32m    977\u001b[0m \u001b[43m                        \u001b[49m\u001b[43mrestore_signals\u001b[49m\u001b[43m,\u001b[49m\n\u001b[1;32m    978\u001b[0m \u001b[43m                        \u001b[49m\u001b[43mgid\u001b[49m\u001b[43m,\u001b[49m\u001b[43m \u001b[49m\u001b[43mgids\u001b[49m\u001b[43m,\u001b[49m\u001b[43m \u001b[49m\u001b[43muid\u001b[49m\u001b[43m,\u001b[49m\u001b[43m \u001b[49m\u001b[43mumask\u001b[49m\u001b[43m,\u001b[49m\n\u001b[1;32m    979\u001b[0m \u001b[43m                        \u001b[49m\u001b[43mstart_new_session\u001b[49m\u001b[43m)\u001b[49m\n\u001b[1;32m    980\u001b[0m \u001b[38;5;28;01mexcept\u001b[39;00m:\n\u001b[1;32m    981\u001b[0m     \u001b[38;5;66;03m# Cleanup if the child failed starting.\u001b[39;00m\n\u001b[1;32m    982\u001b[0m     \u001b[38;5;28;01mfor\u001b[39;00m f \u001b[38;5;129;01min\u001b[39;00m \u001b[38;5;28mfilter\u001b[39m(\u001b[38;5;28;01mNone\u001b[39;00m, (\u001b[38;5;28mself\u001b[39m\u001b[38;5;241m.\u001b[39mstdin, \u001b[38;5;28mself\u001b[39m\u001b[38;5;241m.\u001b[39mstdout, \u001b[38;5;28mself\u001b[39m\u001b[38;5;241m.\u001b[39mstderr)):\n",
      "File \u001b[0;32m~/anaconda3/envs/torch/lib/python3.10/subprocess.py:1863\u001b[0m, in \u001b[0;36mPopen._execute_child\u001b[0;34m(self, args, executable, preexec_fn, close_fds, pass_fds, cwd, env, startupinfo, creationflags, shell, p2cread, p2cwrite, c2pread, c2pwrite, errread, errwrite, restore_signals, gid, gids, uid, umask, start_new_session)\u001b[0m\n\u001b[1;32m   1861\u001b[0m     \u001b[38;5;28;01mif\u001b[39;00m errno_num \u001b[38;5;241m!=\u001b[39m \u001b[38;5;241m0\u001b[39m:\n\u001b[1;32m   1862\u001b[0m         err_msg \u001b[38;5;241m=\u001b[39m os\u001b[38;5;241m.\u001b[39mstrerror(errno_num)\n\u001b[0;32m-> 1863\u001b[0m     \u001b[38;5;28;01mraise\u001b[39;00m child_exception_type(errno_num, err_msg, err_filename)\n\u001b[1;32m   1864\u001b[0m \u001b[38;5;28;01mraise\u001b[39;00m child_exception_type(err_msg)\n",
      "\u001b[0;31mFileNotFoundError\u001b[0m: [Errno 2] No such file or directory: '/spotify-dl'"
     ]
    }
   ],
   "source": [
    "\n",
    "import subprocess\n",
    "\n",
    "# Playlist URL\n",
    "playlist_url = \"https://open.spotify.com/playlist/7xZVUPssxjwykXpyiiLahL?si=DVFUoYxvRK2CPjaFKKy-OQ\"\n",
    "\n",
    "# Command to download the playlist\n",
    "command = [\n",
    "    \"/spotify-dl\",  # Ensure spotify-dl is installed and in your PATH\n",
    "    \"--output\", \"%(title)s.%(ext)s\",  # Output format (MP3)\n",
    "    \"--format\", \"bestaudio\",  # Best audio quality\n",
    "    playlist_url  # Playlist URL\n",
    "]\n",
    "\n",
    "# Run the command\n",
    "try:\n",
    "    subprocess.run(command, check=True)\n",
    "    print(\"Download successful!\")\n",
    "except subprocess.CalledProcessError as e:\n",
    "    print(f\"Error during download: {e}\")\n"
   ]
  },
  {
   "cell_type": "code",
   "execution_count": 8,
   "metadata": {},
   "outputs": [
    {
     "name": "stdout",
     "output_type": "stream",
     "text": [
      "Requirement already satisfied: spotify-dl in /home/ashish/anaconda3/envs/torch/lib/python3.10/site-packages (8.9.0)\n",
      "Requirement already satisfied: sentry-sdk~=1.16 in /home/ashish/anaconda3/envs/torch/lib/python3.10/site-packages (from spotify-dl) (1.45.1)\n",
      "Requirement already satisfied: yt-dlp>=2023.3.4 in /home/ashish/anaconda3/envs/torch/lib/python3.10/site-packages (from spotify-dl) (2025.1.26)\n",
      "Requirement already satisfied: spotipy~=2.21 in /home/ashish/anaconda3/envs/torch/lib/python3.10/site-packages (from spotify-dl) (2.25.0)\n",
      "Requirement already satisfied: mutagen~=1.45 in /home/ashish/anaconda3/envs/torch/lib/python3.10/site-packages (from spotify-dl) (1.47.0)\n",
      "Requirement already satisfied: rich~=12.0 in /home/ashish/anaconda3/envs/torch/lib/python3.10/site-packages (from spotify-dl) (12.6.0)\n",
      "Requirement already satisfied: urllib3~=1.26 in /home/ashish/anaconda3/envs/torch/lib/python3.10/site-packages (from spotify-dl) (1.26.20)\n",
      "Requirement already satisfied: commonmark<0.10.0,>=0.9.0 in /home/ashish/anaconda3/envs/torch/lib/python3.10/site-packages (from rich~=12.0->spotify-dl) (0.9.1)\n",
      "Requirement already satisfied: pygments<3.0.0,>=2.6.0 in /home/ashish/anaconda3/envs/torch/lib/python3.10/site-packages (from rich~=12.0->spotify-dl) (2.18.0)\n",
      "Requirement already satisfied: certifi in /home/ashish/anaconda3/envs/torch/lib/python3.10/site-packages (from sentry-sdk~=1.16->spotify-dl) (2024.7.4)\n",
      "Requirement already satisfied: redis>=3.5.3 in /home/ashish/anaconda3/envs/torch/lib/python3.10/site-packages (from spotipy~=2.21->spotify-dl) (5.2.1)\n",
      "Requirement already satisfied: requests>=2.25.0 in /home/ashish/anaconda3/envs/torch/lib/python3.10/site-packages (from spotipy~=2.21->spotify-dl) (2.32.3)\n",
      "Requirement already satisfied: async-timeout>=4.0.3 in /home/ashish/anaconda3/envs/torch/lib/python3.10/site-packages (from redis>=3.5.3->spotipy~=2.21->spotify-dl) (4.0.3)\n",
      "Requirement already satisfied: charset-normalizer<4,>=2 in /home/ashish/anaconda3/envs/torch/lib/python3.10/site-packages (from requests>=2.25.0->spotipy~=2.21->spotify-dl) (3.3.2)\n",
      "Requirement already satisfied: idna<4,>=2.5 in /home/ashish/anaconda3/envs/torch/lib/python3.10/site-packages (from requests>=2.25.0->spotipy~=2.21->spotify-dl) (3.8)\n",
      "Note: you may need to restart the kernel to use updated packages.\n"
     ]
    }
   ],
   "source": [
    "pip install spotify-dl\n"
   ]
  },
  {
   "cell_type": "code",
   "execution_count": 14,
   "metadata": {},
   "outputs": [
    {
     "ename": "SyntaxError",
     "evalue": "invalid syntax (1295352842.py, line 2)",
     "output_type": "error",
     "traceback": [
      "\u001b[0;36m  Cell \u001b[0;32mIn[14], line 2\u001b[0;36m\u001b[0m\n\u001b[0;31m    spotify_dl -l spotify_playlist_link_1\u001b[0m\n\u001b[0m                  ^\u001b[0m\n\u001b[0;31mSyntaxError\u001b[0m\u001b[0;31m:\u001b[0m invalid syntax\n"
     ]
    }
   ],
   "source": [
    "spotify_playlist_link_1 = \"https://open.spotify.com/playlist/1s7G6BsQa3QuqsMjnmQJzy?si=thqUWGlWTaWRUNFmzYWDQA&pi=sO0bxTEeRoe6B\""
   ]
  },
  {
   "cell_type": "code",
   "execution_count": null,
   "metadata": {},
   "outputs": [],
   "source": []
  }
 ],
 "metadata": {
  "kernelspec": {
   "display_name": "torch",
   "language": "python",
   "name": "python3"
  },
  "language_info": {
   "codemirror_mode": {
    "name": "ipython",
    "version": 3
   },
   "file_extension": ".py",
   "mimetype": "text/x-python",
   "name": "python",
   "nbconvert_exporter": "python",
   "pygments_lexer": "ipython3",
   "version": "3.10.14"
  }
 },
 "nbformat": 4,
 "nbformat_minor": 2
}

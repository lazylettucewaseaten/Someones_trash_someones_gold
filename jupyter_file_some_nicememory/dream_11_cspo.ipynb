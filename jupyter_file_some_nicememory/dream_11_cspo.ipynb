{
 "cells": [
  {
   "cell_type": "code",
   "execution_count": 6,
   "metadata": {},
   "outputs": [
    {
     "name": "stdout",
     "output_type": "stream",
     "text": [
      "Selected Top Players:\n",
      "                Player  Batting_Score\n",
      "0     Babar Azam (PAK)     211.409250\n",
      "2         SD Hope (WI)     193.585625\n",
      "4   Shubman Gill (IND)     191.397500\n",
      "3      BKG Mendis (SL)     190.162500\n",
      "5    KIC Asalanka (SL)     175.785875\n",
      "8       Q de Kock (SA)     154.774500\n",
      "9      HT Tector (IRE)     150.679750\n",
      "13     DA Warner (AUS)     149.359500\n",
      "10      KL Rahul (IND)     148.957625\n",
      "11    Litton Das (BAN)     148.185625\n",
      "16     RG Sharma (IND)     147.419250\n"
     ]
    }
   ],
   "source": [
    "import pandas as pd\n",
    "\n",
    "def load_data(csv_file):\n",
    "    \"\"\"Loads dataset from a CSV file and ensures numeric columns.\"\"\"\n",
    "    df = pd.read_csv(csv_file)\n",
    "    numeric_cols = [\"Runs\", \"NO\", \"Ave\", \"SR\", \"100\", \"50\", \"4s\", \"6s\", \"HS\", \"0\"]\n",
    "    df[numeric_cols] = df[numeric_cols].apply(pd.to_numeric, errors='coerce')\n",
    "    return df\n",
    "\n",
    "def compute_alpha(row):\n",
    "    \"\"\"Computes the Alpha Batsmen Score.\"\"\"\n",
    "    return (0.30 * row[\"Runs\"] + 0.05 * row[\"NO\"] +\n",
    "            0.20 * row[\"Ave\"] + 0.15 * row[\"SR\"] +\n",
    "            0.15 * (row[\"100\"] + row[\"50\"]) + 0.10 * (row[\"4s\"] + row[\"6s\"]) +\n",
    "            0.05 * row[\"HS\"] - 0.05 * row[\"0\"])\n",
    "\n",
    "def compute_batting_score(df):\n",
    "    \"\"\"Computes the final batting score for all players.\"\"\"\n",
    "    df[\"Alpha_Score\"] = df.apply(compute_alpha, axis=1)\n",
    "    df[\"Batting_Score\"] = df[\"Alpha_Score\"] * 0.25  # Applying main weight for now\n",
    "    return df\n",
    "\n",
    "def select_top_players(df, n=11):\n",
    "    \"\"\"Selects the top n players based on Batting Score.\"\"\"\n",
    "    return df.sort_values(by=\"Batting_Score\", ascending=False).head(n)\n",
    "\n",
    "def main(csv_file):\n",
    "    df = load_data(csv_file)\n",
    "    df = compute_batting_score(df)\n",
    "    top_players = select_top_players(df)\n",
    "    print(\"Selected Top Players:\")\n",
    "    print(top_players[[\"Player\", \"Batting_Score\"]])\n",
    "\n",
    "if __name__ == \"__main__\":\n",
    "    csv_file = \"batting.csv\"  # Replace with actual file path\n",
    "    main(csv_file)\n"
   ]
  },
  {
   "cell_type": "code",
   "execution_count": null,
   "metadata": {},
   "outputs": [],
   "source": []
  }
 ],
 "metadata": {
  "kernelspec": {
   "display_name": "torch",
   "language": "python",
   "name": "python3"
  },
  "language_info": {
   "codemirror_mode": {
    "name": "ipython",
    "version": 3
   },
   "file_extension": ".py",
   "mimetype": "text/x-python",
   "name": "python",
   "nbconvert_exporter": "python",
   "pygments_lexer": "ipython3",
   "version": "3.10.14"
  }
 },
 "nbformat": 4,
 "nbformat_minor": 2
}

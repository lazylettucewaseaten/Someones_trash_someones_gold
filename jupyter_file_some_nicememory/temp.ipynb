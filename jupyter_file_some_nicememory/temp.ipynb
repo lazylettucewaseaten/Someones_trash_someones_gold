{
 "cells": [
  {
   "cell_type": "code",
   "execution_count": 7,
   "metadata": {},
   "outputs": [
    {
     "data": {
      "text/plain": [
       "True"
      ]
     },
     "execution_count": 7,
     "metadata": {},
     "output_type": "execute_result"
    }
   ],
   "source": [
    "import cv2\n",
    "import numpy as np\n",
    "\n",
    "def upscale_image(image_path, scale=2):\n",
    "    image = cv2.imread(image_path)\n",
    "    height, width = image.shape[:2]\n",
    "    upscaled = cv2.resize(image, (width * scale, height * scale), interpolation=cv2.INTER_CUBIC)\n",
    "    return upscaled\n",
    "\n",
    "def unsharp_mask(image, sigma=1.0, strength=1.5):\n",
    "    # Apply Gaussian blur\n",
    "    blurred = cv2.GaussianBlur(image, (0, 0), sigma)\n",
    "    \n",
    "    # Sharpen the image\n",
    "    sharpened = cv2.addWeighted(image, 1.0 + strength, blurred, -strength, 0)\n",
    "    \n",
    "    return sharpened\n",
    "\n",
    "# Example usage\n",
    "image_path = \"Screenshot from 2025-04-02 00-48-50.png\"\n",
    "\n",
    "# Upscale the image\n",
    "upscaled = upscale_image(image_path)\n",
    "\n",
    "# Remove Gaussian Blur\n",
    "deblurred = unsharp_mask(upscaled)\n",
    "\n",
    "# Save the result\n",
    "cv2.imwrite(\"output.jpg\", deblurred)\n"
   ]
  },
  {
   "cell_type": "code",
   "execution_count": 5,
   "metadata": {},
   "outputs": [
    {
     "name": "stdout",
     "output_type": "stream",
     "text": [
      "Collecting opencv-contrib-python\n",
      "  Downloading opencv_contrib_python-4.11.0.86-cp37-abi3-manylinux_2_17_x86_64.manylinux2014_x86_64.whl.metadata (20 kB)\n",
      "Requirement already satisfied: numpy>=1.21.2 in /home/ashish/anaconda3/envs/torch/lib/python3.10/site-packages (from opencv-contrib-python) (1.26.4)\n",
      "Downloading opencv_contrib_python-4.11.0.86-cp37-abi3-manylinux_2_17_x86_64.manylinux2014_x86_64.whl (69.1 MB)\n",
      "\u001b[2K   \u001b[38;2;114;156;31m━━━━━━━━━━━━━━━━━━━━━━━━━━━━━━━━━━━━━━━━\u001b[0m \u001b[32m69.1/69.1 MB\u001b[0m \u001b[31m3.8 MB/s\u001b[0m eta \u001b[36m0:00:00\u001b[0mm eta \u001b[36m0:00:01\u001b[0m[36m0:00:01\u001b[0m\n",
      "\u001b[?25hInstalling collected packages: opencv-contrib-python\n",
      "Successfully installed opencv-contrib-python-4.11.0.86\n",
      "Note: you may need to restart the kernel to use updated packages.\n"
     ]
    }
   ],
   "source": [
    "pip install opencv-contrib-python\n"
   ]
  },
  {
   "cell_type": "code",
   "execution_count": 11,
   "metadata": {},
   "outputs": [],
   "source": [
    "import cv2\n",
    "import numpy as np\n",
    "from scipy.signal import wiener\n",
    "\n",
    "def gaussian_kernel(size, sigma):\n",
    "    k = cv2.getGaussianKernel(size, sigma)\n",
    "    kernel = np.outer(k, k)\n",
    "    return kernel\n",
    "\n",
    "def wiener_deconvolution(blurred, kernel, noise_power=0.000005):\n",
    "    kernel /= np.sum(kernel)\n",
    "    \n",
    "    img_fft = np.fft.fft2(blurred)\n",
    "    kernel_fft = np.fft.fft2(kernel, s=blurred.shape)\n",
    "    \n",
    "    kernel_fft_conj = np.conj(kernel_fft)\n",
    "    denominator = kernel_fft * kernel_fft_conj + noise_power\n",
    "    result_fft = (img_fft * kernel_fft_conj) / denominator\n",
    "    \n",
    "    result = np.fft.ifft2(result_fft).real\n",
    "    return np.clip(result, 0, 255).astype(np.uint8)\n",
    "\n",
    "def deblur_image(path, kernel_size, sigma):\n",
    "    blurred = cv2.imread(path, cv2.IMREAD_GRAYSCALE)\n",
    "    \n",
    "    kernel = gaussian_kernel(kernel_size, sigma)\n",
    "    deblurred = wiener_deconvolution(blurred, kernel)\n",
    "\n",
    "    cv2.imwrite(\"deblurred.png\", deblurred)\n",
    "\n",
    "deblur_image(\"txyx.png\", 25, 7)"
   ]
  },
  {
   "cell_type": "code",
   "execution_count": null,
   "metadata": {},
   "outputs": [],
   "source": []
  }
 ],
 "metadata": {
  "kernelspec": {
   "display_name": "torch",
   "language": "python",
   "name": "python3"
  },
  "language_info": {
   "codemirror_mode": {
    "name": "ipython",
    "version": 3
   },
   "file_extension": ".py",
   "mimetype": "text/x-python",
   "name": "python",
   "nbconvert_exporter": "python",
   "pygments_lexer": "ipython3",
   "version": "3.10.14"
  }
 },
 "nbformat": 4,
 "nbformat_minor": 2
}
